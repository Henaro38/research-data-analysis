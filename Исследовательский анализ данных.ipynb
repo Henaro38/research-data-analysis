{
 "cells": [
  {
   "cell_type": "markdown",
   "id": "55fd01dc",
   "metadata": {
    "toc": true
   },
   "source": [
    "<h1>Содержание<span class=\"tocSkip\"></span></h1>\n",
    "<div class=\"toc\"><ul class=\"toc-item\"><li><span><a href=\"#Открываем-файл-с-данными-и-изучаем-информацию\" data-toc-modified-id=\"Открываем-файл-с-данными-и-изучаем-информацию-1\"><span class=\"toc-item-num\">1&nbsp;&nbsp;</span>Открываем файл с данными и изучаем информацию</a></span><ul class=\"toc-item\"><li><span><a href=\"#Загружаем-данные\" data-toc-modified-id=\"Загружаем-данные-1.1\"><span class=\"toc-item-num\">1.1&nbsp;&nbsp;</span>Загружаем данные</a></span></li><li><span><a href=\"#Изучаем-общую-информацию\" data-toc-modified-id=\"Изучаем-общую-информацию-1.2\"><span class=\"toc-item-num\">1.2&nbsp;&nbsp;</span>Изучаем общую информацию</a></span></li><li><span><a href=\"#Строим-гистограммы-для-числовых-столбцов\" data-toc-modified-id=\"Строим-гистограммы-для-числовых-столбцов-1.3\"><span class=\"toc-item-num\">1.3&nbsp;&nbsp;</span>Строим гистограммы для числовых столбцов</a></span></li></ul></li><li><span><a href=\"#Предобработка-данных\" data-toc-modified-id=\"Предобработка-данных-2\"><span class=\"toc-item-num\">2&nbsp;&nbsp;</span>Предобработка данных</a></span><ul class=\"toc-item\"><li><span><a href=\"#Ищем-и-изучаем-пропущенные-значения-в-столбцах\" data-toc-modified-id=\"Ищем-и-изучаем-пропущенные-значения-в-столбцах-2.1\"><span class=\"toc-item-num\">2.1&nbsp;&nbsp;</span>Ищем и изучаем пропущенные значения в столбцах</a></span></li><li><span><a href=\"#Рассмотрим-столбцы-где-необходимо-поменять-типы-данных\" data-toc-modified-id=\"Рассмотрим-столбцы-где-необходимо-поменять-типы-данных-2.2\"><span class=\"toc-item-num\">2.2&nbsp;&nbsp;</span>Рассмотрим столбцы где необходимо поменять типы данных</a></span></li><li><span><a href=\"#Изучим-уникальные-значения-locality_name\" data-toc-modified-id=\"Изучим-уникальные-значения-locality_name-2.3\"><span class=\"toc-item-num\">2.3&nbsp;&nbsp;</span>Изучим уникальные значения locality_name</a></span></li></ul></li><li><span><a href=\"#Добавляем-новые-столбцы-в-таблицу\" data-toc-modified-id=\"Добавляем-новые-столбцы-в-таблицу-3\"><span class=\"toc-item-num\">3&nbsp;&nbsp;</span>Добавляем новые столбцы в таблицу</a></span></li><li><span><a href=\"#Исследовательский-анализ-данных\" data-toc-modified-id=\"Исследовательский-анализ-данных-4\"><span class=\"toc-item-num\">4&nbsp;&nbsp;</span>Исследовательский анализ данных</a></span><ul class=\"toc-item\"><li><span><a href=\"#Изучим-количество-квартир-на-рынке-в-зависимости-от-различных-показателей\" data-toc-modified-id=\"Изучим-количество-квартир-на-рынке-в-зависимости-от-различных-показателей-4.1\"><span class=\"toc-item-num\">4.1&nbsp;&nbsp;</span>Изучим количество квартир на рынке в зависимости от различных показателей</a></span></li><li><span><a href=\"#Изучим-как-быстро-продавались-квартиры\" data-toc-modified-id=\"Изучим-как-быстро-продавались-квартиры-4.2\"><span class=\"toc-item-num\">4.2&nbsp;&nbsp;</span>Изучим как быстро продавались квартиры</a></span></li><li><span><a href=\"#Определим-факторы,-которые-больше-всего-влияют-на-общую-(полную)-стоимость-объекта\" data-toc-modified-id=\"Определим-факторы,-которые-больше-всего-влияют-на-общую-(полную)-стоимость-объекта-4.3\"><span class=\"toc-item-num\">4.3&nbsp;&nbsp;</span>Определим факторы, которые больше всего влияют на общую (полную) стоимость объекта</a></span></li><li><span><a href=\"#Построим-графики-этих-значений\" data-toc-modified-id=\"Построим-графики-этих-значений-4.4\"><span class=\"toc-item-num\">4.4&nbsp;&nbsp;</span>Построим графики этих значений</a></span></li><li><span><a href=\"#Посчитаем-среднюю-цену-одного-квадратного-метра-в-10-населённых-пунктах-с-наибольшим-числом-объявлений\" data-toc-modified-id=\"Посчитаем-среднюю-цену-одного-квадратного-метра-в-10-населённых-пунктах-с-наибольшим-числом-объявлений-4.5\"><span class=\"toc-item-num\">4.5&nbsp;&nbsp;</span>Посчитаем среднюю цену одного квадратного метра в 10 населённых пунктах с наибольшим числом объявлений</a></span></li><li><span><a href=\"#Вычислим-зависимость-цены-от-удаления-от-центра-г.-Санкт-Петербург\" data-toc-modified-id=\"Вычислим-зависимость-цены-от-удаления-от-центра-г.-Санкт-Петербург-4.6\"><span class=\"toc-item-num\">4.6&nbsp;&nbsp;</span>Вычислим зависимость цены от удаления от центра г. Санкт-Петербург</a></span></li></ul></li><li><span><a href=\"#Общий-вывод\" data-toc-modified-id=\"Общий-вывод-5\"><span class=\"toc-item-num\">5&nbsp;&nbsp;</span>Общий вывод</a></span></li></ul></div>"
   ]
  },
  {
   "cell_type": "markdown",
   "id": "d365e6c5",
   "metadata": {},
   "source": [
    "# Проект: Исследовательский анализ данных"
   ]
  },
  {
   "cell_type": "markdown",
   "id": "7c2c30ab",
   "metadata": {},
   "source": [
    "В нашем распоряжении данные сервиса Яндекс Недвижимость — архив объявлений о продаже квартир в Санкт-Петербурге и соседних населённых пунктах за несколько лет. Вам нужно научиться определять рыночную стоимость объектов недвижимости. Для этого проведите исследовательский анализ данных и установите параметры, влияющие на цену объектов. Это позволит построить автоматизированную систему: она отследит аномалии и мошенническую деятельность. \n",
    "По каждой квартире на продажу доступны два вида данных. Первые вписаны пользователем, вторые — получены автоматически на основе картографических данных. Например, расстояние до центра, аэропорта и других объектов — эти данные автоматически получены из геосервисов. Количество парков и водоёмов также заполняется без участия пользователя."
   ]
  },
  {
   "cell_type": "markdown",
   "id": "33a69f3b",
   "metadata": {},
   "source": [
    "## Открываем файл с данными и изучаем информацию"
   ]
  },
  {
   "cell_type": "markdown",
   "id": "67de2483",
   "metadata": {},
   "source": [
    "###  Загружаем данные"
   ]
  },
  {
   "cell_type": "code",
   "execution_count": 1,
   "id": "c77a6462",
   "metadata": {},
   "outputs": [],
   "source": [
    "#импортируем библиотеки\n",
    "import pandas as pd\n",
    "\n",
    "import matplotlib.pyplot as plt\n",
    "\n"
   ]
  },
  {
   "cell_type": "code",
   "execution_count": 2,
   "id": "f79d549e",
   "metadata": {},
   "outputs": [],
   "source": [
    "#открываем нужный нам файл\n",
    "data = pd.read_csv('https://code.s3.yandex.net/datasets/real_estate_data.csv', sep='\\t')"
   ]
  },
  {
   "cell_type": "markdown",
   "id": "dec386bd",
   "metadata": {},
   "source": [
    "### Изучаем общую информацию"
   ]
  },
  {
   "cell_type": "code",
   "execution_count": 3,
   "id": "87df6b68",
   "metadata": {
    "scrolled": true
   },
   "outputs": [
    {
     "data": {
      "text/html": [
       "<div>\n",
       "<style scoped>\n",
       "    .dataframe tbody tr th:only-of-type {\n",
       "        vertical-align: middle;\n",
       "    }\n",
       "\n",
       "    .dataframe tbody tr th {\n",
       "        vertical-align: top;\n",
       "    }\n",
       "\n",
       "    .dataframe thead th {\n",
       "        text-align: right;\n",
       "    }\n",
       "</style>\n",
       "<table border=\"1\" class=\"dataframe\">\n",
       "  <thead>\n",
       "    <tr style=\"text-align: right;\">\n",
       "      <th></th>\n",
       "      <th>total_images</th>\n",
       "      <th>last_price</th>\n",
       "      <th>total_area</th>\n",
       "      <th>first_day_exposition</th>\n",
       "      <th>rooms</th>\n",
       "      <th>ceiling_height</th>\n",
       "      <th>floors_total</th>\n",
       "      <th>living_area</th>\n",
       "      <th>floor</th>\n",
       "      <th>is_apartment</th>\n",
       "      <th>...</th>\n",
       "      <th>kitchen_area</th>\n",
       "      <th>balcony</th>\n",
       "      <th>locality_name</th>\n",
       "      <th>airports_nearest</th>\n",
       "      <th>cityCenters_nearest</th>\n",
       "      <th>parks_around3000</th>\n",
       "      <th>parks_nearest</th>\n",
       "      <th>ponds_around3000</th>\n",
       "      <th>ponds_nearest</th>\n",
       "      <th>days_exposition</th>\n",
       "    </tr>\n",
       "  </thead>\n",
       "  <tbody>\n",
       "    <tr>\n",
       "      <th>0</th>\n",
       "      <td>20</td>\n",
       "      <td>13000000.0</td>\n",
       "      <td>108.00</td>\n",
       "      <td>2019-03-07T00:00:00</td>\n",
       "      <td>3</td>\n",
       "      <td>2.70</td>\n",
       "      <td>16.0</td>\n",
       "      <td>51.0</td>\n",
       "      <td>8</td>\n",
       "      <td>NaN</td>\n",
       "      <td>...</td>\n",
       "      <td>25.00</td>\n",
       "      <td>NaN</td>\n",
       "      <td>Санкт-Петербург</td>\n",
       "      <td>18863.0</td>\n",
       "      <td>16028.0</td>\n",
       "      <td>1.0</td>\n",
       "      <td>482.0</td>\n",
       "      <td>2.0</td>\n",
       "      <td>755.0</td>\n",
       "      <td>NaN</td>\n",
       "    </tr>\n",
       "    <tr>\n",
       "      <th>1</th>\n",
       "      <td>7</td>\n",
       "      <td>3350000.0</td>\n",
       "      <td>40.40</td>\n",
       "      <td>2018-12-04T00:00:00</td>\n",
       "      <td>1</td>\n",
       "      <td>NaN</td>\n",
       "      <td>11.0</td>\n",
       "      <td>18.6</td>\n",
       "      <td>1</td>\n",
       "      <td>NaN</td>\n",
       "      <td>...</td>\n",
       "      <td>11.00</td>\n",
       "      <td>2.0</td>\n",
       "      <td>посёлок Шушары</td>\n",
       "      <td>12817.0</td>\n",
       "      <td>18603.0</td>\n",
       "      <td>0.0</td>\n",
       "      <td>NaN</td>\n",
       "      <td>0.0</td>\n",
       "      <td>NaN</td>\n",
       "      <td>81.0</td>\n",
       "    </tr>\n",
       "    <tr>\n",
       "      <th>2</th>\n",
       "      <td>10</td>\n",
       "      <td>5196000.0</td>\n",
       "      <td>56.00</td>\n",
       "      <td>2015-08-20T00:00:00</td>\n",
       "      <td>2</td>\n",
       "      <td>NaN</td>\n",
       "      <td>5.0</td>\n",
       "      <td>34.3</td>\n",
       "      <td>4</td>\n",
       "      <td>NaN</td>\n",
       "      <td>...</td>\n",
       "      <td>8.30</td>\n",
       "      <td>0.0</td>\n",
       "      <td>Санкт-Петербург</td>\n",
       "      <td>21741.0</td>\n",
       "      <td>13933.0</td>\n",
       "      <td>1.0</td>\n",
       "      <td>90.0</td>\n",
       "      <td>2.0</td>\n",
       "      <td>574.0</td>\n",
       "      <td>558.0</td>\n",
       "    </tr>\n",
       "    <tr>\n",
       "      <th>3</th>\n",
       "      <td>0</td>\n",
       "      <td>64900000.0</td>\n",
       "      <td>159.00</td>\n",
       "      <td>2015-07-24T00:00:00</td>\n",
       "      <td>3</td>\n",
       "      <td>NaN</td>\n",
       "      <td>14.0</td>\n",
       "      <td>NaN</td>\n",
       "      <td>9</td>\n",
       "      <td>NaN</td>\n",
       "      <td>...</td>\n",
       "      <td>NaN</td>\n",
       "      <td>0.0</td>\n",
       "      <td>Санкт-Петербург</td>\n",
       "      <td>28098.0</td>\n",
       "      <td>6800.0</td>\n",
       "      <td>2.0</td>\n",
       "      <td>84.0</td>\n",
       "      <td>3.0</td>\n",
       "      <td>234.0</td>\n",
       "      <td>424.0</td>\n",
       "    </tr>\n",
       "    <tr>\n",
       "      <th>4</th>\n",
       "      <td>2</td>\n",
       "      <td>10000000.0</td>\n",
       "      <td>100.00</td>\n",
       "      <td>2018-06-19T00:00:00</td>\n",
       "      <td>2</td>\n",
       "      <td>3.03</td>\n",
       "      <td>14.0</td>\n",
       "      <td>32.0</td>\n",
       "      <td>13</td>\n",
       "      <td>NaN</td>\n",
       "      <td>...</td>\n",
       "      <td>41.00</td>\n",
       "      <td>NaN</td>\n",
       "      <td>Санкт-Петербург</td>\n",
       "      <td>31856.0</td>\n",
       "      <td>8098.0</td>\n",
       "      <td>2.0</td>\n",
       "      <td>112.0</td>\n",
       "      <td>1.0</td>\n",
       "      <td>48.0</td>\n",
       "      <td>121.0</td>\n",
       "    </tr>\n",
       "    <tr>\n",
       "      <th>...</th>\n",
       "      <td>...</td>\n",
       "      <td>...</td>\n",
       "      <td>...</td>\n",
       "      <td>...</td>\n",
       "      <td>...</td>\n",
       "      <td>...</td>\n",
       "      <td>...</td>\n",
       "      <td>...</td>\n",
       "      <td>...</td>\n",
       "      <td>...</td>\n",
       "      <td>...</td>\n",
       "      <td>...</td>\n",
       "      <td>...</td>\n",
       "      <td>...</td>\n",
       "      <td>...</td>\n",
       "      <td>...</td>\n",
       "      <td>...</td>\n",
       "      <td>...</td>\n",
       "      <td>...</td>\n",
       "      <td>...</td>\n",
       "      <td>...</td>\n",
       "    </tr>\n",
       "    <tr>\n",
       "      <th>23694</th>\n",
       "      <td>9</td>\n",
       "      <td>9700000.0</td>\n",
       "      <td>133.81</td>\n",
       "      <td>2017-03-21T00:00:00</td>\n",
       "      <td>3</td>\n",
       "      <td>3.70</td>\n",
       "      <td>5.0</td>\n",
       "      <td>73.3</td>\n",
       "      <td>3</td>\n",
       "      <td>NaN</td>\n",
       "      <td>...</td>\n",
       "      <td>13.83</td>\n",
       "      <td>NaN</td>\n",
       "      <td>Санкт-Петербург</td>\n",
       "      <td>24665.0</td>\n",
       "      <td>4232.0</td>\n",
       "      <td>1.0</td>\n",
       "      <td>796.0</td>\n",
       "      <td>3.0</td>\n",
       "      <td>381.0</td>\n",
       "      <td>NaN</td>\n",
       "    </tr>\n",
       "    <tr>\n",
       "      <th>23695</th>\n",
       "      <td>14</td>\n",
       "      <td>3100000.0</td>\n",
       "      <td>59.00</td>\n",
       "      <td>2018-01-15T00:00:00</td>\n",
       "      <td>3</td>\n",
       "      <td>NaN</td>\n",
       "      <td>5.0</td>\n",
       "      <td>38.0</td>\n",
       "      <td>4</td>\n",
       "      <td>NaN</td>\n",
       "      <td>...</td>\n",
       "      <td>8.50</td>\n",
       "      <td>NaN</td>\n",
       "      <td>Тосно</td>\n",
       "      <td>NaN</td>\n",
       "      <td>NaN</td>\n",
       "      <td>NaN</td>\n",
       "      <td>NaN</td>\n",
       "      <td>NaN</td>\n",
       "      <td>NaN</td>\n",
       "      <td>45.0</td>\n",
       "    </tr>\n",
       "    <tr>\n",
       "      <th>23696</th>\n",
       "      <td>18</td>\n",
       "      <td>2500000.0</td>\n",
       "      <td>56.70</td>\n",
       "      <td>2018-02-11T00:00:00</td>\n",
       "      <td>2</td>\n",
       "      <td>NaN</td>\n",
       "      <td>3.0</td>\n",
       "      <td>29.7</td>\n",
       "      <td>1</td>\n",
       "      <td>NaN</td>\n",
       "      <td>...</td>\n",
       "      <td>NaN</td>\n",
       "      <td>NaN</td>\n",
       "      <td>село Рождествено</td>\n",
       "      <td>NaN</td>\n",
       "      <td>NaN</td>\n",
       "      <td>NaN</td>\n",
       "      <td>NaN</td>\n",
       "      <td>NaN</td>\n",
       "      <td>NaN</td>\n",
       "      <td>NaN</td>\n",
       "    </tr>\n",
       "    <tr>\n",
       "      <th>23697</th>\n",
       "      <td>13</td>\n",
       "      <td>11475000.0</td>\n",
       "      <td>76.75</td>\n",
       "      <td>2017-03-28T00:00:00</td>\n",
       "      <td>2</td>\n",
       "      <td>3.00</td>\n",
       "      <td>17.0</td>\n",
       "      <td>NaN</td>\n",
       "      <td>12</td>\n",
       "      <td>NaN</td>\n",
       "      <td>...</td>\n",
       "      <td>23.30</td>\n",
       "      <td>2.0</td>\n",
       "      <td>Санкт-Петербург</td>\n",
       "      <td>39140.0</td>\n",
       "      <td>10364.0</td>\n",
       "      <td>2.0</td>\n",
       "      <td>173.0</td>\n",
       "      <td>3.0</td>\n",
       "      <td>196.0</td>\n",
       "      <td>602.0</td>\n",
       "    </tr>\n",
       "    <tr>\n",
       "      <th>23698</th>\n",
       "      <td>4</td>\n",
       "      <td>1350000.0</td>\n",
       "      <td>32.30</td>\n",
       "      <td>2017-07-21T00:00:00</td>\n",
       "      <td>1</td>\n",
       "      <td>2.50</td>\n",
       "      <td>5.0</td>\n",
       "      <td>12.3</td>\n",
       "      <td>1</td>\n",
       "      <td>NaN</td>\n",
       "      <td>...</td>\n",
       "      <td>9.00</td>\n",
       "      <td>NaN</td>\n",
       "      <td>поселок Новый Учхоз</td>\n",
       "      <td>NaN</td>\n",
       "      <td>NaN</td>\n",
       "      <td>NaN</td>\n",
       "      <td>NaN</td>\n",
       "      <td>NaN</td>\n",
       "      <td>NaN</td>\n",
       "      <td>NaN</td>\n",
       "    </tr>\n",
       "  </tbody>\n",
       "</table>\n",
       "<p>23699 rows × 22 columns</p>\n",
       "</div>"
      ],
      "text/plain": [
       "       total_images  last_price  total_area first_day_exposition  rooms  \\\n",
       "0                20  13000000.0      108.00  2019-03-07T00:00:00      3   \n",
       "1                 7   3350000.0       40.40  2018-12-04T00:00:00      1   \n",
       "2                10   5196000.0       56.00  2015-08-20T00:00:00      2   \n",
       "3                 0  64900000.0      159.00  2015-07-24T00:00:00      3   \n",
       "4                 2  10000000.0      100.00  2018-06-19T00:00:00      2   \n",
       "...             ...         ...         ...                  ...    ...   \n",
       "23694             9   9700000.0      133.81  2017-03-21T00:00:00      3   \n",
       "23695            14   3100000.0       59.00  2018-01-15T00:00:00      3   \n",
       "23696            18   2500000.0       56.70  2018-02-11T00:00:00      2   \n",
       "23697            13  11475000.0       76.75  2017-03-28T00:00:00      2   \n",
       "23698             4   1350000.0       32.30  2017-07-21T00:00:00      1   \n",
       "\n",
       "       ceiling_height  floors_total  living_area  floor is_apartment  ...  \\\n",
       "0                2.70          16.0         51.0      8          NaN  ...   \n",
       "1                 NaN          11.0         18.6      1          NaN  ...   \n",
       "2                 NaN           5.0         34.3      4          NaN  ...   \n",
       "3                 NaN          14.0          NaN      9          NaN  ...   \n",
       "4                3.03          14.0         32.0     13          NaN  ...   \n",
       "...               ...           ...          ...    ...          ...  ...   \n",
       "23694            3.70           5.0         73.3      3          NaN  ...   \n",
       "23695             NaN           5.0         38.0      4          NaN  ...   \n",
       "23696             NaN           3.0         29.7      1          NaN  ...   \n",
       "23697            3.00          17.0          NaN     12          NaN  ...   \n",
       "23698            2.50           5.0         12.3      1          NaN  ...   \n",
       "\n",
       "       kitchen_area  balcony        locality_name  airports_nearest  \\\n",
       "0             25.00      NaN      Санкт-Петербург           18863.0   \n",
       "1             11.00      2.0       посёлок Шушары           12817.0   \n",
       "2              8.30      0.0      Санкт-Петербург           21741.0   \n",
       "3               NaN      0.0      Санкт-Петербург           28098.0   \n",
       "4             41.00      NaN      Санкт-Петербург           31856.0   \n",
       "...             ...      ...                  ...               ...   \n",
       "23694         13.83      NaN      Санкт-Петербург           24665.0   \n",
       "23695          8.50      NaN                Тосно               NaN   \n",
       "23696           NaN      NaN     село Рождествено               NaN   \n",
       "23697         23.30      2.0      Санкт-Петербург           39140.0   \n",
       "23698          9.00      NaN  поселок Новый Учхоз               NaN   \n",
       "\n",
       "      cityCenters_nearest  parks_around3000  parks_nearest  ponds_around3000  \\\n",
       "0                 16028.0               1.0          482.0               2.0   \n",
       "1                 18603.0               0.0            NaN               0.0   \n",
       "2                 13933.0               1.0           90.0               2.0   \n",
       "3                  6800.0               2.0           84.0               3.0   \n",
       "4                  8098.0               2.0          112.0               1.0   \n",
       "...                   ...               ...            ...               ...   \n",
       "23694              4232.0               1.0          796.0               3.0   \n",
       "23695                 NaN               NaN            NaN               NaN   \n",
       "23696                 NaN               NaN            NaN               NaN   \n",
       "23697             10364.0               2.0          173.0               3.0   \n",
       "23698                 NaN               NaN            NaN               NaN   \n",
       "\n",
       "       ponds_nearest  days_exposition  \n",
       "0              755.0              NaN  \n",
       "1                NaN             81.0  \n",
       "2              574.0            558.0  \n",
       "3              234.0            424.0  \n",
       "4               48.0            121.0  \n",
       "...              ...              ...  \n",
       "23694          381.0              NaN  \n",
       "23695            NaN             45.0  \n",
       "23696            NaN              NaN  \n",
       "23697          196.0            602.0  \n",
       "23698            NaN              NaN  \n",
       "\n",
       "[23699 rows x 22 columns]"
      ]
     },
     "execution_count": 3,
     "metadata": {},
     "output_type": "execute_result"
    }
   ],
   "source": [
    "data#.head(10)"
   ]
  },
  {
   "cell_type": "markdown",
   "id": "daff7de0",
   "metadata": {},
   "source": [
    "locality_time необходимо будет привести у нижнему регистру"
   ]
  },
  {
   "cell_type": "code",
   "execution_count": 4,
   "id": "eead619c",
   "metadata": {},
   "outputs": [
    {
     "name": "stdout",
     "output_type": "stream",
     "text": [
      "<class 'pandas.core.frame.DataFrame'>\n",
      "RangeIndex: 23699 entries, 0 to 23698\n",
      "Data columns (total 22 columns):\n",
      " #   Column                Non-Null Count  Dtype  \n",
      "---  ------                --------------  -----  \n",
      " 0   total_images          23699 non-null  int64  \n",
      " 1   last_price            23699 non-null  float64\n",
      " 2   total_area            23699 non-null  float64\n",
      " 3   first_day_exposition  23699 non-null  object \n",
      " 4   rooms                 23699 non-null  int64  \n",
      " 5   ceiling_height        14504 non-null  float64\n",
      " 6   floors_total          23613 non-null  float64\n",
      " 7   living_area           21796 non-null  float64\n",
      " 8   floor                 23699 non-null  int64  \n",
      " 9   is_apartment          2775 non-null   object \n",
      " 10  studio                23699 non-null  bool   \n",
      " 11  open_plan             23699 non-null  bool   \n",
      " 12  kitchen_area          21421 non-null  float64\n",
      " 13  balcony               12180 non-null  float64\n",
      " 14  locality_name         23650 non-null  object \n",
      " 15  airports_nearest      18157 non-null  float64\n",
      " 16  cityCenters_nearest   18180 non-null  float64\n",
      " 17  parks_around3000      18181 non-null  float64\n",
      " 18  parks_nearest         8079 non-null   float64\n",
      " 19  ponds_around3000      18181 non-null  float64\n",
      " 20  ponds_nearest         9110 non-null   float64\n",
      " 21  days_exposition       20518 non-null  float64\n",
      "dtypes: bool(2), float64(14), int64(3), object(3)\n",
      "memory usage: 3.7+ MB\n"
     ]
    }
   ],
   "source": [
    "#смотрим информацию о датафрейме\n",
    "data.info()"
   ]
  },
  {
   "cell_type": "markdown",
   "id": "bae42a12",
   "metadata": {},
   "source": [
    "1.last_price - поменять тип данных на int64, т.к там должны быть только целые числа  \n",
    "2.first_day_exposition - поменять тип данных да datetime64, т.к. там должны быть даты  \n",
    "3.is_apartment - поменять тип данных на bool т.к. это булево значение  \n",
    "4.parks_around3000, ponds_around3000, days_exposition поменять тип данных на int64, не может же быть 2.3 водоема  "
   ]
  },
  {
   "cell_type": "code",
   "execution_count": 5,
   "id": "d6c1e2ab",
   "metadata": {
    "scrolled": false
   },
   "outputs": [
    {
     "data": {
      "text/html": [
       "<div>\n",
       "<style scoped>\n",
       "    .dataframe tbody tr th:only-of-type {\n",
       "        vertical-align: middle;\n",
       "    }\n",
       "\n",
       "    .dataframe tbody tr th {\n",
       "        vertical-align: top;\n",
       "    }\n",
       "\n",
       "    .dataframe thead th {\n",
       "        text-align: right;\n",
       "    }\n",
       "</style>\n",
       "<table border=\"1\" class=\"dataframe\">\n",
       "  <thead>\n",
       "    <tr style=\"text-align: right;\">\n",
       "      <th></th>\n",
       "      <th>total_images</th>\n",
       "      <th>last_price</th>\n",
       "      <th>total_area</th>\n",
       "      <th>rooms</th>\n",
       "      <th>ceiling_height</th>\n",
       "      <th>floors_total</th>\n",
       "      <th>living_area</th>\n",
       "      <th>floor</th>\n",
       "      <th>kitchen_area</th>\n",
       "      <th>balcony</th>\n",
       "      <th>airports_nearest</th>\n",
       "      <th>cityCenters_nearest</th>\n",
       "      <th>parks_around3000</th>\n",
       "      <th>parks_nearest</th>\n",
       "      <th>ponds_around3000</th>\n",
       "      <th>ponds_nearest</th>\n",
       "      <th>days_exposition</th>\n",
       "    </tr>\n",
       "  </thead>\n",
       "  <tbody>\n",
       "    <tr>\n",
       "      <th>count</th>\n",
       "      <td>23699.000000</td>\n",
       "      <td>2.369900e+04</td>\n",
       "      <td>23699.000000</td>\n",
       "      <td>23699.000000</td>\n",
       "      <td>14504.000000</td>\n",
       "      <td>23613.000000</td>\n",
       "      <td>21796.000000</td>\n",
       "      <td>23699.000000</td>\n",
       "      <td>21421.000000</td>\n",
       "      <td>12180.000000</td>\n",
       "      <td>18157.000000</td>\n",
       "      <td>18180.000000</td>\n",
       "      <td>18181.000000</td>\n",
       "      <td>8079.000000</td>\n",
       "      <td>18181.000000</td>\n",
       "      <td>9110.000000</td>\n",
       "      <td>20518.000000</td>\n",
       "    </tr>\n",
       "    <tr>\n",
       "      <th>mean</th>\n",
       "      <td>9.858475</td>\n",
       "      <td>6.541549e+06</td>\n",
       "      <td>60.348651</td>\n",
       "      <td>2.070636</td>\n",
       "      <td>2.771499</td>\n",
       "      <td>10.673824</td>\n",
       "      <td>34.457852</td>\n",
       "      <td>5.892358</td>\n",
       "      <td>10.569807</td>\n",
       "      <td>1.150082</td>\n",
       "      <td>28793.672193</td>\n",
       "      <td>14191.277833</td>\n",
       "      <td>0.611408</td>\n",
       "      <td>490.804555</td>\n",
       "      <td>0.770255</td>\n",
       "      <td>517.980900</td>\n",
       "      <td>180.888634</td>\n",
       "    </tr>\n",
       "    <tr>\n",
       "      <th>std</th>\n",
       "      <td>5.682529</td>\n",
       "      <td>1.088701e+07</td>\n",
       "      <td>35.654083</td>\n",
       "      <td>1.078405</td>\n",
       "      <td>1.261056</td>\n",
       "      <td>6.597173</td>\n",
       "      <td>22.030445</td>\n",
       "      <td>4.885249</td>\n",
       "      <td>5.905438</td>\n",
       "      <td>1.071300</td>\n",
       "      <td>12630.880622</td>\n",
       "      <td>8608.386210</td>\n",
       "      <td>0.802074</td>\n",
       "      <td>342.317995</td>\n",
       "      <td>0.938346</td>\n",
       "      <td>277.720643</td>\n",
       "      <td>219.727988</td>\n",
       "    </tr>\n",
       "    <tr>\n",
       "      <th>min</th>\n",
       "      <td>0.000000</td>\n",
       "      <td>1.219000e+04</td>\n",
       "      <td>12.000000</td>\n",
       "      <td>0.000000</td>\n",
       "      <td>1.000000</td>\n",
       "      <td>1.000000</td>\n",
       "      <td>2.000000</td>\n",
       "      <td>1.000000</td>\n",
       "      <td>1.300000</td>\n",
       "      <td>0.000000</td>\n",
       "      <td>0.000000</td>\n",
       "      <td>181.000000</td>\n",
       "      <td>0.000000</td>\n",
       "      <td>1.000000</td>\n",
       "      <td>0.000000</td>\n",
       "      <td>13.000000</td>\n",
       "      <td>1.000000</td>\n",
       "    </tr>\n",
       "    <tr>\n",
       "      <th>25%</th>\n",
       "      <td>6.000000</td>\n",
       "      <td>3.400000e+06</td>\n",
       "      <td>40.000000</td>\n",
       "      <td>1.000000</td>\n",
       "      <td>2.520000</td>\n",
       "      <td>5.000000</td>\n",
       "      <td>18.600000</td>\n",
       "      <td>2.000000</td>\n",
       "      <td>7.000000</td>\n",
       "      <td>0.000000</td>\n",
       "      <td>18585.000000</td>\n",
       "      <td>9238.000000</td>\n",
       "      <td>0.000000</td>\n",
       "      <td>288.000000</td>\n",
       "      <td>0.000000</td>\n",
       "      <td>294.000000</td>\n",
       "      <td>45.000000</td>\n",
       "    </tr>\n",
       "    <tr>\n",
       "      <th>50%</th>\n",
       "      <td>9.000000</td>\n",
       "      <td>4.650000e+06</td>\n",
       "      <td>52.000000</td>\n",
       "      <td>2.000000</td>\n",
       "      <td>2.650000</td>\n",
       "      <td>9.000000</td>\n",
       "      <td>30.000000</td>\n",
       "      <td>4.000000</td>\n",
       "      <td>9.100000</td>\n",
       "      <td>1.000000</td>\n",
       "      <td>26726.000000</td>\n",
       "      <td>13098.500000</td>\n",
       "      <td>0.000000</td>\n",
       "      <td>455.000000</td>\n",
       "      <td>1.000000</td>\n",
       "      <td>502.000000</td>\n",
       "      <td>95.000000</td>\n",
       "    </tr>\n",
       "    <tr>\n",
       "      <th>75%</th>\n",
       "      <td>14.000000</td>\n",
       "      <td>6.800000e+06</td>\n",
       "      <td>69.900000</td>\n",
       "      <td>3.000000</td>\n",
       "      <td>2.800000</td>\n",
       "      <td>16.000000</td>\n",
       "      <td>42.300000</td>\n",
       "      <td>8.000000</td>\n",
       "      <td>12.000000</td>\n",
       "      <td>2.000000</td>\n",
       "      <td>37273.000000</td>\n",
       "      <td>16293.000000</td>\n",
       "      <td>1.000000</td>\n",
       "      <td>612.000000</td>\n",
       "      <td>1.000000</td>\n",
       "      <td>729.000000</td>\n",
       "      <td>232.000000</td>\n",
       "    </tr>\n",
       "    <tr>\n",
       "      <th>max</th>\n",
       "      <td>50.000000</td>\n",
       "      <td>7.630000e+08</td>\n",
       "      <td>900.000000</td>\n",
       "      <td>19.000000</td>\n",
       "      <td>100.000000</td>\n",
       "      <td>60.000000</td>\n",
       "      <td>409.700000</td>\n",
       "      <td>33.000000</td>\n",
       "      <td>112.000000</td>\n",
       "      <td>5.000000</td>\n",
       "      <td>84869.000000</td>\n",
       "      <td>65968.000000</td>\n",
       "      <td>3.000000</td>\n",
       "      <td>3190.000000</td>\n",
       "      <td>3.000000</td>\n",
       "      <td>1344.000000</td>\n",
       "      <td>1580.000000</td>\n",
       "    </tr>\n",
       "  </tbody>\n",
       "</table>\n",
       "</div>"
      ],
      "text/plain": [
       "       total_images    last_price    total_area         rooms  ceiling_height  \\\n",
       "count  23699.000000  2.369900e+04  23699.000000  23699.000000    14504.000000   \n",
       "mean       9.858475  6.541549e+06     60.348651      2.070636        2.771499   \n",
       "std        5.682529  1.088701e+07     35.654083      1.078405        1.261056   \n",
       "min        0.000000  1.219000e+04     12.000000      0.000000        1.000000   \n",
       "25%        6.000000  3.400000e+06     40.000000      1.000000        2.520000   \n",
       "50%        9.000000  4.650000e+06     52.000000      2.000000        2.650000   \n",
       "75%       14.000000  6.800000e+06     69.900000      3.000000        2.800000   \n",
       "max       50.000000  7.630000e+08    900.000000     19.000000      100.000000   \n",
       "\n",
       "       floors_total   living_area         floor  kitchen_area       balcony  \\\n",
       "count  23613.000000  21796.000000  23699.000000  21421.000000  12180.000000   \n",
       "mean      10.673824     34.457852      5.892358     10.569807      1.150082   \n",
       "std        6.597173     22.030445      4.885249      5.905438      1.071300   \n",
       "min        1.000000      2.000000      1.000000      1.300000      0.000000   \n",
       "25%        5.000000     18.600000      2.000000      7.000000      0.000000   \n",
       "50%        9.000000     30.000000      4.000000      9.100000      1.000000   \n",
       "75%       16.000000     42.300000      8.000000     12.000000      2.000000   \n",
       "max       60.000000    409.700000     33.000000    112.000000      5.000000   \n",
       "\n",
       "       airports_nearest  cityCenters_nearest  parks_around3000  parks_nearest  \\\n",
       "count      18157.000000         18180.000000      18181.000000    8079.000000   \n",
       "mean       28793.672193         14191.277833          0.611408     490.804555   \n",
       "std        12630.880622          8608.386210          0.802074     342.317995   \n",
       "min            0.000000           181.000000          0.000000       1.000000   \n",
       "25%        18585.000000          9238.000000          0.000000     288.000000   \n",
       "50%        26726.000000         13098.500000          0.000000     455.000000   \n",
       "75%        37273.000000         16293.000000          1.000000     612.000000   \n",
       "max        84869.000000         65968.000000          3.000000    3190.000000   \n",
       "\n",
       "       ponds_around3000  ponds_nearest  days_exposition  \n",
       "count      18181.000000    9110.000000     20518.000000  \n",
       "mean           0.770255     517.980900       180.888634  \n",
       "std            0.938346     277.720643       219.727988  \n",
       "min            0.000000      13.000000         1.000000  \n",
       "25%            0.000000     294.000000        45.000000  \n",
       "50%            1.000000     502.000000        95.000000  \n",
       "75%            1.000000     729.000000       232.000000  \n",
       "max            3.000000    1344.000000      1580.000000  "
      ]
     },
     "execution_count": 5,
     "metadata": {},
     "output_type": "execute_result"
    }
   ],
   "source": [
    "#Смотрим основные характеристики датасета в один клик\n",
    "data.describe()"
   ]
  },
  {
   "cell_type": "code",
   "execution_count": 6,
   "id": "77cfc74b",
   "metadata": {},
   "outputs": [
    {
     "data": {
      "text/plain": [
       "0"
      ]
     },
     "execution_count": 6,
     "metadata": {},
     "output_type": "execute_result"
    }
   ],
   "source": [
    "#смотрим количество дубликатов\n",
    "data.duplicated().sum()"
   ]
  },
  {
   "cell_type": "markdown",
   "id": "5d2c5a63",
   "metadata": {},
   "source": [
    "Явных дубликатов нету - это чуть упрощает работу"
   ]
  },
  {
   "cell_type": "markdown",
   "id": "26c27ef6",
   "metadata": {},
   "source": [
    "### Строим гистограммы для числовых столбцов"
   ]
  },
  {
   "cell_type": "code",
   "execution_count": 7,
   "id": "2e15b797",
   "metadata": {},
   "outputs": [
    {
     "data": {
      "image/png": "[encoded data removed]",
      "text/plain": [
       "<Figure size 1080x1440 with 20 Axes>"
      ]
     },
     "metadata": {
      "needs_background": "light"
     },
     "output_type": "display_data"
    }
   ],
   "source": [
    "#строим гистограмму\n",
    "data.hist(figsize=(15, 20))\n",
    "plt.show()"
   ]
  },
  {
   "cell_type": "markdown",
   "id": "dd33ace9",
   "metadata": {},
   "source": [
    "В данных 23699 записи.Есть пропущенные значения и некорректный тип данных.Явные дубликаты отсутствуют."
   ]
  },
  {
   "cell_type": "markdown",
   "id": "fc8f5773",
   "metadata": {},
   "source": [
    "##  Предобработка данных"
   ]
  },
  {
   "cell_type": "markdown",
   "id": "ef0a9133",
   "metadata": {},
   "source": [
    "###  Ищем и изучаем пропущенные значения в столбцах"
   ]
  },
  {
   "cell_type": "code",
   "execution_count": 8,
   "id": "752bddac",
   "metadata": {
    "scrolled": false
   },
   "outputs": [
    {
     "data": {
      "text/plain": [
       "total_images                0\n",
       "last_price                  0\n",
       "total_area                  0\n",
       "first_day_exposition        0\n",
       "rooms                       0\n",
       "ceiling_height           9195\n",
       "floors_total               86\n",
       "living_area              1903\n",
       "floor                       0\n",
       "is_apartment            20924\n",
       "studio                      0\n",
       "open_plan                   0\n",
       "kitchen_area             2278\n",
       "balcony                 11519\n",
       "locality_name              49\n",
       "airports_nearest         5542\n",
       "cityCenters_nearest      5519\n",
       "parks_around3000         5518\n",
       "parks_nearest           15620\n",
       "ponds_around3000         5518\n",
       "ponds_nearest           14589\n",
       "days_exposition          3181\n",
       "dtype: int64"
      ]
     },
     "execution_count": 8,
     "metadata": {},
     "output_type": "execute_result"
    }
   ],
   "source": [
    "#Смотрим количество пропусков\n",
    "data.isna().sum()"
   ]
  },
  {
   "cell_type": "markdown",
   "id": "bedd236e",
   "metadata": {},
   "source": [
    "<div class=\"alert alert-warning\" style=\"border-radius: 10px; box-shadow: 2px 2px 2px; border: 1px solid; padding: 10px \">\n",
    "<b>Комментарий ревьюера v.1</b> \n",
    "    \n",
    "📝 \n",
    "Также, помимо абсолютных значений мы можем посмотреть долю пропусков, и на основании этого принять решение о удалении, замене либо игнорировании пропусков, например: `pd.DataFrame(round(df.isna().mean()*100,1)).style.background_gradient('coolwarm')`\n",
    "    \n",
    "    \n",
    "</div>"
   ]
  },
  {
   "cell_type": "markdown",
   "id": "cef92ff5",
   "metadata": {},
   "source": [
    "Получается что пропуски в 14 столбцах, сейчас будем смотреть какие значения можно изменить"
   ]
  },
  {
   "cell_type": "markdown",
   "id": "2345437b",
   "metadata": {},
   "source": [
    "1.ceiling_height(высота потолков) - поменяем на медианное значение  \n",
    "2.floors_total(кол-во этажей в доме) - поменяем на медианное значение  \n",
    "3.living_area(жилая площадь) - ничего не меняем   \n",
    "4.is_apartment(это аппартаменты?) - пока не трогаем, не самое важное значение    \n",
    "5.kitchen_area(площадь кухни) - ничего не меняем \n",
    "6.balcony(наличие балкона) - если не заполнили то скорее всего нет, поменяем значение на 0  \n",
    "7.locality_name(название населенного пункта) - скорее всего невозможно определить, поставим значение неизвестно  \n",
    "8.airports_nearest(наличие рядом аэропорта) - скорее всего его нет, ничего не меняем \n",
    "9.cityCenters_nearest(центр города) - скорее всего далеко от центра города, ничего не меняем  \n",
    "10.parks_around3000(парки в радиусе 3км) - скорее всего нету или люди сами не знают, меняем на 0  \n",
    "11.parks_nearest(расстояние до ближайшего водоема) - скорее всего нету,ничего не меняем \n",
    "12.ponds_around3000(количество водоемов в радиусе 3км) - скорее всего нету или люди сами не знают, меняем на 0  \n",
    "13.ponds_nearest(расстояние до ближайшего парка) - скорее всего нету или люди сами не знают,ничего не меняем \n",
    "14.days_exposition(сколько времени висело объявление) - ничего не меняем, возможно там где не указано объявления еще висят.  "
   ]
  },
  {
   "cell_type": "markdown",
   "id": "6b9da005",
   "metadata": {},
   "source": [
    "Посмотрим каждый столбец отдельно"
   ]
  },
  {
   "cell_type": "code",
   "execution_count": 9,
   "id": "b76f6cda",
   "metadata": {},
   "outputs": [
    {
     "data": {
      "text/html": [
       "<style  type=\"text/css\" >\n",
       "#T_800bd_row0_col0,#T_800bd_row1_col0,#T_800bd_row2_col0,#T_800bd_row3_col0,#T_800bd_row4_col0,#T_800bd_row8_col0,#T_800bd_row10_col0,#T_800bd_row11_col0,#T_800bd_row14_col0{\n",
       "            background-color:  #3b4cc0;\n",
       "            color:  #f1f1f1;\n",
       "        }#T_800bd_row5_col0{\n",
       "            background-color:  #ccd9ed;\n",
       "            color:  #000000;\n",
       "        }#T_800bd_row6_col0{\n",
       "            background-color:  #3c4ec2;\n",
       "            color:  #f1f1f1;\n",
       "        }#T_800bd_row7_col0{\n",
       "            background-color:  #5673e0;\n",
       "            color:  #000000;\n",
       "        }#T_800bd_row9_col0{\n",
       "            background-color:  #b40426;\n",
       "            color:  #f1f1f1;\n",
       "        }#T_800bd_row12_col0{\n",
       "            background-color:  #5b7ae5;\n",
       "            color:  #000000;\n",
       "        }#T_800bd_row13_col0{\n",
       "            background-color:  #e9d5cb;\n",
       "            color:  #000000;\n",
       "        }#T_800bd_row15_col0,#T_800bd_row16_col0,#T_800bd_row17_col0,#T_800bd_row19_col0{\n",
       "            background-color:  #92b4fe;\n",
       "            color:  #000000;\n",
       "        }#T_800bd_row18_col0{\n",
       "            background-color:  #f49a7b;\n",
       "            color:  #000000;\n",
       "        }#T_800bd_row20_col0{\n",
       "            background-color:  #f7ad90;\n",
       "            color:  #000000;\n",
       "        }#T_800bd_row21_col0{\n",
       "            background-color:  #6a8bef;\n",
       "            color:  #000000;\n",
       "        }</style><table id=\"T_800bd_\" ><thead>    <tr>        <th class=\"blank level0\" ></th>        <th class=\"col_heading level0 col0\" >0</th>    </tr></thead><tbody>\n",
       "                <tr>\n",
       "                        <th id=\"T_800bd_level0_row0\" class=\"row_heading level0 row0\" >total_images</th>\n",
       "                        <td id=\"T_800bd_row0_col0\" class=\"data row0 col0\" >0.000000</td>\n",
       "            </tr>\n",
       "            <tr>\n",
       "                        <th id=\"T_800bd_level0_row1\" class=\"row_heading level0 row1\" >last_price</th>\n",
       "                        <td id=\"T_800bd_row1_col0\" class=\"data row1 col0\" >0.000000</td>\n",
       "            </tr>\n",
       "            <tr>\n",
       "                        <th id=\"T_800bd_level0_row2\" class=\"row_heading level0 row2\" >total_area</th>\n",
       "                        <td id=\"T_800bd_row2_col0\" class=\"data row2 col0\" >0.000000</td>\n",
       "            </tr>\n",
       "            <tr>\n",
       "                        <th id=\"T_800bd_level0_row3\" class=\"row_heading level0 row3\" >first_day_exposition</th>\n",
       "                        <td id=\"T_800bd_row3_col0\" class=\"data row3 col0\" >0.000000</td>\n",
       "            </tr>\n",
       "            <tr>\n",
       "                        <th id=\"T_800bd_level0_row4\" class=\"row_heading level0 row4\" >rooms</th>\n",
       "                        <td id=\"T_800bd_row4_col0\" class=\"data row4 col0\" >0.000000</td>\n",
       "            </tr>\n",
       "            <tr>\n",
       "                        <th id=\"T_800bd_level0_row5\" class=\"row_heading level0 row5\" >ceiling_height</th>\n",
       "                        <td id=\"T_800bd_row5_col0\" class=\"data row5 col0\" >38.800000</td>\n",
       "            </tr>\n",
       "            <tr>\n",
       "                        <th id=\"T_800bd_level0_row6\" class=\"row_heading level0 row6\" >floors_total</th>\n",
       "                        <td id=\"T_800bd_row6_col0\" class=\"data row6 col0\" >0.400000</td>\n",
       "            </tr>\n",
       "            <tr>\n",
       "                        <th id=\"T_800bd_level0_row7\" class=\"row_heading level0 row7\" >living_area</th>\n",
       "                        <td id=\"T_800bd_row7_col0\" class=\"data row7 col0\" >8.000000</td>\n",
       "            </tr>\n",
       "            <tr>\n",
       "                        <th id=\"T_800bd_level0_row8\" class=\"row_heading level0 row8\" >floor</th>\n",
       "                        <td id=\"T_800bd_row8_col0\" class=\"data row8 col0\" >0.000000</td>\n",
       "            </tr>\n",
       "            <tr>\n",
       "                        <th id=\"T_800bd_level0_row9\" class=\"row_heading level0 row9\" >is_apartment</th>\n",
       "                        <td id=\"T_800bd_row9_col0\" class=\"data row9 col0\" >88.300000</td>\n",
       "            </tr>\n",
       "            <tr>\n",
       "                        <th id=\"T_800bd_level0_row10\" class=\"row_heading level0 row10\" >studio</th>\n",
       "                        <td id=\"T_800bd_row10_col0\" class=\"data row10 col0\" >0.000000</td>\n",
       "            </tr>\n",
       "            <tr>\n",
       "                        <th id=\"T_800bd_level0_row11\" class=\"row_heading level0 row11\" >open_plan</th>\n",
       "                        <td id=\"T_800bd_row11_col0\" class=\"data row11 col0\" >0.000000</td>\n",
       "            </tr>\n",
       "            <tr>\n",
       "                        <th id=\"T_800bd_level0_row12\" class=\"row_heading level0 row12\" >kitchen_area</th>\n",
       "                        <td id=\"T_800bd_row12_col0\" class=\"data row12 col0\" >9.600000</td>\n",
       "            </tr>\n",
       "            <tr>\n",
       "                        <th id=\"T_800bd_level0_row13\" class=\"row_heading level0 row13\" >balcony</th>\n",
       "                        <td id=\"T_800bd_row13_col0\" class=\"data row13 col0\" >48.600000</td>\n",
       "            </tr>\n",
       "            <tr>\n",
       "                        <th id=\"T_800bd_level0_row14\" class=\"row_heading level0 row14\" >locality_name</th>\n",
       "                        <td id=\"T_800bd_row14_col0\" class=\"data row14 col0\" >0.200000</td>\n",
       "            </tr>\n",
       "            <tr>\n",
       "                        <th id=\"T_800bd_level0_row15\" class=\"row_heading level0 row15\" >airports_nearest</th>\n",
       "                        <td id=\"T_800bd_row15_col0\" class=\"data row15 col0\" >23.400000</td>\n",
       "            </tr>\n",
       "            <tr>\n",
       "                        <th id=\"T_800bd_level0_row16\" class=\"row_heading level0 row16\" >cityCenters_nearest</th>\n",
       "                        <td id=\"T_800bd_row16_col0\" class=\"data row16 col0\" >23.300000</td>\n",
       "            </tr>\n",
       "            <tr>\n",
       "                        <th id=\"T_800bd_level0_row17\" class=\"row_heading level0 row17\" >parks_around3000</th>\n",
       "                        <td id=\"T_800bd_row17_col0\" class=\"data row17 col0\" >23.300000</td>\n",
       "            </tr>\n",
       "            <tr>\n",
       "                        <th id=\"T_800bd_level0_row18\" class=\"row_heading level0 row18\" >parks_nearest</th>\n",
       "                        <td id=\"T_800bd_row18_col0\" class=\"data row18 col0\" >65.900000</td>\n",
       "            </tr>\n",
       "            <tr>\n",
       "                        <th id=\"T_800bd_level0_row19\" class=\"row_heading level0 row19\" >ponds_around3000</th>\n",
       "                        <td id=\"T_800bd_row19_col0\" class=\"data row19 col0\" >23.300000</td>\n",
       "            </tr>\n",
       "            <tr>\n",
       "                        <th id=\"T_800bd_level0_row20\" class=\"row_heading level0 row20\" >ponds_nearest</th>\n",
       "                        <td id=\"T_800bd_row20_col0\" class=\"data row20 col0\" >61.600000</td>\n",
       "            </tr>\n",
       "            <tr>\n",
       "                        <th id=\"T_800bd_level0_row21\" class=\"row_heading level0 row21\" >days_exposition</th>\n",
       "                        <td id=\"T_800bd_row21_col0\" class=\"data row21 col0\" >13.400000</td>\n",
       "            </tr>\n",
       "    </tbody></table>"
      ],
      "text/plain": [
       "<pandas.io.formats.style.Styler at 0x7f7b9deaae20>"
      ]
     },
     "execution_count": 9,
     "metadata": {},
     "output_type": "execute_result"
    }
   ],
   "source": [
    "#смотрим процент пропусков от общего количества строк\n",
    "pd.DataFrame(round(data.isna().mean()*100,1)).style.background_gradient('coolwarm')"
   ]
  },
  {
   "cell_type": "code",
   "execution_count": 10,
   "id": "11dd24bc",
   "metadata": {},
   "outputs": [
    {
     "data": {
      "text/plain": [
       "0        2.70\n",
       "1         NaN\n",
       "2         NaN\n",
       "3         NaN\n",
       "4        3.03\n",
       "         ... \n",
       "23694    3.70\n",
       "23695     NaN\n",
       "23696     NaN\n",
       "23697    3.00\n",
       "23698    2.50\n",
       "Name: ceiling_height, Length: 23699, dtype: float64"
      ]
     },
     "execution_count": 10,
     "metadata": {},
     "output_type": "execute_result"
    }
   ],
   "source": [
    "data.ceiling_height"
   ]
  },
  {
   "cell_type": "markdown",
   "id": "646c1eea",
   "metadata": {},
   "source": [
    "Возможно не знают высоту потолков или намеренно не стали заполнять"
   ]
  },
  {
   "cell_type": "code",
   "execution_count": 11,
   "id": "ca2fb5b3",
   "metadata": {},
   "outputs": [
    {
     "data": {
      "text/plain": [
       "0        2.70\n",
       "1        2.65\n",
       "2        2.65\n",
       "3        2.65\n",
       "4        3.03\n",
       "         ... \n",
       "23694    3.70\n",
       "23695    2.65\n",
       "23696    2.65\n",
       "23697    3.00\n",
       "23698    2.50\n",
       "Name: ceiling_height, Length: 23699, dtype: float64"
      ]
     },
     "execution_count": 11,
     "metadata": {},
     "output_type": "execute_result"
    }
   ],
   "source": [
    "#меняем неизвестные значения на медианные\n",
    "data.ceiling_height = data.ceiling_height.fillna(data.ceiling_height.median()).round(2)\n",
    "data.ceiling_height "
   ]
  },
  {
   "cell_type": "code",
   "execution_count": 12,
   "id": "f5a9ee2c",
   "metadata": {},
   "outputs": [
    {
     "data": {
      "text/plain": [
       "0    16.0\n",
       "1    11.0\n",
       "2     5.0\n",
       "3    14.0\n",
       "4    14.0\n",
       "5    12.0\n",
       "6    26.0\n",
       "7    24.0\n",
       "8    27.0\n",
       "9     9.0\n",
       "Name: floors_total, dtype: float64"
      ]
     },
     "execution_count": 12,
     "metadata": {},
     "output_type": "execute_result"
    }
   ],
   "source": [
    "#смотрим столбец floors_total\n",
    "data.floors_total.head(10)"
   ]
  },
  {
   "cell_type": "markdown",
   "id": "27fd868f",
   "metadata": {},
   "source": [
    "Скорее всего пропутсили столбец, удаляем пропуски"
   ]
  },
  {
   "cell_type": "code",
   "execution_count": 13,
   "id": "d6146963",
   "metadata": {},
   "outputs": [
    {
     "data": {
      "text/plain": [
       "0        16\n",
       "1        11\n",
       "2         5\n",
       "3        14\n",
       "4        14\n",
       "         ..\n",
       "23694     5\n",
       "23695     5\n",
       "23696     3\n",
       "23697    17\n",
       "23698     5\n",
       "Name: floors_total, Length: 23699, dtype: int64"
      ]
     },
     "execution_count": 13,
     "metadata": {},
     "output_type": "execute_result"
    }
   ],
   "source": [
    "#меняем неизвестные значения на медианные\n",
    "data.floors_total = data.floors_total.fillna(0)\n",
    "#меняем тип данных на int т.к. количество этажей может быть только целое значение\n",
    "data.floors_total = data.floors_total.astype(int)\n",
    "data.floors_total"
   ]
  },
  {
   "cell_type": "code",
   "execution_count": 14,
   "id": "f40f1f37",
   "metadata": {},
   "outputs": [
    {
     "data": {
      "text/plain": [
       "0        51.0\n",
       "1        18.6\n",
       "2        34.3\n",
       "3         NaN\n",
       "4        32.0\n",
       "         ... \n",
       "23694    73.3\n",
       "23695    38.0\n",
       "23696    29.7\n",
       "23697     NaN\n",
       "23698    12.3\n",
       "Name: living_area, Length: 23699, dtype: float64"
      ]
     },
     "execution_count": 14,
     "metadata": {},
     "output_type": "execute_result"
    }
   ],
   "source": [
    "#смотрим столбец living_area\n",
    "data.living_area"
   ]
  },
  {
   "cell_type": "markdown",
   "id": "c30e1e69",
   "metadata": {},
   "source": [
    "Скорее всего пропустили столбец, можно было бы заполнить если бы было известна не жеилая площадь, не будем ничего менять"
   ]
  },
  {
   "cell_type": "code",
   "execution_count": 15,
   "id": "2370e858",
   "metadata": {},
   "outputs": [
    {
     "data": {
      "text/plain": [
       "0        51.0\n",
       "1        18.6\n",
       "2        34.3\n",
       "3        30.0\n",
       "4        32.0\n",
       "         ... \n",
       "23694    73.3\n",
       "23695    38.0\n",
       "23696    29.7\n",
       "23697    30.0\n",
       "23698    12.3\n",
       "Name: living_area, Length: 23699, dtype: float64"
      ]
     },
     "execution_count": 15,
     "metadata": {},
     "output_type": "execute_result"
    }
   ],
   "source": [
    "#меняем неизвестные значения на медианные\n",
    "data.living_area = data.living_area.fillna(data.living_area.median()).round(2)\n",
    "data.living_area"
   ]
  },
  {
   "cell_type": "code",
   "execution_count": 16,
   "id": "fcf6736a",
   "metadata": {},
   "outputs": [
    {
     "data": {
      "text/plain": [
       "0        NaN\n",
       "1        NaN\n",
       "2        NaN\n",
       "3        NaN\n",
       "4        NaN\n",
       "        ... \n",
       "23694    NaN\n",
       "23695    NaN\n",
       "23696    NaN\n",
       "23697    NaN\n",
       "23698    NaN\n",
       "Name: is_apartment, Length: 23699, dtype: object"
      ]
     },
     "execution_count": 16,
     "metadata": {},
     "output_type": "execute_result"
    }
   ],
   "source": [
    "#смотрим столбец is_apartment\n",
    "data.is_apartment"
   ]
  },
  {
   "cell_type": "markdown",
   "id": "c2a0ec06",
   "metadata": {},
   "source": [
    "Скорее всего большинство людей просто пропустило этот столбец, заменим пропуски на False"
   ]
  },
  {
   "cell_type": "code",
   "execution_count": 17,
   "id": "f19d507e",
   "metadata": {},
   "outputs": [
    {
     "data": {
      "text/plain": [
       "0        False\n",
       "1        False\n",
       "2        False\n",
       "3        False\n",
       "4        False\n",
       "         ...  \n",
       "23694    False\n",
       "23695    False\n",
       "23696    False\n",
       "23697    False\n",
       "23698    False\n",
       "Name: is_apartment, Length: 23699, dtype: bool"
      ]
     },
     "execution_count": 17,
     "metadata": {},
     "output_type": "execute_result"
    }
   ],
   "source": [
    "#меняем пропуски на False\n",
    "data.is_apartment.fillna(False)"
   ]
  },
  {
   "cell_type": "code",
   "execution_count": 18,
   "id": "93274dd6",
   "metadata": {},
   "outputs": [
    {
     "data": {
      "text/plain": [
       "0        25.00\n",
       "1        11.00\n",
       "2         8.30\n",
       "3          NaN\n",
       "4        41.00\n",
       "         ...  \n",
       "23694    13.83\n",
       "23695     8.50\n",
       "23696      NaN\n",
       "23697    23.30\n",
       "23698     9.00\n",
       "Name: kitchen_area, Length: 23699, dtype: float64"
      ]
     },
     "execution_count": 18,
     "metadata": {},
     "output_type": "execute_result"
    }
   ],
   "source": [
    "#смотрим столбец kitchen_area\n",
    "data.kitchen_area"
   ]
  },
  {
   "cell_type": "markdown",
   "id": "0746e597",
   "metadata": {},
   "source": [
    "Возможно пропустили столбец, или это аппартаменты в которых нет кухни"
   ]
  },
  {
   "cell_type": "code",
   "execution_count": 19,
   "id": "e2aeba9e",
   "metadata": {},
   "outputs": [
    {
     "data": {
      "text/plain": [
       "0        NaN\n",
       "1        2.0\n",
       "2        0.0\n",
       "3        0.0\n",
       "4        NaN\n",
       "        ... \n",
       "23694    NaN\n",
       "23695    NaN\n",
       "23696    NaN\n",
       "23697    2.0\n",
       "23698    NaN\n",
       "Name: balcony, Length: 23699, dtype: float64"
      ]
     },
     "execution_count": 19,
     "metadata": {},
     "output_type": "execute_result"
    }
   ],
   "source": [
    "#смотрим столбец balcony\n",
    "data.balcony"
   ]
  },
  {
   "cell_type": "markdown",
   "id": "4ce5e85d",
   "metadata": {},
   "source": [
    "Возможно пропустили или нет балкона, меняеям пропуски на 0"
   ]
  },
  {
   "cell_type": "code",
   "execution_count": 20,
   "id": "6fdeca1a",
   "metadata": {},
   "outputs": [
    {
     "data": {
      "text/plain": [
       "0        0.0\n",
       "1        2.0\n",
       "2        0.0\n",
       "3        0.0\n",
       "4        0.0\n",
       "        ... \n",
       "23694    0.0\n",
       "23695    0.0\n",
       "23696    0.0\n",
       "23697    2.0\n",
       "23698    0.0\n",
       "Name: balcony, Length: 23699, dtype: float64"
      ]
     },
     "execution_count": 20,
     "metadata": {},
     "output_type": "execute_result"
    }
   ],
   "source": [
    "data.balcony = data.balcony.fillna(0)\n",
    "data.balcony"
   ]
  },
  {
   "cell_type": "code",
   "execution_count": 21,
   "id": "814ea2d7",
   "metadata": {},
   "outputs": [
    {
     "data": {
      "text/plain": [
       "0            санкт-петербург\n",
       "1             посёлок шушары\n",
       "2            санкт-петербург\n",
       "3            санкт-петербург\n",
       "4            санкт-петербург\n",
       "                ...         \n",
       "23694        санкт-петербург\n",
       "23695                  тосно\n",
       "23696       село рождествено\n",
       "23697        санкт-петербург\n",
       "23698    поселок новый учхоз\n",
       "Name: locality_name, Length: 23699, dtype: object"
      ]
     },
     "execution_count": 21,
     "metadata": {},
     "output_type": "execute_result"
    }
   ],
   "source": [
    "#смотрим столбец locality_name и приводим его к нижнему регистру\n",
    "data['locality_name'] =  data['locality_name'].str.lower()\n",
    "data.locality_name"
   ]
  },
  {
   "cell_type": "markdown",
   "id": "91572d6c",
   "metadata": {},
   "source": [
    "Никак не определить какие города на месте пропусков, меняем значение на неизвестно(unknown)"
   ]
  },
  {
   "cell_type": "code",
   "execution_count": 22,
   "id": "8de0a3d3",
   "metadata": {},
   "outputs": [
    {
     "data": {
      "text/plain": [
       "0            санкт-петербург\n",
       "1             посёлок шушары\n",
       "2            санкт-петербург\n",
       "3            санкт-петербург\n",
       "4            санкт-петербург\n",
       "                ...         \n",
       "23694        санкт-петербург\n",
       "23695                  тосно\n",
       "23696       село рождествено\n",
       "23697        санкт-петербург\n",
       "23698    поселок новый учхоз\n",
       "Name: locality_name, Length: 23699, dtype: object"
      ]
     },
     "execution_count": 22,
     "metadata": {},
     "output_type": "execute_result"
    }
   ],
   "source": [
    "#меняем пропуски на 'unknown'\n",
    "data.locality_name = data.locality_name.fillna('unknown')\n",
    "data.locality_name"
   ]
  },
  {
   "cell_type": "code",
   "execution_count": 23,
   "id": "a8c1a3b9",
   "metadata": {},
   "outputs": [
    {
     "data": {
      "text/plain": [
       "0        18863.0\n",
       "1        12817.0\n",
       "2        21741.0\n",
       "3        28098.0\n",
       "4        31856.0\n",
       "          ...   \n",
       "23694    24665.0\n",
       "23695        NaN\n",
       "23696        NaN\n",
       "23697    39140.0\n",
       "23698        NaN\n",
       "Name: airports_nearest, Length: 23699, dtype: float64"
      ]
     },
     "execution_count": 23,
     "metadata": {},
     "output_type": "execute_result"
    }
   ],
   "source": [
    "# смотрим столбец airports_nearest \n",
    "data.airports_nearest "
   ]
  },
  {
   "cell_type": "markdown",
   "id": "cb8b9c78",
   "metadata": {},
   "source": [
    "Скорее всего не заполнено т.к нету рядом аэропортов, не будем ничего менять"
   ]
  },
  {
   "cell_type": "code",
   "execution_count": 24,
   "id": "40a879ac",
   "metadata": {},
   "outputs": [
    {
     "data": {
      "text/plain": [
       "0        16028.0\n",
       "1        18603.0\n",
       "2        13933.0\n",
       "3         6800.0\n",
       "4         8098.0\n",
       "          ...   \n",
       "23694     4232.0\n",
       "23695        NaN\n",
       "23696        NaN\n",
       "23697    10364.0\n",
       "23698        NaN\n",
       "Name: city_centers_nearest, Length: 23699, dtype: float64"
      ]
     },
     "execution_count": 24,
     "metadata": {},
     "output_type": "execute_result"
    }
   ],
   "source": [
    "#приводим столбец cityCenters_nearest к нижнему регистру и смотрим значения в нем\n",
    "data = data.rename(columns = {'cityCenters_nearest':'city_centers_nearest'})\n",
    "data.city_centers_nearest"
   ]
  },
  {
   "cell_type": "markdown",
   "id": "66912eb5",
   "metadata": {},
   "source": [
    "Скорее всего не заполнено т.к далеко от центра города, не будем ничего менять"
   ]
  },
  {
   "cell_type": "code",
   "execution_count": 25,
   "id": "20f34e24",
   "metadata": {},
   "outputs": [
    {
     "data": {
      "text/plain": [
       "0        1.0\n",
       "1        0.0\n",
       "2        1.0\n",
       "3        2.0\n",
       "4        2.0\n",
       "        ... \n",
       "23694    1.0\n",
       "23695    NaN\n",
       "23696    NaN\n",
       "23697    2.0\n",
       "23698    NaN\n",
       "Name: parks_around3000, Length: 23699, dtype: float64"
      ]
     },
     "execution_count": 25,
     "metadata": {},
     "output_type": "execute_result"
    }
   ],
   "source": [
    "#смотрим столбец parks_around3000\n",
    "data.parks_around3000"
   ]
  },
  {
   "cell_type": "markdown",
   "id": "11349e28",
   "metadata": {},
   "source": [
    "Скорее всего не заполнено  т.к. нету рядом парков, меняем на 0 и меняем тип данных на int т.к. количество водоемов может быть только целым числом"
   ]
  },
  {
   "cell_type": "code",
   "execution_count": 26,
   "id": "98213880",
   "metadata": {},
   "outputs": [],
   "source": [
    "#меняем пропуски на 0\n",
    "data.parks_around3000 = data.parks_around3000.fillna(0)\n",
    "#меняем тип данных на int\n",
    "data['parks_around3000'] = data['parks_around3000'].astype(int)"
   ]
  },
  {
   "cell_type": "code",
   "execution_count": 27,
   "id": "f35b9280",
   "metadata": {},
   "outputs": [
    {
     "data": {
      "text/plain": [
       "0        482.0\n",
       "1          NaN\n",
       "2         90.0\n",
       "3         84.0\n",
       "4        112.0\n",
       "         ...  \n",
       "23694    796.0\n",
       "23695      NaN\n",
       "23696      NaN\n",
       "23697    173.0\n",
       "23698      NaN\n",
       "Name: parks_nearest, Length: 23699, dtype: float64"
      ]
     },
     "execution_count": 27,
     "metadata": {},
     "output_type": "execute_result"
    }
   ],
   "source": [
    "#смотрим столбец parks_nearest\n",
    "data.parks_nearest"
   ]
  },
  {
   "cell_type": "markdown",
   "id": "da0a190d",
   "metadata": {},
   "source": [
    "Скорее всего нет парков рядом или пропустили столбец, не будем ничего менять"
   ]
  },
  {
   "cell_type": "code",
   "execution_count": 28,
   "id": "81d88831",
   "metadata": {},
   "outputs": [
    {
     "data": {
      "text/plain": [
       "0        2.0\n",
       "1        0.0\n",
       "2        2.0\n",
       "3        3.0\n",
       "4        1.0\n",
       "        ... \n",
       "23694    3.0\n",
       "23695    0.0\n",
       "23696    0.0\n",
       "23697    3.0\n",
       "23698    0.0\n",
       "Name: ponds_around3000, Length: 23699, dtype: float64"
      ]
     },
     "execution_count": 28,
     "metadata": {},
     "output_type": "execute_result"
    }
   ],
   "source": [
    "#меняем пропуски на 0\n",
    "data.ponds_around3000 = data.ponds_around3000.fillna(0)\n",
    "data.ponds_around3000"
   ]
  },
  {
   "cell_type": "markdown",
   "id": "60ada61a",
   "metadata": {},
   "source": [
    "Скорее всего нету рядом водоемов, меняем значение на 0 и тип данных на int т.к. количество водоемов может быть только целым числом"
   ]
  },
  {
   "cell_type": "code",
   "execution_count": 29,
   "id": "b5cb58b3",
   "metadata": {},
   "outputs": [
    {
     "data": {
      "text/plain": [
       "0        2\n",
       "1        0\n",
       "2        2\n",
       "3        3\n",
       "4        1\n",
       "        ..\n",
       "23694    3\n",
       "23695    0\n",
       "23696    0\n",
       "23697    3\n",
       "23698    0\n",
       "Name: ponds_around3000, Length: 23699, dtype: int64"
      ]
     },
     "execution_count": 29,
     "metadata": {},
     "output_type": "execute_result"
    }
   ],
   "source": [
    "#смотрим столбец ponds_around3000 и меняем тип данных на int\n",
    "data['ponds_around3000'] = data['ponds_around3000'].astype(int)\n",
    "data.ponds_around3000"
   ]
  },
  {
   "cell_type": "code",
   "execution_count": 30,
   "id": "0f0c5610",
   "metadata": {},
   "outputs": [
    {
     "data": {
      "text/plain": [
       "0        755.0\n",
       "1          NaN\n",
       "2        574.0\n",
       "3        234.0\n",
       "4         48.0\n",
       "         ...  \n",
       "23694    381.0\n",
       "23695      NaN\n",
       "23696      NaN\n",
       "23697    196.0\n",
       "23698      NaN\n",
       "Name: ponds_nearest, Length: 23699, dtype: float64"
      ]
     },
     "execution_count": 30,
     "metadata": {},
     "output_type": "execute_result"
    }
   ],
   "source": [
    "#смотрим столбец ponds_nearest\n",
    "data.ponds_nearest"
   ]
  },
  {
   "cell_type": "markdown",
   "id": "b736305b",
   "metadata": {},
   "source": [
    "Скорее всего рядом нету водоемов, ничего не меняем"
   ]
  },
  {
   "cell_type": "code",
   "execution_count": 31,
   "id": "397dd97f",
   "metadata": {},
   "outputs": [
    {
     "data": {
      "text/plain": [
       "0          NaN\n",
       "1         81.0\n",
       "2        558.0\n",
       "3        424.0\n",
       "4        121.0\n",
       "         ...  \n",
       "23694      NaN\n",
       "23695     45.0\n",
       "23696      NaN\n",
       "23697    602.0\n",
       "23698      NaN\n",
       "Name: days_exposition, Length: 23699, dtype: float64"
      ]
     },
     "execution_count": 31,
     "metadata": {},
     "output_type": "execute_result"
    }
   ],
   "source": [
    "#смотрим столбец days_exposition\n",
    "data.days_exposition"
   ]
  },
  {
   "cell_type": "markdown",
   "id": "dd415c66",
   "metadata": {},
   "source": [
    "Скорее всего объявление еще актуально, ничего не меняем.Тип данных у нас здесь float, а должен быть int, но мы не можем поменять тип данных т.к. не можем заполнить пропуски"
   ]
  },
  {
   "cell_type": "code",
   "execution_count": 32,
   "id": "ba4ecb0c",
   "metadata": {},
   "outputs": [
    {
     "data": {
      "text/plain": [
       "0       -264\n",
       "1         81\n",
       "2        558\n",
       "3        424\n",
       "4        121\n",
       "        ... \n",
       "23694   -264\n",
       "23695     45\n",
       "23696   -264\n",
       "23697    602\n",
       "23698   -264\n",
       "Name: days_exposition, Length: 23699, dtype: int64"
      ]
     },
     "execution_count": 32,
     "metadata": {},
     "output_type": "execute_result"
    }
   ],
   "source": [
    "#меняем пропуски на целое число\n",
    "data.days_exposition = data.days_exposition.fillna(-264)\n",
    "#меняем тип данных\n",
    "data.days_exposition = data.days_exposition.astype(int)\n",
    "data.days_exposition"
   ]
  },
  {
   "cell_type": "markdown",
   "id": "c2554a2f",
   "metadata": {},
   "source": [
    "### Рассмотрим столбцы где необходимо поменять типы данных"
   ]
  },
  {
   "cell_type": "code",
   "execution_count": 33,
   "id": "4b30b72c",
   "metadata": {},
   "outputs": [],
   "source": [
    "#меняем тип данных last_price\n",
    "data.last_price = data.last_price.astype(int)"
   ]
  },
  {
   "cell_type": "markdown",
   "id": "d7d090c3",
   "metadata": {},
   "source": [
    "Этот столбец содержит только целые числа"
   ]
  },
  {
   "cell_type": "code",
   "execution_count": 34,
   "id": "ab56b9ff",
   "metadata": {},
   "outputs": [
    {
     "data": {
      "text/plain": [
       "array(['2019-03-07T00:00:00', '2018-12-04T00:00:00',\n",
       "       '2015-08-20T00:00:00', ..., '2014-12-29T00:00:00',\n",
       "       '2016-09-12T00:00:00', '2015-07-19T00:00:00'], dtype=object)"
      ]
     },
     "execution_count": 34,
     "metadata": {},
     "output_type": "execute_result"
    }
   ],
   "source": [
    "#смотрим формат даты\n",
    "data.first_day_exposition.unique()"
   ]
  },
  {
   "cell_type": "markdown",
   "id": "a240df9f",
   "metadata": {},
   "source": [
    "Меняем тип данныз на datetime64, т.к. в этом столбце указана дата"
   ]
  },
  {
   "cell_type": "code",
   "execution_count": 35,
   "id": "64db459f",
   "metadata": {},
   "outputs": [
    {
     "data": {
      "text/plain": [
       "array(['2019-03-07T00:00:00.000000000', '2018-12-04T00:00:00.000000000',\n",
       "       '2015-08-20T00:00:00.000000000', ...,\n",
       "       '2014-12-29T00:00:00.000000000', '2016-09-12T00:00:00.000000000',\n",
       "       '2015-07-19T00:00:00.000000000'], dtype='datetime64[ns]')"
      ]
     },
     "execution_count": 35,
     "metadata": {},
     "output_type": "execute_result"
    }
   ],
   "source": [
    "#меняем тип данных first_day_exposition\n",
    "data.first_day_exposition = pd.to_datetime(data['first_day_exposition'], format='%Y-%m-%dT%H:%M:%S')\n",
    "data.first_day_exposition.unique()"
   ]
  },
  {
   "cell_type": "code",
   "execution_count": 36,
   "id": "da80d887",
   "metadata": {},
   "outputs": [
    {
     "data": {
      "text/plain": [
       "0        True\n",
       "1        True\n",
       "2        True\n",
       "3        True\n",
       "4        True\n",
       "         ... \n",
       "23694    True\n",
       "23695    True\n",
       "23696    True\n",
       "23697    True\n",
       "23698    True\n",
       "Name: is_apartment, Length: 23699, dtype: bool"
      ]
     },
     "execution_count": 36,
     "metadata": {},
     "output_type": "execute_result"
    }
   ],
   "source": [
    "#меняем тип данных is_apartment\n",
    "data.is_apartment = data.is_apartment.astype(bool)\n",
    "data.is_apartment"
   ]
  },
  {
   "cell_type": "markdown",
   "id": "cf693cde",
   "metadata": {},
   "source": [
    "Этот столбец должен быть с булевым значением"
   ]
  },
  {
   "cell_type": "code",
   "execution_count": 37,
   "id": "06b2fcc9",
   "metadata": {},
   "outputs": [],
   "source": [
    "#меняем тип данных balcony\n",
    "data.balcony = data.balcony.astype(int)"
   ]
  },
  {
   "cell_type": "markdown",
   "id": "c0700db3",
   "metadata": {},
   "source": [
    "### Изучим уникальные значения locality_name"
   ]
  },
  {
   "cell_type": "code",
   "execution_count": 38,
   "id": "74b14103",
   "metadata": {},
   "outputs": [
    {
     "data": {
      "text/plain": [
       "array(['санкт-петербург', 'посёлок шушары', 'городской посёлок янино-1',\n",
       "       'посёлок парголово', 'посёлок мурино', 'ломоносов', 'сертолово',\n",
       "       'петергоф', 'пушкин', 'деревня кудрово', 'коммунар', 'колпино',\n",
       "       'поселок городского типа красный бор', 'гатчина', 'поселок мурино',\n",
       "       'деревня фёдоровское', 'выборг', 'кронштадт', 'кировск',\n",
       "       'деревня новое девяткино', 'посёлок металлострой',\n",
       "       'посёлок городского типа лебяжье',\n",
       "       'посёлок городского типа сиверский', 'поселок молодцово',\n",
       "       'поселок городского типа кузьмоловский',\n",
       "       'садовое товарищество новая ропша', 'павловск',\n",
       "       'деревня пикколово', 'всеволожск', 'волхов', 'кингисепп',\n",
       "       'приозерск', 'сестрорецк', 'деревня куттузи', 'посёлок аннино',\n",
       "       'поселок городского типа ефимовский', 'посёлок плодовое',\n",
       "       'деревня заклинье', 'поселок торковичи', 'поселок первомайское',\n",
       "       'красное село', 'посёлок понтонный', 'сясьстрой', 'деревня старая',\n",
       "       'деревня лесколово', 'посёлок новый свет', 'сланцы',\n",
       "       'село путилово', 'ивангород', 'мурино', 'шлиссельбург',\n",
       "       'никольское', 'зеленогорск', 'сосновый бор', 'поселок новый свет',\n",
       "       'деревня оржицы', 'деревня кальтино', 'кудрово',\n",
       "       'поселок романовка', 'посёлок бугры', 'поселок бугры',\n",
       "       'поселок городского типа рощино', 'кириши', 'луга', 'волосово',\n",
       "       'отрадное', 'село павлово', 'поселок оредеж', 'село копорье',\n",
       "       'посёлок городского типа красный бор', 'посёлок молодёжное',\n",
       "       'тихвин', 'посёлок победа', 'деревня нурма',\n",
       "       'поселок городского типа синявино', 'тосно',\n",
       "       'посёлок городского типа кузьмоловский', 'посёлок стрельна',\n",
       "       'бокситогорск', 'посёлок александровская', 'деревня лопухинка',\n",
       "       'пикалёво', 'поселок терволово',\n",
       "       'поселок городского типа советский', 'подпорожье',\n",
       "       'посёлок петровское', 'посёлок городского типа токсово',\n",
       "       'поселок сельцо', 'посёлок городского типа вырица',\n",
       "       'деревня кипень', 'деревня келози', 'деревня вартемяги',\n",
       "       'посёлок тельмана', 'поселок севастьяново',\n",
       "       'городской поселок большая ижора', 'unknown',\n",
       "       'городской посёлок павлово', 'деревня агалатово',\n",
       "       'посёлок новогорелово', 'городской посёлок лесогорский',\n",
       "       'деревня лаголово', 'поселок цвелодубово',\n",
       "       'поселок городского типа рахья', 'поселок городского типа вырица',\n",
       "       'деревня белогорка', 'поселок заводской',\n",
       "       'городской посёлок новоселье', 'деревня большие колпаны',\n",
       "       'деревня горбунки', 'деревня батово', 'деревня заневка',\n",
       "       'деревня иссад', 'приморск', 'городской посёлок фёдоровское',\n",
       "       'деревня мистолово', 'новая ладога', 'поселок зимитицы',\n",
       "       'поселок барышево', 'деревня разметелево',\n",
       "       'поселок городского типа имени свердлова', 'деревня пеники',\n",
       "       'поселок рябово', 'деревня пудомяги', 'поселок станции корнево',\n",
       "       'деревня низино', 'деревня бегуницы', 'посёлок поляны',\n",
       "       'городской посёлок мга', 'поселок елизаветино',\n",
       "       'посёлок городского типа кузнечное', 'деревня колтуши',\n",
       "       'поселок запорожское', 'посёлок городского типа рощино',\n",
       "       'деревня гостилицы', 'деревня малое карлино',\n",
       "       'посёлок мичуринское', 'посёлок городского типа имени морозова',\n",
       "       'посёлок песочный', 'посёлок сосново', 'деревня аро',\n",
       "       'поселок ильичёво', 'посёлок городского типа тайцы',\n",
       "       'деревня малое верево', 'деревня извара', 'поселок станции вещево',\n",
       "       'село паша', 'деревня калитино',\n",
       "       'посёлок городского типа ульяновка', 'деревня чудской бор',\n",
       "       'поселок городского типа дубровка', 'деревня мины',\n",
       "       'поселок войсковицы', 'посёлок городского типа имени свердлова',\n",
       "       'деревня коркино', 'посёлок ропша',\n",
       "       'поселок городского типа приладожский', 'посёлок щеглово',\n",
       "       'посёлок гаврилово', 'лодейное поле', 'деревня рабитицы',\n",
       "       'поселок городского типа никольский', 'деревня кузьмолово',\n",
       "       'деревня малые колпаны', 'поселок тельмана',\n",
       "       'посёлок петро-славянка', 'городской посёлок назия',\n",
       "       'посёлок репино', 'посёлок ильичёво', 'поселок углово',\n",
       "       'поселок старая малукса', 'садовое товарищество рахья',\n",
       "       'поселок аннино', 'поселок победа', 'деревня меньково',\n",
       "       'деревня старые бегуницы', 'посёлок сапёрный', 'поселок семрино',\n",
       "       'поселок гаврилово', 'поселок глажево', 'поселок кобринское',\n",
       "       'деревня гарболово', 'деревня юкки',\n",
       "       'поселок станции приветнинское', 'деревня мануйлово',\n",
       "       'деревня пчева', 'поселок поляны', 'поселок цвылёво',\n",
       "       'поселок мельниково', 'посёлок пудость', 'посёлок усть-луга',\n",
       "       'светогорск', 'любань', 'поселок селезнёво',\n",
       "       'поселок городского типа рябово', 'каменногорск', 'деревня кривко',\n",
       "       'поселок глебычево', 'деревня парицы', 'поселок жилпосёлок',\n",
       "       'посёлок городского типа мга', 'городской поселок янино-1',\n",
       "       'посёлок войскорово', 'село никольское', 'посёлок терволово',\n",
       "       'поселок стеклянный', 'посёлок городского типа важины',\n",
       "       'посёлок мыза-ивановка', 'село русско-высоцкое',\n",
       "       'поселок городского типа лебяжье',\n",
       "       'поселок городского типа форносово', 'село старая ладога',\n",
       "       'поселок житково', 'городской посёлок виллози', 'деревня лампово',\n",
       "       'деревня шпаньково', 'деревня лаврики', 'посёлок сумино',\n",
       "       'посёлок возрождение', 'деревня старосиверская',\n",
       "       'посёлок кикерино', 'поселок возрождение',\n",
       "       'деревня старое хинколово', 'посёлок пригородный',\n",
       "       'посёлок торфяное', 'городской посёлок будогощь',\n",
       "       'поселок суходолье', 'поселок красная долина', 'деревня хапо-ое',\n",
       "       'поселок городского типа дружная горка', 'поселок лисий нос',\n",
       "       'деревня яльгелево', 'посёлок стеклянный', 'село рождествено',\n",
       "       'деревня старополье', 'посёлок левашово', 'деревня сяськелево',\n",
       "       'деревня камышовка',\n",
       "       'садоводческое некоммерческое товарищество лесная поляна',\n",
       "       'деревня хязельки', 'поселок жилгородок',\n",
       "       'посёлок городского типа павлово', 'деревня ялгино',\n",
       "       'поселок новый учхоз', 'городской посёлок рощино',\n",
       "       'поселок гончарово', 'поселок почап', 'посёлок сапёрное',\n",
       "       'посёлок платформа 69-й километр', 'поселок каложицы',\n",
       "       'деревня фалилеево', 'деревня пельгора',\n",
       "       'поселок городского типа лесогорский', 'деревня торошковичи',\n",
       "       'посёлок белоостров', 'посёлок алексеевка', 'поселок серебрянский',\n",
       "       'поселок лукаши', 'поселок петровское', 'деревня щеглово',\n",
       "       'поселок мичуринское', 'деревня тарасово', 'поселок кингисеппский',\n",
       "       'посёлок при железнодорожной станции вещево', 'поселок ушаки',\n",
       "       'деревня котлы', 'деревня сижно', 'деревня торосово',\n",
       "       'посёлок форт красная горка', 'поселок городского типа токсово',\n",
       "       'деревня новолисино', 'посёлок станции громово', 'деревня глинка',\n",
       "       'посёлок мельниково', 'поселок городского типа назия',\n",
       "       'деревня старая пустошь', 'поселок коммунары', 'поселок починок',\n",
       "       'посёлок городского типа вознесенье', 'деревня разбегаево',\n",
       "       'посёлок городского типа рябово', 'поселок гладкое',\n",
       "       'посёлок при железнодорожной станции приветнинское',\n",
       "       'поселок тёсово-4', 'посёлок жилгородок', 'деревня бор',\n",
       "       'посёлок коробицыно', 'деревня большая вруда', 'деревня курковицы',\n",
       "       'посёлок лисий нос', 'городской посёлок советский',\n",
       "       'посёлок кобралово', 'деревня суоранда', 'поселок кобралово',\n",
       "       'поселок городского типа кондратьево',\n",
       "       'коттеджный поселок счастье', 'поселок любань', 'деревня реброво',\n",
       "       'деревня зимитицы', 'деревня тойворово', 'поселок семиозерье',\n",
       "       'поселок лесное', 'поселок совхозный', 'поселок усть-луга',\n",
       "       'посёлок ленинское', 'посёлок суйда',\n",
       "       'посёлок городского типа форносово', 'деревня нижние осельки',\n",
       "       'посёлок станции свирь', 'поселок перово', 'высоцк',\n",
       "       'поселок гарболово', 'село шум', 'поселок котельский',\n",
       "       'поселок станции лужайка', 'деревня большая пустомержа',\n",
       "       'поселок красносельское', 'деревня вахнова кара', 'деревня пижма',\n",
       "       'коттеджный поселок кивеннапа север', 'поселок коробицыно',\n",
       "       'поселок ромашки', 'посёлок перово', 'деревня каськово',\n",
       "       'деревня куровицы', 'посёлок плоское', 'поселок сумино',\n",
       "       'поселок городского типа большая ижора', 'поселок кирпичное',\n",
       "       'деревня ям-тесово', 'деревня раздолье', 'деревня терпилицы',\n",
       "       'посёлок шугозеро', 'деревня ваганово', 'поселок пушное',\n",
       "       'садовое товарищество садко', 'посёлок усть-ижора',\n",
       "       'деревня выскатка', 'городской посёлок свирьстрой',\n",
       "       'поселок громово', 'деревня кисельня', 'посёлок старая малукса',\n",
       "       'деревня трубников бор', 'поселок калитино',\n",
       "       'посёлок высокоключевой', 'садовое товарищество приладожский',\n",
       "       'посёлок пансионат зелёный бор', 'деревня ненимяки',\n",
       "       'поселок пансионат зелёный бор', 'деревня снегирёвка',\n",
       "       'деревня рапполово', 'деревня пустынка', 'поселок рабитицы',\n",
       "       'деревня большой сабск', 'деревня русско', 'деревня лупполово',\n",
       "       'деревня большое рейзино', 'деревня малая романовка',\n",
       "       'поселок дружноселье', 'поселок пчевжа', 'поселок володарское',\n",
       "       'деревня нижняя', 'коттеджный посёлок лесное', 'деревня тихковицы',\n",
       "       'деревня борисова грива', 'посёлок дзержинского'], dtype=object)"
      ]
     },
     "execution_count": 38,
     "metadata": {},
     "output_type": "execute_result"
    }
   ],
   "source": [
    "data.locality_name.unique()"
   ]
  },
  {
   "cell_type": "code",
   "execution_count": 39,
   "id": "3d702f8a",
   "metadata": {},
   "outputs": [],
   "source": [
    "#заменим в типе поселения е на ё и уберем тип\n",
    "data.locality_name = (\n",
    "    data.locality_name\n",
    "    .str.replace('ё','е')\n",
    "    .replace(['поселок ','при железнодорожной станции ', 'платформа ', 'садоводческое некоммерческое товарищество ',\n",
    "             'садовое товарищество ', 'станции ', 'село ', 'пансионат ', 'городского типа ',\n",
    "             'деревня ', 'городской поселок '], '', regex=True)\n",
    ")"
   ]
  },
  {
   "cell_type": "code",
   "execution_count": 40,
   "id": "82d24542",
   "metadata": {
    "scrolled": true
   },
   "outputs": [
    {
     "data": {
      "text/plain": [
       "array(['санкт-петербург', 'шушары', 'городской янино-1', 'парголово',\n",
       "       'мурино', 'ломоносов', 'сертолово', 'петергоф', 'пушкин',\n",
       "       'кудрово', 'коммунар', 'колпино', 'красный бор', 'гатчина',\n",
       "       'федоровское', 'выборг', 'кронштадт', 'кировск', 'новое девяткино',\n",
       "       'металлострой', 'лебяжье', 'сиверский', 'молодцово',\n",
       "       'кузьмоловский', 'новая ропша', 'павловск', 'пикколово',\n",
       "       'всеволожск', 'волхов', 'кингисепп', 'приозерск', 'сестрорецк',\n",
       "       'куттузи', 'аннино', 'ефимовский', 'плодовое', 'заклинье',\n",
       "       'торковичи', 'первомайское', 'красное село', 'понтонный',\n",
       "       'сясьстрой', 'старая', 'лесколово', 'новый свет', 'сланцы',\n",
       "       'путилово', 'ивангород', 'шлиссельбург', 'никольское',\n",
       "       'зеленогорск', 'сосновый бор', 'оржицы', 'кальтино', 'романовка',\n",
       "       'бугры', 'рощино', 'кириши', 'луга', 'волосово', 'отрадное',\n",
       "       'павлово', 'оредеж', 'копорье', 'молодежное', 'тихвин', 'победа',\n",
       "       'нурма', 'синявино', 'тосно', 'стрельна', 'бокситогорск',\n",
       "       'александровская', 'лопухинка', 'пикалево', 'терволово',\n",
       "       'советский', 'подпорожье', 'петровское', 'токсово', 'сельцо',\n",
       "       'вырица', 'кипень', 'келози', 'вартемяги', 'тельмана',\n",
       "       'севастьяново', 'городской большая ижора', 'unknown',\n",
       "       'городской павлово', 'агалатово', 'новогорелово',\n",
       "       'городской лесогорский', 'лаголово', 'цвелодубово', 'рахья',\n",
       "       'белогорка', 'заводской', 'городской новоселье', 'большие колпаны',\n",
       "       'горбунки', 'батово', 'заневка', 'иссад', 'приморск',\n",
       "       'городской федоровское', 'мистолово', 'новая ладога', 'зимитицы',\n",
       "       'барышево', 'разметелево', 'имени свердлова', 'пеники', 'рябово',\n",
       "       'пудомяги', 'корнево', 'низино', 'бегуницы', 'поляны',\n",
       "       'городской мга', 'елизаветино', 'кузнечное', 'колтуши',\n",
       "       'запорожское', 'гостилицы', 'малое карлино', 'мичуринское',\n",
       "       'имени морозова', 'песочный', 'сосново', 'аро', 'ильичево',\n",
       "       'тайцы', 'малое верево', 'извара', 'вещево', 'паша', 'калитино',\n",
       "       'ульяновка', 'чудской бор', 'дубровка', 'мины', 'войсковицы',\n",
       "       'коркино', 'ропша', 'приладожский', 'щеглово', 'гаврилово',\n",
       "       'лодейное поле', 'рабитицы', 'никольский', 'кузьмолово',\n",
       "       'малые колпаны', 'петро-славянка', 'городской назия', 'репино',\n",
       "       'углово', 'старая малукса', 'меньково', 'старые бегуницы',\n",
       "       'саперный', 'семрино', 'глажево', 'кобринское', 'гарболово',\n",
       "       'юкки', 'приветнинское', 'мануйлово', 'пчева', 'цвылево',\n",
       "       'мельниково', 'пудость', 'усть-луга', 'светогорск', 'любань',\n",
       "       'селезнево', 'каменногорск', 'кривко', 'глебычево', 'парицы',\n",
       "       'жилпоселок', 'мга', 'войскорово', 'стеклянный', 'важины',\n",
       "       'мыза-ивановка', 'русско-высоцкое', 'форносово', 'старая ладога',\n",
       "       'житково', 'городской виллози', 'лампово', 'шпаньково', 'лаврики',\n",
       "       'сумино', 'возрождение', 'старосиверская', 'кикерино',\n",
       "       'старое хинколово', 'пригородный', 'торфяное',\n",
       "       'городской будогощь', 'суходолье', 'красная долина', 'хапо-ое',\n",
       "       'дружная горка', 'лисий нос', 'яльгелево', 'рождествено',\n",
       "       'старополье', 'левашово', 'сяськелево', 'камышовка',\n",
       "       'лесная поляна', 'хязельки', 'жилгородок', 'ялгино', 'новый учхоз',\n",
       "       'городской рощино', 'гончарово', 'почап', 'саперное',\n",
       "       '69-й километр', 'каложицы', 'фалилеево', 'пельгора',\n",
       "       'лесогорский', 'торошковичи', 'белоостров', 'алексеевка',\n",
       "       'серебрянский', 'лукаши', 'тарасово', 'кингисеппский', 'ушаки',\n",
       "       'котлы', 'сижно', 'торосово', 'форт красная горка', 'новолисино',\n",
       "       'громово', 'глинка', 'назия', 'старая пустошь', 'коммунары',\n",
       "       'починок', 'вознесенье', 'разбегаево', 'гладкое', 'тесово-4',\n",
       "       'бор', 'коробицыно', 'большая вруда', 'курковицы',\n",
       "       'городской советский', 'кобралово', 'суоранда', 'кондратьево',\n",
       "       'коттеджный счастье', 'реброво', 'тойворово', 'семиозерье',\n",
       "       'лесное', 'совхозный', 'ленинское', 'суйда', 'нижние осельки',\n",
       "       'свирь', 'перово', 'высоцк', 'шум', 'котельский', 'лужайка',\n",
       "       'большая пустомержа', 'красносельское', 'вахнова кара', 'пижма',\n",
       "       'коттеджный кивеннапа север', 'ромашки', 'каськово', 'куровицы',\n",
       "       'плоское', 'большая ижора', 'кирпичное', 'ям-тесово', 'раздолье',\n",
       "       'терпилицы', 'шугозеро', 'ваганово', 'пушное', 'садко',\n",
       "       'усть-ижора', 'выскатка', 'городской свирьстрой', 'кисельня',\n",
       "       'трубников бор', 'высокоключевой', 'зеленый бор', 'ненимяки',\n",
       "       'снегиревка', 'рапполово', 'пустынка', 'большой сабск', 'русско',\n",
       "       'лупполово', 'большое рейзино', 'малая романовка', 'дружноселье',\n",
       "       'пчевжа', 'володарское', 'нижняя', 'коттеджный лесное',\n",
       "       'тихковицы', 'борисова грива', 'дзержинского'], dtype=object)"
      ]
     },
     "execution_count": 40,
     "metadata": {},
     "output_type": "execute_result"
    }
   ],
   "source": [
    "#проверяем что получилось\n",
    "data.locality_name.unique()"
   ]
  },
  {
   "cell_type": "markdown",
   "id": "6333c322",
   "metadata": {},
   "source": [
    "В процессе предобработки данных:  \n",
    "\n",
    "Переименовали название столбца.  \n",
    "Заполнили явные пропуски где это возможно.  \n",
    "Изменили типы данных там где это возможно.  \n",
    "Обработали столбец locality_name  \n",
    "Сделали вывод о причинах появления пропусков(человеческий фактор, программные сбои)"
   ]
  },
  {
   "cell_type": "markdown",
   "id": "3db31677",
   "metadata": {},
   "source": [
    "## Добавляем новые столбцы в таблицу"
   ]
  },
  {
   "cell_type": "code",
   "execution_count": 41,
   "id": "c581986a",
   "metadata": {},
   "outputs": [
    {
     "data": {
      "text/html": [
       "<div>\n",
       "<style scoped>\n",
       "    .dataframe tbody tr th:only-of-type {\n",
       "        vertical-align: middle;\n",
       "    }\n",
       "\n",
       "    .dataframe tbody tr th {\n",
       "        vertical-align: top;\n",
       "    }\n",
       "\n",
       "    .dataframe thead th {\n",
       "        text-align: right;\n",
       "    }\n",
       "</style>\n",
       "<table border=\"1\" class=\"dataframe\">\n",
       "  <thead>\n",
       "    <tr style=\"text-align: right;\">\n",
       "      <th></th>\n",
       "      <th>total_images</th>\n",
       "      <th>last_price</th>\n",
       "      <th>total_area</th>\n",
       "      <th>first_day_exposition</th>\n",
       "      <th>rooms</th>\n",
       "      <th>ceiling_height</th>\n",
       "      <th>floors_total</th>\n",
       "      <th>living_area</th>\n",
       "      <th>floor</th>\n",
       "      <th>is_apartment</th>\n",
       "      <th>...</th>\n",
       "      <th>balcony</th>\n",
       "      <th>locality_name</th>\n",
       "      <th>airports_nearest</th>\n",
       "      <th>city_centers_nearest</th>\n",
       "      <th>parks_around3000</th>\n",
       "      <th>parks_nearest</th>\n",
       "      <th>ponds_around3000</th>\n",
       "      <th>ponds_nearest</th>\n",
       "      <th>days_exposition</th>\n",
       "      <th>price_per_meter</th>\n",
       "    </tr>\n",
       "  </thead>\n",
       "  <tbody>\n",
       "    <tr>\n",
       "      <th>0</th>\n",
       "      <td>20</td>\n",
       "      <td>13000000</td>\n",
       "      <td>108.00</td>\n",
       "      <td>2019-03-07</td>\n",
       "      <td>3</td>\n",
       "      <td>2.70</td>\n",
       "      <td>16</td>\n",
       "      <td>51.0</td>\n",
       "      <td>8</td>\n",
       "      <td>True</td>\n",
       "      <td>...</td>\n",
       "      <td>0</td>\n",
       "      <td>санкт-петербург</td>\n",
       "      <td>18863.0</td>\n",
       "      <td>16028.0</td>\n",
       "      <td>1</td>\n",
       "      <td>482.0</td>\n",
       "      <td>2</td>\n",
       "      <td>755.0</td>\n",
       "      <td>-264</td>\n",
       "      <td>120370.37</td>\n",
       "    </tr>\n",
       "    <tr>\n",
       "      <th>1</th>\n",
       "      <td>7</td>\n",
       "      <td>3350000</td>\n",
       "      <td>40.40</td>\n",
       "      <td>2018-12-04</td>\n",
       "      <td>1</td>\n",
       "      <td>2.65</td>\n",
       "      <td>11</td>\n",
       "      <td>18.6</td>\n",
       "      <td>1</td>\n",
       "      <td>True</td>\n",
       "      <td>...</td>\n",
       "      <td>2</td>\n",
       "      <td>шушары</td>\n",
       "      <td>12817.0</td>\n",
       "      <td>18603.0</td>\n",
       "      <td>0</td>\n",
       "      <td>NaN</td>\n",
       "      <td>0</td>\n",
       "      <td>NaN</td>\n",
       "      <td>81</td>\n",
       "      <td>82920.79</td>\n",
       "    </tr>\n",
       "    <tr>\n",
       "      <th>2</th>\n",
       "      <td>10</td>\n",
       "      <td>5196000</td>\n",
       "      <td>56.00</td>\n",
       "      <td>2015-08-20</td>\n",
       "      <td>2</td>\n",
       "      <td>2.65</td>\n",
       "      <td>5</td>\n",
       "      <td>34.3</td>\n",
       "      <td>4</td>\n",
       "      <td>True</td>\n",
       "      <td>...</td>\n",
       "      <td>0</td>\n",
       "      <td>санкт-петербург</td>\n",
       "      <td>21741.0</td>\n",
       "      <td>13933.0</td>\n",
       "      <td>1</td>\n",
       "      <td>90.0</td>\n",
       "      <td>2</td>\n",
       "      <td>574.0</td>\n",
       "      <td>558</td>\n",
       "      <td>92785.71</td>\n",
       "    </tr>\n",
       "    <tr>\n",
       "      <th>3</th>\n",
       "      <td>0</td>\n",
       "      <td>64900000</td>\n",
       "      <td>159.00</td>\n",
       "      <td>2015-07-24</td>\n",
       "      <td>3</td>\n",
       "      <td>2.65</td>\n",
       "      <td>14</td>\n",
       "      <td>30.0</td>\n",
       "      <td>9</td>\n",
       "      <td>True</td>\n",
       "      <td>...</td>\n",
       "      <td>0</td>\n",
       "      <td>санкт-петербург</td>\n",
       "      <td>28098.0</td>\n",
       "      <td>6800.0</td>\n",
       "      <td>2</td>\n",
       "      <td>84.0</td>\n",
       "      <td>3</td>\n",
       "      <td>234.0</td>\n",
       "      <td>424</td>\n",
       "      <td>408176.10</td>\n",
       "    </tr>\n",
       "    <tr>\n",
       "      <th>4</th>\n",
       "      <td>2</td>\n",
       "      <td>10000000</td>\n",
       "      <td>100.00</td>\n",
       "      <td>2018-06-19</td>\n",
       "      <td>2</td>\n",
       "      <td>3.03</td>\n",
       "      <td>14</td>\n",
       "      <td>32.0</td>\n",
       "      <td>13</td>\n",
       "      <td>True</td>\n",
       "      <td>...</td>\n",
       "      <td>0</td>\n",
       "      <td>санкт-петербург</td>\n",
       "      <td>31856.0</td>\n",
       "      <td>8098.0</td>\n",
       "      <td>2</td>\n",
       "      <td>112.0</td>\n",
       "      <td>1</td>\n",
       "      <td>48.0</td>\n",
       "      <td>121</td>\n",
       "      <td>100000.00</td>\n",
       "    </tr>\n",
       "    <tr>\n",
       "      <th>...</th>\n",
       "      <td>...</td>\n",
       "      <td>...</td>\n",
       "      <td>...</td>\n",
       "      <td>...</td>\n",
       "      <td>...</td>\n",
       "      <td>...</td>\n",
       "      <td>...</td>\n",
       "      <td>...</td>\n",
       "      <td>...</td>\n",
       "      <td>...</td>\n",
       "      <td>...</td>\n",
       "      <td>...</td>\n",
       "      <td>...</td>\n",
       "      <td>...</td>\n",
       "      <td>...</td>\n",
       "      <td>...</td>\n",
       "      <td>...</td>\n",
       "      <td>...</td>\n",
       "      <td>...</td>\n",
       "      <td>...</td>\n",
       "      <td>...</td>\n",
       "    </tr>\n",
       "    <tr>\n",
       "      <th>23694</th>\n",
       "      <td>9</td>\n",
       "      <td>9700000</td>\n",
       "      <td>133.81</td>\n",
       "      <td>2017-03-21</td>\n",
       "      <td>3</td>\n",
       "      <td>3.70</td>\n",
       "      <td>5</td>\n",
       "      <td>73.3</td>\n",
       "      <td>3</td>\n",
       "      <td>True</td>\n",
       "      <td>...</td>\n",
       "      <td>0</td>\n",
       "      <td>санкт-петербург</td>\n",
       "      <td>24665.0</td>\n",
       "      <td>4232.0</td>\n",
       "      <td>1</td>\n",
       "      <td>796.0</td>\n",
       "      <td>3</td>\n",
       "      <td>381.0</td>\n",
       "      <td>-264</td>\n",
       "      <td>72490.85</td>\n",
       "    </tr>\n",
       "    <tr>\n",
       "      <th>23695</th>\n",
       "      <td>14</td>\n",
       "      <td>3100000</td>\n",
       "      <td>59.00</td>\n",
       "      <td>2018-01-15</td>\n",
       "      <td>3</td>\n",
       "      <td>2.65</td>\n",
       "      <td>5</td>\n",
       "      <td>38.0</td>\n",
       "      <td>4</td>\n",
       "      <td>True</td>\n",
       "      <td>...</td>\n",
       "      <td>0</td>\n",
       "      <td>тосно</td>\n",
       "      <td>NaN</td>\n",
       "      <td>NaN</td>\n",
       "      <td>0</td>\n",
       "      <td>NaN</td>\n",
       "      <td>0</td>\n",
       "      <td>NaN</td>\n",
       "      <td>45</td>\n",
       "      <td>52542.37</td>\n",
       "    </tr>\n",
       "    <tr>\n",
       "      <th>23696</th>\n",
       "      <td>18</td>\n",
       "      <td>2500000</td>\n",
       "      <td>56.70</td>\n",
       "      <td>2018-02-11</td>\n",
       "      <td>2</td>\n",
       "      <td>2.65</td>\n",
       "      <td>3</td>\n",
       "      <td>29.7</td>\n",
       "      <td>1</td>\n",
       "      <td>True</td>\n",
       "      <td>...</td>\n",
       "      <td>0</td>\n",
       "      <td>рождествено</td>\n",
       "      <td>NaN</td>\n",
       "      <td>NaN</td>\n",
       "      <td>0</td>\n",
       "      <td>NaN</td>\n",
       "      <td>0</td>\n",
       "      <td>NaN</td>\n",
       "      <td>-264</td>\n",
       "      <td>44091.71</td>\n",
       "    </tr>\n",
       "    <tr>\n",
       "      <th>23697</th>\n",
       "      <td>13</td>\n",
       "      <td>11475000</td>\n",
       "      <td>76.75</td>\n",
       "      <td>2017-03-28</td>\n",
       "      <td>2</td>\n",
       "      <td>3.00</td>\n",
       "      <td>17</td>\n",
       "      <td>30.0</td>\n",
       "      <td>12</td>\n",
       "      <td>True</td>\n",
       "      <td>...</td>\n",
       "      <td>2</td>\n",
       "      <td>санкт-петербург</td>\n",
       "      <td>39140.0</td>\n",
       "      <td>10364.0</td>\n",
       "      <td>2</td>\n",
       "      <td>173.0</td>\n",
       "      <td>3</td>\n",
       "      <td>196.0</td>\n",
       "      <td>602</td>\n",
       "      <td>149511.40</td>\n",
       "    </tr>\n",
       "    <tr>\n",
       "      <th>23698</th>\n",
       "      <td>4</td>\n",
       "      <td>1350000</td>\n",
       "      <td>32.30</td>\n",
       "      <td>2017-07-21</td>\n",
       "      <td>1</td>\n",
       "      <td>2.50</td>\n",
       "      <td>5</td>\n",
       "      <td>12.3</td>\n",
       "      <td>1</td>\n",
       "      <td>True</td>\n",
       "      <td>...</td>\n",
       "      <td>0</td>\n",
       "      <td>новый учхоз</td>\n",
       "      <td>NaN</td>\n",
       "      <td>NaN</td>\n",
       "      <td>0</td>\n",
       "      <td>NaN</td>\n",
       "      <td>0</td>\n",
       "      <td>NaN</td>\n",
       "      <td>-264</td>\n",
       "      <td>41795.67</td>\n",
       "    </tr>\n",
       "  </tbody>\n",
       "</table>\n",
       "<p>23699 rows × 23 columns</p>\n",
       "</div>"
      ],
      "text/plain": [
       "       total_images  last_price  total_area first_day_exposition  rooms  \\\n",
       "0                20    13000000      108.00           2019-03-07      3   \n",
       "1                 7     3350000       40.40           2018-12-04      1   \n",
       "2                10     5196000       56.00           2015-08-20      2   \n",
       "3                 0    64900000      159.00           2015-07-24      3   \n",
       "4                 2    10000000      100.00           2018-06-19      2   \n",
       "...             ...         ...         ...                  ...    ...   \n",
       "23694             9     9700000      133.81           2017-03-21      3   \n",
       "23695            14     3100000       59.00           2018-01-15      3   \n",
       "23696            18     2500000       56.70           2018-02-11      2   \n",
       "23697            13    11475000       76.75           2017-03-28      2   \n",
       "23698             4     1350000       32.30           2017-07-21      1   \n",
       "\n",
       "       ceiling_height  floors_total  living_area  floor  is_apartment  ...  \\\n",
       "0                2.70            16         51.0      8          True  ...   \n",
       "1                2.65            11         18.6      1          True  ...   \n",
       "2                2.65             5         34.3      4          True  ...   \n",
       "3                2.65            14         30.0      9          True  ...   \n",
       "4                3.03            14         32.0     13          True  ...   \n",
       "...               ...           ...          ...    ...           ...  ...   \n",
       "23694            3.70             5         73.3      3          True  ...   \n",
       "23695            2.65             5         38.0      4          True  ...   \n",
       "23696            2.65             3         29.7      1          True  ...   \n",
       "23697            3.00            17         30.0     12          True  ...   \n",
       "23698            2.50             5         12.3      1          True  ...   \n",
       "\n",
       "       balcony    locality_name  airports_nearest  city_centers_nearest  \\\n",
       "0            0  санкт-петербург           18863.0               16028.0   \n",
       "1            2           шушары           12817.0               18603.0   \n",
       "2            0  санкт-петербург           21741.0               13933.0   \n",
       "3            0  санкт-петербург           28098.0                6800.0   \n",
       "4            0  санкт-петербург           31856.0                8098.0   \n",
       "...        ...              ...               ...                   ...   \n",
       "23694        0  санкт-петербург           24665.0                4232.0   \n",
       "23695        0            тосно               NaN                   NaN   \n",
       "23696        0      рождествено               NaN                   NaN   \n",
       "23697        2  санкт-петербург           39140.0               10364.0   \n",
       "23698        0      новый учхоз               NaN                   NaN   \n",
       "\n",
       "      parks_around3000  parks_nearest  ponds_around3000  ponds_nearest  \\\n",
       "0                    1          482.0                 2          755.0   \n",
       "1                    0            NaN                 0            NaN   \n",
       "2                    1           90.0                 2          574.0   \n",
       "3                    2           84.0                 3          234.0   \n",
       "4                    2          112.0                 1           48.0   \n",
       "...                ...            ...               ...            ...   \n",
       "23694                1          796.0                 3          381.0   \n",
       "23695                0            NaN                 0            NaN   \n",
       "23696                0            NaN                 0            NaN   \n",
       "23697                2          173.0                 3          196.0   \n",
       "23698                0            NaN                 0            NaN   \n",
       "\n",
       "       days_exposition  price_per_meter  \n",
       "0                 -264        120370.37  \n",
       "1                   81         82920.79  \n",
       "2                  558         92785.71  \n",
       "3                  424        408176.10  \n",
       "4                  121        100000.00  \n",
       "...                ...              ...  \n",
       "23694             -264         72490.85  \n",
       "23695               45         52542.37  \n",
       "23696             -264         44091.71  \n",
       "23697              602        149511.40  \n",
       "23698             -264         41795.67  \n",
       "\n",
       "[23699 rows x 23 columns]"
      ]
     },
     "execution_count": 41,
     "metadata": {},
     "output_type": "execute_result"
    }
   ],
   "source": [
    "# добавляем новый столбец и считаем в нем цену за 1 квадратный метр\n",
    "data['price_per_meter'] = (data.last_price/data.total_area). round(2)\n",
    "data"
   ]
  },
  {
   "cell_type": "code",
   "execution_count": 42,
   "id": "183b4073",
   "metadata": {},
   "outputs": [],
   "source": [
    "# добавляем столбец с днем недели публикации объявления\n",
    "data['weekday'] = data['first_day_exposition'].dt.weekday "
   ]
  },
  {
   "cell_type": "code",
   "execution_count": 43,
   "id": "fc6a8a77",
   "metadata": {},
   "outputs": [],
   "source": [
    "# добавляем столбец с месяцем публикации объявления\n",
    "data['month'] = data.first_day_exposition.dt.month "
   ]
  },
  {
   "cell_type": "code",
   "execution_count": 44,
   "id": "4e198933",
   "metadata": {},
   "outputs": [],
   "source": [
    "# добавляем столбец с годом публикации объявления\n",
    "data['year'] = data.first_day_exposition.dt.year"
   ]
  },
  {
   "cell_type": "code",
   "execution_count": 45,
   "id": "55a5bdf0",
   "metadata": {},
   "outputs": [],
   "source": [
    "# добавляем столбец с типом этажа квартиры\n",
    "def floor(row):\n",
    "    if row['floor']==1:\n",
    "        return 'первый'\n",
    "    if row['floor']==row['floors_total']:\n",
    "        return 'последний'\n",
    "    else:\n",
    "        return 'другой'\n",
    "data['type_apartment_floor'] = data.apply(floor, axis=1) "
   ]
  },
  {
   "cell_type": "code",
   "execution_count": 46,
   "id": "e1aa0402",
   "metadata": {},
   "outputs": [
    {
     "data": {
      "text/plain": [
       "0        16.0\n",
       "1        19.0\n",
       "2        14.0\n",
       "3         7.0\n",
       "4         8.0\n",
       "         ... \n",
       "23694     4.0\n",
       "23695     NaN\n",
       "23696     NaN\n",
       "23697    10.0\n",
       "23698     NaN\n",
       "Name: distance_city_center, Length: 23699, dtype: float64"
      ]
     },
     "execution_count": 46,
     "metadata": {},
     "output_type": "execute_result"
    }
   ],
   "source": [
    "# переводим расстояние до центра города в километры\n",
    "data['distance_city_center'] = (data.city_centers_nearest / 1000).round(0)\n",
    "data.distance_city_center"
   ]
  },
  {
   "cell_type": "markdown",
   "id": "0479655c",
   "metadata": {},
   "source": [
    "## Исследовательский анализ данных"
   ]
  },
  {
   "cell_type": "markdown",
   "id": "018b532e",
   "metadata": {},
   "source": [
    "### Изучим количество квартир на рынке в зависимости от различных показателей"
   ]
  },
  {
   "cell_type": "code",
   "execution_count": 47,
   "id": "c82dabea",
   "metadata": {},
   "outputs": [
    {
     "data": {
      "text/plain": [
       "count    23699.000000\n",
       "mean        60.348651\n",
       "std         35.654083\n",
       "min         12.000000\n",
       "25%         40.000000\n",
       "50%         52.000000\n",
       "75%         69.900000\n",
       "max        900.000000\n",
       "Name: total_area, dtype: float64"
      ]
     },
     "execution_count": 47,
     "metadata": {},
     "output_type": "execute_result"
    }
   ],
   "source": [
    "#зависимость от total_area\n",
    "data.total_area.describe()"
   ]
  },
  {
   "cell_type": "code",
   "execution_count": 48,
   "id": "d3bdcbfe",
   "metadata": {},
   "outputs": [
    {
     "data": {
      "image/png": "[encoded data removed]",
      "text/plain": [
       "<Figure size 432x288 with 1 Axes>"
      ]
     },
     "metadata": {
      "needs_background": "light"
     },
     "output_type": "display_data"
    }
   ],
   "source": [
    "#строим гистограмму \n",
    "data.plot(y='total_area', kind='hist', bins=100, range=(12,100),  grid=True)\n",
    "plt.title('Зависимость количества объявлений от общей площади помещения')\n",
    "plt.xlabel('Общая площадь помещения')\n",
    "plt.ylabel('Количество объявлений')\n",
    "plt.show()"
   ]
  },
  {
   "cell_type": "markdown",
   "id": "52e57be7",
   "metadata": {},
   "source": [
    "Получаеся что больше всего квартир в диапазоне от 30м2 до 65м2, пик приходится примерно на 45м2"
   ]
  },
  {
   "cell_type": "code",
   "execution_count": 49,
   "id": "d34bcd1b",
   "metadata": {},
   "outputs": [
    {
     "data": {
      "text/plain": [
       "count    23699.000000\n",
       "mean        34.099892\n",
       "std         21.162096\n",
       "min          2.000000\n",
       "25%         19.000000\n",
       "50%         30.000000\n",
       "75%         41.100000\n",
       "max        409.700000\n",
       "Name: living_area, dtype: float64"
      ]
     },
     "execution_count": 49,
     "metadata": {},
     "output_type": "execute_result"
    }
   ],
   "source": [
    "#зависимость от living_area\n",
    "data.living_area.describe()"
   ]
  },
  {
   "cell_type": "code",
   "execution_count": 50,
   "id": "30e88381",
   "metadata": {},
   "outputs": [
    {
     "data": {
      "image/png": "[encoded data removed]",
      "text/plain": [
       "<Figure size 432x288 with 1 Axes>"
      ]
     },
     "metadata": {
      "needs_background": "light"
     },
     "output_type": "display_data"
    }
   ],
   "source": [
    "# строим гистограмму\n",
    "plt.hist(data.living_area, bins=100, range=(12,60))\n",
    "plt.title('Зависимость количества объявлений от жилой площади помещения')\n",
    "plt.xlabel('Жилая площадь помещения')\n",
    "plt.ylabel('Количество объявлений')\n",
    "plt.show()"
   ]
  },
  {
   "cell_type": "markdown",
   "id": "c75dcc4a",
   "metadata": {},
   "source": [
    "Получается самые распространенные варинанты до 15 до 45, при этом есть провал в диапазоне 22-25, после 55 уже мало вариантов"
   ]
  },
  {
   "cell_type": "code",
   "execution_count": 51,
   "id": "a72980ff",
   "metadata": {},
   "outputs": [
    {
     "data": {
      "text/plain": [
       "count    21421.000000\n",
       "mean        10.569807\n",
       "std          5.905438\n",
       "min          1.300000\n",
       "25%          7.000000\n",
       "50%          9.100000\n",
       "75%         12.000000\n",
       "max        112.000000\n",
       "Name: kitchen_area, dtype: float64"
      ]
     },
     "execution_count": 51,
     "metadata": {},
     "output_type": "execute_result"
    }
   ],
   "source": [
    "#зависимость от kitchen_area\n",
    "data.kitchen_area.describe()"
   ]
  },
  {
   "cell_type": "code",
   "execution_count": 52,
   "id": "7ae3e68f",
   "metadata": {},
   "outputs": [
    {
     "data": {
      "image/png": "[encoded data removed]",
      "text/plain": [
       "<Figure size 432x288 with 1 Axes>"
      ]
     },
     "metadata": {
      "needs_background": "light"
     },
     "output_type": "display_data"
    }
   ],
   "source": [
    "# строим гистограмму\n",
    "plt.hist(data.kitchen_area, bins=100, range=(2,30))\n",
    "plt.title('Зависимость количества объявлений от площади кухни')\n",
    "plt.xlabel('Площадь кухни')\n",
    "plt.ylabel('Количество объявлений')\n",
    "plt.show()"
   ]
  },
  {
   "cell_type": "markdown",
   "id": "40c5096d",
   "metadata": {},
   "source": [
    "В целом больше всего от 5 до 15, все что меньше или больше крайних значение - редкость"
   ]
  },
  {
   "cell_type": "code",
   "execution_count": 53,
   "id": "ace70a51",
   "metadata": {},
   "outputs": [
    {
     "data": {
      "text/plain": [
       "count    2.369900e+04\n",
       "mean     6.541549e+06\n",
       "std      1.088701e+07\n",
       "min      1.219000e+04\n",
       "25%      3.400000e+06\n",
       "50%      4.650000e+06\n",
       "75%      6.800000e+06\n",
       "max      7.630000e+08\n",
       "Name: last_price, dtype: float64"
      ]
     },
     "execution_count": 53,
     "metadata": {},
     "output_type": "execute_result"
    }
   ],
   "source": [
    "#зависимость от last_price\n",
    "data.last_price.describe()"
   ]
  },
  {
   "cell_type": "markdown",
   "id": "a418e471",
   "metadata": {},
   "source": [
    "В целом больше всего от 5 до 15, все что меньше или больше крайних значение - редкость"
   ]
  },
  {
   "cell_type": "code",
   "execution_count": 54,
   "id": "6cfacc95",
   "metadata": {},
   "outputs": [
    {
     "data": {
      "image/png": "[encoded data removed]",
      "text/plain": [
       "<Figure size 432x288 with 1 Axes>"
      ]
     },
     "metadata": {
      "needs_background": "light"
     },
     "output_type": "display_data"
    }
   ],
   "source": [
    "# строим гистограмму\n",
    "plt.hist(data.last_price, bins=100, range=(1.219000e+04,9.00000e+06))\n",
    "plt.title('Зависимость помещений в продаже от цены')\n",
    "plt.xlabel('Цена(млн)')\n",
    "plt.ylabel('Количество объявлений')\n",
    "plt.show()"
   ]
  },
  {
   "cell_type": "markdown",
   "id": "289be9d9",
   "metadata": {},
   "source": [
    "Из гисторгаммы следует, что наиболее часто цена объекта составляет 3,7 - 4,3 миллниона."
   ]
  },
  {
   "cell_type": "code",
   "execution_count": 55,
   "id": "67f3308c",
   "metadata": {},
   "outputs": [
    {
     "data": {
      "text/plain": [
       "count    23699.000000\n",
       "mean         2.070636\n",
       "std          1.078405\n",
       "min          0.000000\n",
       "25%          1.000000\n",
       "50%          2.000000\n",
       "75%          3.000000\n",
       "max         19.000000\n",
       "Name: rooms, dtype: float64"
      ]
     },
     "execution_count": 55,
     "metadata": {},
     "output_type": "execute_result"
    }
   ],
   "source": [
    "data.rooms.describe()"
   ]
  },
  {
   "cell_type": "code",
   "execution_count": 56,
   "id": "40ed4037",
   "metadata": {},
   "outputs": [
    {
     "data": {
      "image/png": "[encoded data removed]",
      "text/plain": [
       "<Figure size 432x288 with 1 Axes>"
      ]
     },
     "metadata": {
      "needs_background": "light"
     },
     "output_type": "display_data"
    }
   ],
   "source": [
    "# строим гистограмму\n",
    "(\n",
    "    data.query('1<=rooms &rooms<=6')\n",
    "    .plot(kind='hist', y='rooms', range=(0,6), bins=30)\n",
    ")\n",
    "plt.show()"
   ]
  },
  {
   "cell_type": "markdown",
   "id": "6300b662",
   "metadata": {},
   "source": [
    "Среди предложений больше всего однокомнатных квартир. С увеличением комнат количество предложений снижается почти линейно."
   ]
  },
  {
   "cell_type": "code",
   "execution_count": 57,
   "id": "42b46bbf",
   "metadata": {},
   "outputs": [
    {
     "data": {
      "text/plain": [
       "count    23699.000000\n",
       "mean         2.724358\n",
       "std          0.988298\n",
       "min          1.000000\n",
       "25%          2.600000\n",
       "50%          2.650000\n",
       "75%          2.700000\n",
       "max        100.000000\n",
       "Name: ceiling_height, dtype: float64"
      ]
     },
     "execution_count": 57,
     "metadata": {},
     "output_type": "execute_result"
    }
   ],
   "source": [
    "# зависимость от ceiling_height\n",
    "data.ceiling_height.describe()"
   ]
  },
  {
   "cell_type": "code",
   "execution_count": 58,
   "id": "23d39342",
   "metadata": {},
   "outputs": [
    {
     "data": {
      "image/png": "[encoded data removed]",
      "text/plain": [
       "<Figure size 432x288 with 1 Axes>"
      ]
     },
     "metadata": {
      "needs_background": "light"
     },
     "output_type": "display_data"
    }
   ],
   "source": [
    "#строим гистограмму  и отбрасываем аномальные значения с помощью среза\n",
    "(\n",
    "    data.query('2<=ceiling_height & ceiling_height<=4')\n",
    "    .plot(kind='hist', y='ceiling_height',range=(2,4), grid=True, bins=30)\n",
    ")\n",
    "plt.title('Зависимость количества объявлений от высоты потолков')\n",
    "plt.xlabel('Высота потолков(м)')\n",
    "plt.ylabel('Количество объявлений')\n",
    "plt.show()"
   ]
  },
  {
   "cell_type": "markdown",
   "id": "17ca47ed",
   "metadata": {},
   "source": [
    "Больше всего квартир с высотой потолков 2.5м"
   ]
  },
  {
   "cell_type": "code",
   "execution_count": 59,
   "id": "32d29877",
   "metadata": {},
   "outputs": [
    {
     "data": {
      "text/plain": [
       "count      23699\n",
       "unique         3\n",
       "top       другой\n",
       "freq       17446\n",
       "Name: type_apartment_floor, dtype: object"
      ]
     },
     "execution_count": 59,
     "metadata": {},
     "output_type": "execute_result"
    }
   ],
   "source": [
    "# зависимость от type_apartment_floor\n",
    "data.type_apartment_floor.describe()"
   ]
  },
  {
   "cell_type": "code",
   "execution_count": 60,
   "id": "da97c363",
   "metadata": {},
   "outputs": [
    {
     "data": {
      "text/plain": [
       "другой       17446\n",
       "последний     3336\n",
       "первый        2917\n",
       "Name: type_apartment_floor, dtype: int64"
      ]
     },
     "execution_count": 60,
     "metadata": {},
     "output_type": "execute_result"
    }
   ],
   "source": [
    "#считаем сколько помещений каждого типа\n",
    "data.type_apartment_floor.value_counts()"
   ]
  },
  {
   "cell_type": "code",
   "execution_count": 61,
   "id": "c7681be7",
   "metadata": {},
   "outputs": [
    {
     "data": {
      "image/png": "[encoded data removed]",
      "text/plain": [
       "<Figure size 432x288 with 1 Axes>"
      ]
     },
     "metadata": {
      "needs_background": "light"
     },
     "output_type": "display_data"
    }
   ],
   "source": [
    "#строим гистограмму\n",
    "data.type_apartment_floor.value_counts().plot()\n",
    "plt.title('Зависимость количества объявлений от этажа')\n",
    "plt.xlabel('Этаж')\n",
    "plt.ylabel('Количество объявлений')\n",
    "plt.show()"
   ]
  },
  {
   "cell_type": "markdown",
   "id": "3517eefc",
   "metadata": {},
   "source": [
    "Видно, что объекты недвижимости, расположенные на первом и последним этажах имеют примерно одинаковые значения и их доля не столь велика. В основном объекты расположены на этажах между первым и последним."
   ]
  },
  {
   "cell_type": "code",
   "execution_count": 62,
   "id": "b78aa7a7",
   "metadata": {},
   "outputs": [
    {
     "data": {
      "text/plain": [
       "count    23699.000000\n",
       "mean        10.635090\n",
       "std          6.616396\n",
       "min          0.000000\n",
       "25%          5.000000\n",
       "50%          9.000000\n",
       "75%         16.000000\n",
       "max         60.000000\n",
       "Name: floors_total, dtype: float64"
      ]
     },
     "execution_count": 62,
     "metadata": {},
     "output_type": "execute_result"
    }
   ],
   "source": [
    "#смотрим зависимость от floors_total\n",
    "data.floors_total.describe()"
   ]
  },
  {
   "cell_type": "code",
   "execution_count": 63,
   "id": "1fb5daa1",
   "metadata": {},
   "outputs": [
    {
     "data": {
      "image/png": "[encoded data removed]",
      "text/plain": [
       "<Figure size 432x288 with 1 Axes>"
      ]
     },
     "metadata": {
      "needs_background": "light"
     },
     "output_type": "display_data"
    }
   ],
   "source": [
    "#строим гистограмму и отбрасываем аномальные значения\n",
    "\n",
    "plt.hist(data.query('1<=floors_total & floors_total<=29')['floors_total'], bins=30, range=(1,30))\n",
    "plt.title('Зависимость количества объявлений от количества этажей в доме')\n",
    "plt.xlabel('Количество этажей в доме')\n",
    "plt.ylabel('Количество объявлений')\n",
    "plt.show()"
   ]
  },
  {
   "cell_type": "markdown",
   "id": "785b2a75",
   "metadata": {},
   "source": [
    "Больше всего предложений о продаже квартир в пятиэтажных домах, а потом в девятиэтажках."
   ]
  },
  {
   "cell_type": "code",
   "execution_count": 64,
   "id": "9748da35",
   "metadata": {},
   "outputs": [
    {
     "data": {
      "text/plain": [
       "count    18180.000000\n",
       "mean     14191.277833\n",
       "std       8608.386210\n",
       "min        181.000000\n",
       "25%       9238.000000\n",
       "50%      13098.500000\n",
       "75%      16293.000000\n",
       "max      65968.000000\n",
       "Name: city_centers_nearest, dtype: float64"
      ]
     },
     "execution_count": 64,
     "metadata": {},
     "output_type": "execute_result"
    }
   ],
   "source": [
    "#зависимость от city_centers_nearest\n",
    "data.city_centers_nearest.describe()"
   ]
  },
  {
   "cell_type": "code",
   "execution_count": 65,
   "id": "c81148ef",
   "metadata": {},
   "outputs": [
    {
     "data": {
      "image/png": "[encoded data removed]",
      "text/plain": [
       "<Figure size 432x288 with 1 Axes>"
      ]
     },
     "metadata": {
      "needs_background": "light"
     },
     "output_type": "display_data"
    }
   ],
   "source": [
    "#строим гистограмму  откидываем аномальные значения\n",
    "plt.hist(data.query('city_centers_nearest>=0 & city_centers_nearest<=35000')['city_centers_nearest'], bins=50, range=(0,35000))\n",
    "plt.title('Зависимость количества объявлений от удаленности от центра города')\n",
    "plt.xlabel('Расстояние до центра города(М)')\n",
    "plt.ylabel('Количество объявлений')\n",
    "plt.show()"
   ]
  },
  {
   "cell_type": "markdown",
   "id": "519cc9d3",
   "metadata": {},
   "source": [
    "Больше всего в диапазоне от 12000 до 18000 и на 5000"
   ]
  },
  {
   "cell_type": "code",
   "execution_count": 66,
   "id": "5186ceb6",
   "metadata": {},
   "outputs": [
    {
     "data": {
      "text/plain": [
       "count    8079.000000\n",
       "mean      490.804555\n",
       "std       342.317995\n",
       "min         1.000000\n",
       "25%       288.000000\n",
       "50%       455.000000\n",
       "75%       612.000000\n",
       "max      3190.000000\n",
       "Name: parks_nearest, dtype: float64"
      ]
     },
     "execution_count": 66,
     "metadata": {},
     "output_type": "execute_result"
    }
   ],
   "source": [
    "#зависимость от parks_nearest\n",
    "data.parks_nearest.describe()"
   ]
  },
  {
   "cell_type": "code",
   "execution_count": 67,
   "id": "a290da2e",
   "metadata": {},
   "outputs": [
    {
     "data": {
      "image/png": "[encoded data removed]",
      "text/plain": [
       "<Figure size 432x288 with 1 Axes>"
      ]
     },
     "metadata": {
      "needs_background": "light"
     },
     "output_type": "display_data"
    }
   ],
   "source": [
    "#строим гистограмму\n",
    "plt.hist(data.parks_nearest, bins=100, range=(10,1500))\n",
    "plt.title('Зависимость количества объявлений от парка')\n",
    "plt.xlabel('Расстояние до парка(М)')\n",
    "plt.ylabel('Количество объявлений')\n",
    "plt.show()"
   ]
  },
  {
   "cell_type": "markdown",
   "id": "901945d2",
   "metadata": {},
   "source": [
    "Видно, что больше всего предложений в диапазоне от 100 до 770, можно даже сказать что основная часть предложений именно в этом диапазоне"
   ]
  },
  {
   "cell_type": "markdown",
   "id": "dfd51496",
   "metadata": {},
   "source": [
    "1. Больше всего квартир с общей площадью в диапазоне от 30м2 до 65м2, пик приходится примерно на 45м2  \n",
    "2. Самые распространенные варинанты квартиры с жилой площадтю от 15м2 до 45м2, при этом есть провал в диапазоне 22м2-25м2, после 55м2 уже мало вариантов  \n",
    "3. В целом больше всего квартир с площадью кухни от 5м2 до 15м2, все что меньше или больше крайних значение - редкость  \n",
    "4. Наиболее часто цена объекта недвижимости составляет 3,7 - 4,3 миллниона.  \n",
    "5. Среди предложений больше всего однокомнатных квартир. С увеличением комнат количество предложений снижается почти линейно.  \n",
    "6. Больше всего квартир с высотой потолков 2.5м  \n",
    "7. Видно, что объекты недвижимости, расположенные на первом и последним этажах имеют примерно одинаковые значения и их доля не столь велика. В основном объекты расположены на этажах между первым и последним.  \n",
    "8. Больше всего предложений о продаже квартир в пятиэтажных домах, а потом в девятиэтажках.  \n",
    "9. Больше всего объектов недвижимости в диапазоне от 12000м до 18000м и на 5000м от центра города  \n",
    "10. Видно, что больше всего предложений о продаже объектов недвижимости с удалением от водоемов в диапазоне от 100м до 770м, можно даже сказать что основная часть предложений именно в этом диапазоне"
   ]
  },
  {
   "cell_type": "markdown",
   "id": "9d799e4c",
   "metadata": {},
   "source": [
    "### Изучим как быстро продавались квартиры"
   ]
  },
  {
   "cell_type": "code",
   "execution_count": 68,
   "id": "a15352d6",
   "metadata": {},
   "outputs": [
    {
     "data": {
      "image/png": "[encoded data removed]",
      "text/plain": [
       "<Figure size 432x288 with 1 Axes>"
      ]
     },
     "metadata": {
      "needs_background": "light"
     },
     "output_type": "display_data"
    }
   ],
   "source": [
    "#построим гистограмму\n",
    "plt.hist(data.query('days_exposition>=0 & days_exposition<=1500')['days_exposition'], bins=100, range=(0,1500))\n",
    "plt.title('Скорость продажи помещений')\n",
    "plt.xlabel('Количетсво дней')\n",
    "plt.ylabel('Количество объявлений')\n",
    "plt.show()"
   ]
  },
  {
   "cell_type": "code",
   "execution_count": 69,
   "id": "b642158d",
   "metadata": {},
   "outputs": [
    {
     "data": {
      "text/plain": [
       "count    23699.000000\n",
       "mean       121.173425\n",
       "std        254.561110\n",
       "min       -264.000000\n",
       "25%         22.000000\n",
       "50%         74.000000\n",
       "75%        199.000000\n",
       "max       1580.000000\n",
       "Name: days_exposition, dtype: float64"
      ]
     },
     "execution_count": 69,
     "metadata": {},
     "output_type": "execute_result"
    }
   ],
   "source": [
    "data.days_exposition.describe()"
   ]
  },
  {
   "cell_type": "markdown",
   "id": "dc273388",
   "metadata": {},
   "source": [
    "Получается среднее время продажи помещения  = 180 дней  \n",
    "Медианное = 95 дней  \n",
    "Быстрые продажи можно считать те которые находятся в первом квартилиуме(от 1 до 45 дней)  \n",
    "Медленными можно считать те которые находятся в 4 квартилиуме(от 232 дней)  "
   ]
  },
  {
   "cell_type": "markdown",
   "id": "212d37c9",
   "metadata": {},
   "source": [
    "### Определим факторы, которые больше всего влияют на общую (полную) стоимость объекта"
   ]
  },
  {
   "cell_type": "code",
   "execution_count": 70,
   "id": "9099af66",
   "metadata": {},
   "outputs": [
    {
     "data": {
      "text/html": [
       "<div>\n",
       "<style scoped>\n",
       "    .dataframe tbody tr th:only-of-type {\n",
       "        vertical-align: middle;\n",
       "    }\n",
       "\n",
       "    .dataframe tbody tr th {\n",
       "        vertical-align: top;\n",
       "    }\n",
       "\n",
       "    .dataframe thead th {\n",
       "        text-align: right;\n",
       "    }\n",
       "</style>\n",
       "<table border=\"1\" class=\"dataframe\">\n",
       "  <thead>\n",
       "    <tr style=\"text-align: right;\">\n",
       "      <th></th>\n",
       "      <th>kitchen_area</th>\n",
       "      <th>last_price</th>\n",
       "      <th>living_area</th>\n",
       "      <th>rooms</th>\n",
       "      <th>total_area</th>\n",
       "    </tr>\n",
       "  </thead>\n",
       "  <tbody>\n",
       "    <tr>\n",
       "      <th>kitchen_area</th>\n",
       "      <td>1.000000</td>\n",
       "      <td>0.361686</td>\n",
       "      <td>0.111090</td>\n",
       "      <td>0.094420</td>\n",
       "      <td>0.411305</td>\n",
       "    </tr>\n",
       "    <tr>\n",
       "      <th>last_price</th>\n",
       "      <td>0.361686</td>\n",
       "      <td>1.000000</td>\n",
       "      <td>0.635380</td>\n",
       "      <td>0.442449</td>\n",
       "      <td>0.738972</td>\n",
       "    </tr>\n",
       "    <tr>\n",
       "      <th>living_area</th>\n",
       "      <td>0.111090</td>\n",
       "      <td>0.635380</td>\n",
       "      <td>1.000000</td>\n",
       "      <td>0.900067</td>\n",
       "      <td>0.927994</td>\n",
       "    </tr>\n",
       "    <tr>\n",
       "      <th>rooms</th>\n",
       "      <td>0.094420</td>\n",
       "      <td>0.442449</td>\n",
       "      <td>0.900067</td>\n",
       "      <td>1.000000</td>\n",
       "      <td>0.811538</td>\n",
       "    </tr>\n",
       "    <tr>\n",
       "      <th>total_area</th>\n",
       "      <td>0.411305</td>\n",
       "      <td>0.738972</td>\n",
       "      <td>0.927994</td>\n",
       "      <td>0.811538</td>\n",
       "      <td>1.000000</td>\n",
       "    </tr>\n",
       "  </tbody>\n",
       "</table>\n",
       "</div>"
      ],
      "text/plain": [
       "              kitchen_area  last_price  living_area     rooms  total_area\n",
       "kitchen_area      1.000000    0.361686     0.111090  0.094420    0.411305\n",
       "last_price        0.361686    1.000000     0.635380  0.442449    0.738972\n",
       "living_area       0.111090    0.635380     1.000000  0.900067    0.927994\n",
       "rooms             0.094420    0.442449     0.900067  1.000000    0.811538\n",
       "total_area        0.411305    0.738972     0.927994  0.811538    1.000000"
      ]
     },
     "execution_count": 70,
     "metadata": {},
     "output_type": "execute_result"
    }
   ],
   "source": [
    "#построим сводную таблицу\n",
    "data.pivot_table(index='floor', values=['last_price','total_area','living_area','kitchen_area','rooms']).corr()"
   ]
  },
  {
   "cell_type": "markdown",
   "id": "4045a4e4",
   "metadata": {},
   "source": [
    "Из полученной таблицы видим что больше всего зависимость между ценой и общей площадью и между ценой и жилой площадью"
   ]
  },
  {
   "cell_type": "markdown",
   "id": "711d0f0d",
   "metadata": {},
   "source": [
    "### Построим графики этих значений"
   ]
  },
  {
   "cell_type": "code",
   "execution_count": 71,
   "id": "c9c01722",
   "metadata": {},
   "outputs": [
    {
     "data": {
      "image/png": "[encoded data removed]",
      "text/plain": [
       "<Figure size 864x504 with 1 Axes>"
      ]
     },
     "metadata": {
      "needs_background": "light"
     },
     "output_type": "display_data"
    }
   ],
   "source": [
    "#построим сводную таблицу и график\n",
    "(\n",
    "    data.pivot_table(index='total_area', values='last_price')\n",
    "    .plot(grid=True, style='o', figsize=(12,7))\n",
    ")\n",
    "plt.show()"
   ]
  },
  {
   "cell_type": "code",
   "execution_count": 72,
   "id": "3b0c75ba",
   "metadata": {},
   "outputs": [
    {
     "data": {
      "image/png": "[encoded data removed]",
      "text/plain": [
       "<Figure size 432x288 with 1 Axes>"
      ]
     },
     "metadata": {
      "needs_background": "light"
     },
     "output_type": "display_data"
    }
   ],
   "source": [
    "#построим сводную таблицу и график\n",
    "(\n",
    "    data.pivot_table(index='living_area', values='last_price')\n",
    "    .plot(grid=True, style='o')\n",
    ")\n",
    "plt.title('Зависимость цены от жилой площади')\n",
    "plt.show()"
   ]
  },
  {
   "cell_type": "code",
   "execution_count": 73,
   "id": "ad2f2892",
   "metadata": {},
   "outputs": [
    {
     "data": {
      "image/png": "[encoded data removed]",
      "text/plain": [
       "<Figure size 432x288 with 1 Axes>"
      ]
     },
     "metadata": {
      "needs_background": "light"
     },
     "output_type": "display_data"
    }
   ],
   "source": [
    "#построим сводную таблицу и график\n",
    "(\n",
    "    data.pivot_table(index='kitchen_area', values='last_price')\n",
    "    .plot(grid=True, style='o')\n",
    ")\n",
    "plt.title('Зависимость цены от площади кухни')\n",
    "plt.show()"
   ]
  },
  {
   "cell_type": "code",
   "execution_count": 74,
   "id": "2d667a13",
   "metadata": {},
   "outputs": [
    {
     "data": {
      "image/png": "[encoded data removed]",
      "text/plain": [
       "<Figure size 432x288 with 1 Axes>"
      ]
     },
     "metadata": {
      "needs_background": "light"
     },
     "output_type": "display_data"
    }
   ],
   "source": [
    "#построим сводную таблицу и график\n",
    "(\n",
    "    data.pivot_table(index='rooms', values='last_price')\n",
    "    .plot(grid=True, style='o-')\n",
    ")\n",
    "plt.title('Зависимость цены от количества комнат')\n",
    "plt.show()"
   ]
  },
  {
   "cell_type": "code",
   "execution_count": 75,
   "id": "d73db8ca",
   "metadata": {},
   "outputs": [
    {
     "data": {
      "image/png": "[encoded data removed]",
      "text/plain": [
       "<Figure size 432x288 with 1 Axes>"
      ]
     },
     "metadata": {
      "needs_background": "light"
     },
     "output_type": "display_data"
    }
   ],
   "source": [
    "#построим сводную таблицу и график\n",
    "(\n",
    "    data.pivot_table(index='weekday', values='last_price')\n",
    "    .plot(grid=True, style='o-')\n",
    ")\n",
    "plt.title('Зависимость цены от дня недели')\n",
    "plt.show()"
   ]
  },
  {
   "cell_type": "code",
   "execution_count": 76,
   "id": "53b4ee64",
   "metadata": {},
   "outputs": [
    {
     "data": {
      "image/png": "[encoded data removed]",
      "text/plain": [
       "<Figure size 432x288 with 1 Axes>"
      ]
     },
     "metadata": {
      "needs_background": "light"
     },
     "output_type": "display_data"
    }
   ],
   "source": [
    "#построим сводную таблицу и график\n",
    "(\n",
    "    data.pivot_table(index='month', values='last_price')\n",
    "    .plot(grid=True, style='o-')\n",
    ")\n",
    "plt.title('Зависимость цены от месяца')\n",
    "plt.show()"
   ]
  },
  {
   "cell_type": "code",
   "execution_count": 77,
   "id": "883a7e71",
   "metadata": {},
   "outputs": [
    {
     "data": {
      "image/png": "[encoded data removed]",
      "text/plain": [
       "<Figure size 432x288 with 1 Axes>"
      ]
     },
     "metadata": {
      "needs_background": "light"
     },
     "output_type": "display_data"
    }
   ],
   "source": [
    "#построим сводную таблицу и график\n",
    "(\n",
    "    data.pivot_table(index='year', values='last_price')\n",
    "    .plot(grid=True, style='o-')\n",
    ")\n",
    "plt.title('Зависимость цены от года')\n",
    "plt.show()"
   ]
  },
  {
   "cell_type": "markdown",
   "id": "7a22ea73",
   "metadata": {},
   "source": [
    "Предворительные выводы подтвердились:\n",
    "\n",
    "Чем больше общая площадь, тем выше стоимость. Корреляция этих параметров крайне высокая.  \n",
    "Число комнат влияет на цену (больше комнат -> больше жилая площадь -> больше цена), однако зависимость ниже, чем у площади, так как бывают квартиры с большими по площади комнатами и квартиры в центре состоят из малого числа комнат, но стоят достаточно высоко.  \n",
    "Первый этаж непосредственно влияет на стоимость квартиры - в среднем квартиры на 1-м этаже значительно дешевле.     Чуть дороже последний этаж. Наибольшая стоимость у квартир, расположенных не на 1-м и не на последнем этаже.  "
   ]
  },
  {
   "cell_type": "markdown",
   "id": "7e010c53",
   "metadata": {},
   "source": [
    "### Посчитаем среднюю цену одного квадратного метра в 10 населённых пунктах с наибольшим числом объявлений"
   ]
  },
  {
   "cell_type": "code",
   "execution_count": 78,
   "id": "89345984",
   "metadata": {},
   "outputs": [
    {
     "data": {
      "image/png": "[encoded data removed]",
      "text/plain": [
       "<Figure size 720x720 with 1 Axes>"
      ]
     },
     "metadata": {},
     "output_type": "display_data"
    }
   ],
   "source": [
    "#делаем сводную таблицу\n",
    "city_top = data.pivot_table(index='locality_name', values='price_per_meter', aggfunc='count')\n",
    "#переименовываем столбец\n",
    "city_top.columns = ['count']\n",
    "#добавляем столбец с ценой за метр\n",
    "city_top['price_per_meter'] = data.pivot_table(index='locality_name', values='price_per_meter').round(2)\n",
    "#сортируем по количеству предложений\n",
    "city_top = city_top.sort_values('count',ascending=False).head(10)\n",
    "#сортируем по цене\n",
    "city_top.sort_values('price_per_meter',ascending=False)\n",
    "#построим круговую диаграмму\n",
    "city_top.plot.pie(y='price_per_meter',figsize=(10,10),\n",
    "                  title='Населённые пункты с самой высокой и низкой стоимостью жилья',)\n",
    "plt.show()"
   ]
  },
  {
   "cell_type": "markdown",
   "id": "d003187e",
   "metadata": {},
   "source": [
    "Получается что самая дорогая цена за м2  в Санкт-Петербурге"
   ]
  },
  {
   "cell_type": "markdown",
   "id": "1e973c15",
   "metadata": {},
   "source": [
    "### Вычислим зависимость цены от удаления от центра г. Санкт-Петербург"
   ]
  },
  {
   "cell_type": "code",
   "execution_count": 79,
   "id": "8b90e8a7",
   "metadata": {},
   "outputs": [
    {
     "data": {
      "text/plain": [
       "0        16.0\n",
       "1        19.0\n",
       "2        14.0\n",
       "3         7.0\n",
       "4         8.0\n",
       "         ... \n",
       "23694     4.0\n",
       "23695     NaN\n",
       "23696     NaN\n",
       "23697    10.0\n",
       "23698     NaN\n",
       "Name: distance_city_center, Length: 23699, dtype: float64"
      ]
     },
     "execution_count": 79,
     "metadata": {},
     "output_type": "execute_result"
    }
   ],
   "source": [
    "# смотрим столбец distance_city_center\n",
    "data.distance_city_center"
   ]
  },
  {
   "cell_type": "code",
   "execution_count": 80,
   "id": "1d6271c3",
   "metadata": {},
   "outputs": [
    {
     "data": {
      "text/plain": [
       "0        санкт-петербург\n",
       "1                 шушары\n",
       "2        санкт-петербург\n",
       "3        санкт-петербург\n",
       "4        санкт-петербург\n",
       "              ...       \n",
       "23694    санкт-петербург\n",
       "23695              тосно\n",
       "23696        рождествено\n",
       "23697    санкт-петербург\n",
       "23698        новый учхоз\n",
       "Name: locality_name, Length: 23699, dtype: object"
      ]
     },
     "execution_count": 80,
     "metadata": {},
     "output_type": "execute_result"
    }
   ],
   "source": [
    "data.locality_name"
   ]
  },
  {
   "cell_type": "code",
   "execution_count": 81,
   "id": "88810143",
   "metadata": {},
   "outputs": [
    {
     "data": {
      "text/plain": [
       "count    15660.000000\n",
       "mean        11.596041\n",
       "std          4.863594\n",
       "min          0.000000\n",
       "25%          8.000000\n",
       "50%         12.000000\n",
       "75%         15.000000\n",
       "max         29.000000\n",
       "Name: distance_city_center, dtype: float64"
      ]
     },
     "execution_count": 81,
     "metadata": {},
     "output_type": "execute_result"
    }
   ],
   "source": [
    "#посмотрим информацию о удаленности помещений от центра города\n",
    "data.query('locality_name == \"санкт-петербург\"')['distance_city_center'].describe()\n"
   ]
  },
  {
   "cell_type": "code",
   "execution_count": 82,
   "id": "7b802250",
   "metadata": {},
   "outputs": [
    {
     "data": {
      "image/png": "[encoded data removed]",
      "text/plain": [
       "<Figure size 720x864 with 1 Axes>"
      ]
     },
     "metadata": {
      "needs_background": "light"
     },
     "output_type": "display_data"
    }
   ],
   "source": [
    "#построим сводную таблицу и по ней гистограмму\n",
    "(data.query('locality_name == \"санкт-петербург\"')\n",
    " .pivot_table(index='distance_city_center', values='last_price')\n",
    " .plot(style='o-', grid=True, color='green', figsize=(10,12))\n",
    "      )\n",
    "plt.xlabel('Расстояние до центра города(км)')\n",
    "plt.ylabel('Цена(млн)')\n",
    "plt.show()"
   ]
  },
  {
   "cell_type": "markdown",
   "id": "b18a133b",
   "metadata": {},
   "source": [
    "Основная тенденция видна, в центре города самые дорогие квартиры(до 5км)"
   ]
  },
  {
   "cell_type": "markdown",
   "id": "374ae512",
   "metadata": {},
   "source": [
    "## Общий вывод"
   ]
  },
  {
   "cell_type": "markdown",
   "id": "11aca19f",
   "metadata": {},
   "source": [
    "1. **Изучили информацию о файле**  \n",
    "В данных 23699 записи.  \n",
    "Есть пропущенные значения и некорректный тип данных.  \n",
    "Дубликаты отсутствуют.\n",
    "2. **В процессе предобработки данных:**    \n",
    "Переименовали название столбца.  \n",
    "Заполнили явные пропуски где это возможно.  \n",
    "Изменили типы данных там где это возможно.  \n",
    "Обработали столбец locality_name  \n",
    "Сделали вывод о причинах появления пропусков(человеческий фактор, программные сбои)\n",
    "3. **Добавлены новые столбцы в таблицу для проведения следующего этапа**  \n",
    "price_square_meter - цена квадратного метра объекта с точностью до двух знаков после запятой.  \n",
    "day_publication - день недели публикации объявления (0 — понедельник, 1 — вторник и так далее).  \n",
    "month_publication - месяц публикации объявления.  \n",
    "year_publication - год публикации объявления.  \n",
    "type_apartment_floor - тип этажа квартиры (значения — «первый», «последний», «другой»).  \n",
    "distance_city_center - расстояние до центра города в целых километрах.    \n",
    "4. **Изучили количество квартир на рынке в зависимости от различных показателей:**  \n",
    "Больше всего квартир с общей площадью в диапазоне от 30м2 до 65м2, пик приходится примерно на 45м2  \n",
    "Самые распространенные варинанты квартиры с жилой площадтю от 15м2 до 45м2, при этом есть про в диапазоне 22м2-25м2, после 55м2 уже мало вариантов  \n",
    "В целом больше всего квартир с площадью кухни от 5м2 до 15м2, все что меньше или больше крайних значение - редкость \n",
    "Наиболее часто цена объекта недвижимости составляет 3,7 - 4,3 миллниона.  \n",
    "Среди предложений больше всего однокомнатных квартир. С увеличением комнат количество предложений снижается почти линейно.  \n",
    "Больше всего квартир с высотой потолков 2.5м  \n",
    "Видно, что объекты недвижимости, расположенные на первом и последним этажах имеют примерно одинаковые значения и их доля не столь велика. В основном объекты расположены на этажах между первым и последним.  \n",
    "Больше всего предложений о продаже квартир в пятиэтажных домах, а потом в девятиэтажках.  \n",
    "Больше всего объектов недвижимости в диапазоне от 12000м до 18000м и на 5000м от центра города  \n",
    "Видно, что больше всего предложений о продаже объектов недвижимости с удалением от водоемов в диапазоне от 100м до 770м, можно даже сказать что основная часть предложений именно в этом диапазоне.  \n",
    "**Изучили как быстро продавались квартиры:**    \n",
    "Среднее время продажи помещения  = 180 дней  \n",
    "Медианное = 95 дней  \n",
    "Быстрые продажи можно считать те которые находятся в первом квартилиуме(от 1 до 45 дней)  \n",
    "Медленными можно считать те которые находятся в 4 квартилиуме(от 232 дней)  \n",
    "**Определили факторы, которые больше всего влияют на общую (полную) стоимость объекта:**  \n",
    "Чем больше общая площадь, тем выше стоимость. Корреляция этих параметров крайне высокая.  \n",
    "Число комнат влияет на цену (больше комнат -> больше жилая площадь -> больше цена), однако зависимость ниже, чем у площади, так как бывают квартиры с большими по площади комнатами и квартиры в центре состоят из малого числа комнат, но стоят достаточно высоко.  \n",
    "Первый этаж непосредственно влияет на стоимость квартиры - в среднем квартиры на 1-м этаже значительно дешевле.     Чуть дороже последний этаж. Наибольшая стоимость у квартир, расположенных не на 1-м и не на последнем этаже.   \n",
    "**Посчитали среднюю цену одного квадратного метра в 10 населённых пунктах с наибольшим числом объявлений** и выяснили что дороже всего цена за квадратный метр в г. Санкт-Петербург  \n",
    "**Вычислили зависимость цены от удаления от центра г. Санкт-Петербург**  и поняли что самые дорогие квартиры в радиусе 5км от центра города"
   ]
  }
 ],
 "metadata": {
  "ExecuteTimeLog": [
   {
    "duration": 816,
    "start_time": "2024-03-11T18:25:12.687Z"
   },
   {
    "duration": 45,
    "start_time": "2024-03-11T18:25:13.505Z"
   },
   {
    "duration": 18,
    "start_time": "2024-03-11T18:25:13.552Z"
   },
   {
    "duration": 69,
    "start_time": "2024-03-11T18:25:13.571Z"
   },
   {
    "duration": 20,
    "start_time": "2024-03-11T18:25:13.658Z"
   },
   {
    "duration": 1934,
    "start_time": "2024-03-11T18:25:13.679Z"
   },
   {
    "duration": 9,
    "start_time": "2024-03-11T18:25:15.615Z"
   },
   {
    "duration": 10,
    "start_time": "2024-03-11T18:25:15.626Z"
   },
   {
    "duration": 24,
    "start_time": "2024-03-11T18:25:15.637Z"
   },
   {
    "duration": 5,
    "start_time": "2024-03-11T18:25:15.662Z"
   },
   {
    "duration": 36,
    "start_time": "2024-03-11T18:25:15.668Z"
   },
   {
    "duration": 6,
    "start_time": "2024-03-11T18:25:15.705Z"
   },
   {
    "duration": 8,
    "start_time": "2024-03-11T18:25:15.712Z"
   },
   {
    "duration": 5,
    "start_time": "2024-03-11T18:25:15.723Z"
   },
   {
    "duration": 13,
    "start_time": "2024-03-11T18:25:15.729Z"
   },
   {
    "duration": 8,
    "start_time": "2024-03-11T18:25:15.743Z"
   },
   {
    "duration": 6,
    "start_time": "2024-03-11T18:25:15.759Z"
   },
   {
    "duration": 21,
    "start_time": "2024-03-11T18:25:15.766Z"
   },
   {
    "duration": 8,
    "start_time": "2024-03-11T18:25:15.788Z"
   },
   {
    "duration": 6,
    "start_time": "2024-03-11T18:25:15.797Z"
   },
   {
    "duration": 8,
    "start_time": "2024-03-11T18:25:15.805Z"
   },
   {
    "duration": 101,
    "start_time": "2024-03-11T18:25:15.815Z"
   },
   {
    "duration": 0,
    "start_time": "2024-03-11T18:25:15.919Z"
   },
   {
    "duration": 0,
    "start_time": "2024-03-11T18:25:15.919Z"
   },
   {
    "duration": 0,
    "start_time": "2024-03-11T18:25:15.920Z"
   },
   {
    "duration": 0,
    "start_time": "2024-03-11T18:25:15.921Z"
   },
   {
    "duration": 0,
    "start_time": "2024-03-11T18:25:15.922Z"
   },
   {
    "duration": 0,
    "start_time": "2024-03-11T18:25:15.923Z"
   },
   {
    "duration": 0,
    "start_time": "2024-03-11T18:25:15.924Z"
   },
   {
    "duration": 0,
    "start_time": "2024-03-11T18:25:15.925Z"
   },
   {
    "duration": 0,
    "start_time": "2024-03-11T18:25:15.926Z"
   },
   {
    "duration": 0,
    "start_time": "2024-03-11T18:25:15.928Z"
   },
   {
    "duration": 0,
    "start_time": "2024-03-11T18:25:15.928Z"
   },
   {
    "duration": 0,
    "start_time": "2024-03-11T18:25:15.929Z"
   },
   {
    "duration": 0,
    "start_time": "2024-03-11T18:25:15.931Z"
   },
   {
    "duration": 0,
    "start_time": "2024-03-11T18:25:15.931Z"
   },
   {
    "duration": 0,
    "start_time": "2024-03-11T18:25:15.932Z"
   },
   {
    "duration": 0,
    "start_time": "2024-03-11T18:25:15.934Z"
   },
   {
    "duration": 0,
    "start_time": "2024-03-11T18:25:15.958Z"
   },
   {
    "duration": 0,
    "start_time": "2024-03-11T18:25:15.959Z"
   },
   {
    "duration": 0,
    "start_time": "2024-03-11T18:25:15.960Z"
   },
   {
    "duration": 0,
    "start_time": "2024-03-11T18:25:15.961Z"
   },
   {
    "duration": 0,
    "start_time": "2024-03-11T18:25:15.962Z"
   },
   {
    "duration": 0,
    "start_time": "2024-03-11T18:25:15.963Z"
   },
   {
    "duration": 0,
    "start_time": "2024-03-11T18:25:15.964Z"
   },
   {
    "duration": 0,
    "start_time": "2024-03-11T18:25:15.965Z"
   },
   {
    "duration": 0,
    "start_time": "2024-03-11T18:25:15.966Z"
   },
   {
    "duration": 0,
    "start_time": "2024-03-11T18:25:15.967Z"
   },
   {
    "duration": 0,
    "start_time": "2024-03-11T18:25:15.968Z"
   },
   {
    "duration": 0,
    "start_time": "2024-03-11T18:25:15.969Z"
   },
   {
    "duration": 0,
    "start_time": "2024-03-11T18:25:15.970Z"
   },
   {
    "duration": 0,
    "start_time": "2024-03-11T18:25:15.971Z"
   },
   {
    "duration": 0,
    "start_time": "2024-03-11T18:25:15.972Z"
   },
   {
    "duration": 0,
    "start_time": "2024-03-11T18:25:15.973Z"
   },
   {
    "duration": 0,
    "start_time": "2024-03-11T18:25:15.974Z"
   },
   {
    "duration": 0,
    "start_time": "2024-03-11T18:25:15.975Z"
   },
   {
    "duration": 0,
    "start_time": "2024-03-11T18:25:15.976Z"
   },
   {
    "duration": 0,
    "start_time": "2024-03-11T18:25:15.977Z"
   },
   {
    "duration": 0,
    "start_time": "2024-03-11T18:25:15.978Z"
   },
   {
    "duration": 0,
    "start_time": "2024-03-11T18:25:15.979Z"
   },
   {
    "duration": 0,
    "start_time": "2024-03-11T18:25:15.980Z"
   },
   {
    "duration": 0,
    "start_time": "2024-03-11T18:25:15.980Z"
   },
   {
    "duration": 0,
    "start_time": "2024-03-11T18:25:15.982Z"
   },
   {
    "duration": 0,
    "start_time": "2024-03-11T18:25:15.983Z"
   },
   {
    "duration": 0,
    "start_time": "2024-03-11T18:25:15.984Z"
   },
   {
    "duration": 0,
    "start_time": "2024-03-11T18:25:15.985Z"
   },
   {
    "duration": 0,
    "start_time": "2024-03-11T18:25:15.986Z"
   },
   {
    "duration": 0,
    "start_time": "2024-03-11T18:25:15.987Z"
   },
   {
    "duration": 0,
    "start_time": "2024-03-11T18:25:15.987Z"
   },
   {
    "duration": 0,
    "start_time": "2024-03-11T18:25:15.988Z"
   },
   {
    "duration": 0,
    "start_time": "2024-03-11T18:25:15.989Z"
   },
   {
    "duration": 0,
    "start_time": "2024-03-11T18:25:15.990Z"
   },
   {
    "duration": 0,
    "start_time": "2024-03-11T18:25:15.991Z"
   },
   {
    "duration": 0,
    "start_time": "2024-03-11T18:25:15.992Z"
   },
   {
    "duration": 0,
    "start_time": "2024-03-11T18:25:15.993Z"
   },
   {
    "duration": 0,
    "start_time": "2024-03-11T18:25:15.994Z"
   },
   {
    "duration": 0,
    "start_time": "2024-03-11T18:25:15.994Z"
   },
   {
    "duration": 960,
    "start_time": "2024-03-12T04:55:31.444Z"
   },
   {
    "duration": 47,
    "start_time": "2024-03-12T04:55:32.406Z"
   },
   {
    "duration": 20,
    "start_time": "2024-03-12T04:55:32.454Z"
   },
   {
    "duration": 75,
    "start_time": "2024-03-12T04:55:32.476Z"
   },
   {
    "duration": 36,
    "start_time": "2024-03-12T04:55:32.552Z"
   },
   {
    "duration": 1963,
    "start_time": "2024-03-12T04:55:32.590Z"
   },
   {
    "duration": 9,
    "start_time": "2024-03-12T04:55:34.555Z"
   },
   {
    "duration": 31,
    "start_time": "2024-03-12T04:55:34.566Z"
   },
   {
    "duration": 26,
    "start_time": "2024-03-12T04:55:34.598Z"
   },
   {
    "duration": 6,
    "start_time": "2024-03-12T04:55:34.627Z"
   },
   {
    "duration": 15,
    "start_time": "2024-03-12T04:55:34.634Z"
   },
   {
    "duration": 5,
    "start_time": "2024-03-12T04:55:34.650Z"
   },
   {
    "duration": 10,
    "start_time": "2024-03-12T04:55:34.656Z"
   },
   {
    "duration": 21,
    "start_time": "2024-03-12T04:55:34.667Z"
   },
   {
    "duration": 11,
    "start_time": "2024-03-12T04:55:34.690Z"
   },
   {
    "duration": 34,
    "start_time": "2024-03-12T04:55:34.703Z"
   },
   {
    "duration": 14,
    "start_time": "2024-03-12T04:55:34.739Z"
   },
   {
    "duration": 18,
    "start_time": "2024-03-12T04:55:34.754Z"
   },
   {
    "duration": 7,
    "start_time": "2024-03-12T04:55:34.774Z"
   },
   {
    "duration": 13,
    "start_time": "2024-03-12T04:55:34.782Z"
   },
   {
    "duration": 11,
    "start_time": "2024-03-12T04:55:34.796Z"
   },
   {
    "duration": 93,
    "start_time": "2024-03-12T04:55:34.808Z"
   },
   {
    "duration": 0,
    "start_time": "2024-03-12T04:55:34.905Z"
   },
   {
    "duration": 0,
    "start_time": "2024-03-12T04:55:34.906Z"
   },
   {
    "duration": 0,
    "start_time": "2024-03-12T04:55:34.907Z"
   },
   {
    "duration": 0,
    "start_time": "2024-03-12T04:55:34.908Z"
   },
   {
    "duration": 0,
    "start_time": "2024-03-12T04:55:34.910Z"
   },
   {
    "duration": 0,
    "start_time": "2024-03-12T04:55:34.911Z"
   },
   {
    "duration": 0,
    "start_time": "2024-03-12T04:55:34.912Z"
   },
   {
    "duration": 0,
    "start_time": "2024-03-12T04:55:34.913Z"
   },
   {
    "duration": 0,
    "start_time": "2024-03-12T04:55:34.914Z"
   },
   {
    "duration": 0,
    "start_time": "2024-03-12T04:55:34.915Z"
   },
   {
    "duration": 0,
    "start_time": "2024-03-12T04:55:34.916Z"
   },
   {
    "duration": 1,
    "start_time": "2024-03-12T04:55:34.917Z"
   },
   {
    "duration": 0,
    "start_time": "2024-03-12T04:55:34.918Z"
   },
   {
    "duration": 0,
    "start_time": "2024-03-12T04:55:34.919Z"
   },
   {
    "duration": 0,
    "start_time": "2024-03-12T04:55:34.920Z"
   },
   {
    "duration": 0,
    "start_time": "2024-03-12T04:55:34.921Z"
   },
   {
    "duration": 0,
    "start_time": "2024-03-12T04:55:34.922Z"
   },
   {
    "duration": 0,
    "start_time": "2024-03-12T04:55:34.923Z"
   },
   {
    "duration": 0,
    "start_time": "2024-03-12T04:55:34.924Z"
   },
   {
    "duration": 0,
    "start_time": "2024-03-12T04:55:34.925Z"
   },
   {
    "duration": 0,
    "start_time": "2024-03-12T04:55:34.926Z"
   },
   {
    "duration": 0,
    "start_time": "2024-03-12T04:55:34.927Z"
   },
   {
    "duration": 0,
    "start_time": "2024-03-12T04:55:34.928Z"
   },
   {
    "duration": 0,
    "start_time": "2024-03-12T04:55:34.970Z"
   },
   {
    "duration": 0,
    "start_time": "2024-03-12T04:55:34.971Z"
   },
   {
    "duration": 0,
    "start_time": "2024-03-12T04:55:34.971Z"
   },
   {
    "duration": 0,
    "start_time": "2024-03-12T04:55:34.972Z"
   },
   {
    "duration": 0,
    "start_time": "2024-03-12T04:55:34.973Z"
   },
   {
    "duration": 0,
    "start_time": "2024-03-12T04:55:34.974Z"
   },
   {
    "duration": 0,
    "start_time": "2024-03-12T04:55:34.975Z"
   },
   {
    "duration": 0,
    "start_time": "2024-03-12T04:55:34.976Z"
   },
   {
    "duration": 0,
    "start_time": "2024-03-12T04:55:34.977Z"
   },
   {
    "duration": 0,
    "start_time": "2024-03-12T04:55:34.978Z"
   },
   {
    "duration": 0,
    "start_time": "2024-03-12T04:55:34.979Z"
   },
   {
    "duration": 0,
    "start_time": "2024-03-12T04:55:34.980Z"
   },
   {
    "duration": 0,
    "start_time": "2024-03-12T04:55:34.981Z"
   },
   {
    "duration": 0,
    "start_time": "2024-03-12T04:55:34.982Z"
   },
   {
    "duration": 0,
    "start_time": "2024-03-12T04:55:34.983Z"
   },
   {
    "duration": 0,
    "start_time": "2024-03-12T04:55:34.984Z"
   },
   {
    "duration": 0,
    "start_time": "2024-03-12T04:55:34.985Z"
   },
   {
    "duration": 0,
    "start_time": "2024-03-12T04:55:34.986Z"
   },
   {
    "duration": 0,
    "start_time": "2024-03-12T04:55:34.987Z"
   },
   {
    "duration": 0,
    "start_time": "2024-03-12T04:55:34.988Z"
   },
   {
    "duration": 0,
    "start_time": "2024-03-12T04:55:34.989Z"
   },
   {
    "duration": 0,
    "start_time": "2024-03-12T04:55:34.990Z"
   },
   {
    "duration": 0,
    "start_time": "2024-03-12T04:55:34.991Z"
   },
   {
    "duration": 0,
    "start_time": "2024-03-12T04:55:34.992Z"
   },
   {
    "duration": 0,
    "start_time": "2024-03-12T04:55:34.993Z"
   },
   {
    "duration": 0,
    "start_time": "2024-03-12T04:55:34.994Z"
   },
   {
    "duration": 0,
    "start_time": "2024-03-12T04:55:34.994Z"
   },
   {
    "duration": 0,
    "start_time": "2024-03-12T04:55:34.995Z"
   },
   {
    "duration": 0,
    "start_time": "2024-03-12T04:55:34.996Z"
   },
   {
    "duration": 0,
    "start_time": "2024-03-12T04:55:34.997Z"
   },
   {
    "duration": 0,
    "start_time": "2024-03-12T04:55:34.998Z"
   },
   {
    "duration": 0,
    "start_time": "2024-03-12T04:55:34.999Z"
   },
   {
    "duration": 59,
    "start_time": "2024-03-12T10:28:55.175Z"
   },
   {
    "duration": 978,
    "start_time": "2024-03-12T10:29:00.934Z"
   },
   {
    "duration": 226,
    "start_time": "2024-03-12T10:29:02.118Z"
   },
   {
    "duration": 2142,
    "start_time": "2024-03-12T10:31:17.511Z"
   },
   {
    "duration": 50,
    "start_time": "2024-03-12T10:31:47.656Z"
   },
   {
    "duration": 676,
    "start_time": "2024-03-12T10:35:45.619Z"
   },
   {
    "duration": 308,
    "start_time": "2024-03-12T10:35:46.297Z"
   },
   {
    "duration": 52,
    "start_time": "2024-03-12T10:35:46.609Z"
   },
   {
    "duration": 15,
    "start_time": "2024-03-12T10:35:46.663Z"
   },
   {
    "duration": 85,
    "start_time": "2024-03-12T10:35:46.688Z"
   },
   {
    "duration": 37,
    "start_time": "2024-03-12T10:35:46.775Z"
   },
   {
    "duration": 2107,
    "start_time": "2024-03-12T10:35:46.814Z"
   },
   {
    "duration": 10,
    "start_time": "2024-03-12T10:35:48.923Z"
   },
   {
    "duration": 5,
    "start_time": "2024-03-12T10:35:48.934Z"
   },
   {
    "duration": 23,
    "start_time": "2024-03-12T10:35:48.941Z"
   },
   {
    "duration": 5,
    "start_time": "2024-03-12T10:35:48.965Z"
   },
   {
    "duration": 20,
    "start_time": "2024-03-12T10:35:48.971Z"
   },
   {
    "duration": 28,
    "start_time": "2024-03-12T10:35:48.992Z"
   },
   {
    "duration": 17,
    "start_time": "2024-03-12T10:35:49.023Z"
   },
   {
    "duration": 14,
    "start_time": "2024-03-12T10:35:49.042Z"
   },
   {
    "duration": 20,
    "start_time": "2024-03-12T10:35:49.058Z"
   },
   {
    "duration": 25,
    "start_time": "2024-03-12T10:35:49.080Z"
   },
   {
    "duration": 7,
    "start_time": "2024-03-12T10:35:49.106Z"
   },
   {
    "duration": 18,
    "start_time": "2024-03-12T10:35:49.115Z"
   },
   {
    "duration": 8,
    "start_time": "2024-03-12T10:35:49.134Z"
   },
   {
    "duration": 24,
    "start_time": "2024-03-12T10:35:49.143Z"
   },
   {
    "duration": 24,
    "start_time": "2024-03-12T10:35:49.169Z"
   },
   {
    "duration": 77,
    "start_time": "2024-03-12T10:35:49.195Z"
   },
   {
    "duration": 0,
    "start_time": "2024-03-12T10:35:49.276Z"
   },
   {
    "duration": 0,
    "start_time": "2024-03-12T10:35:49.280Z"
   },
   {
    "duration": 0,
    "start_time": "2024-03-12T10:35:49.281Z"
   },
   {
    "duration": 0,
    "start_time": "2024-03-12T10:35:49.281Z"
   },
   {
    "duration": 0,
    "start_time": "2024-03-12T10:35:49.282Z"
   },
   {
    "duration": 0,
    "start_time": "2024-03-12T10:35:49.283Z"
   },
   {
    "duration": 0,
    "start_time": "2024-03-12T10:35:49.283Z"
   },
   {
    "duration": 0,
    "start_time": "2024-03-12T10:35:49.289Z"
   },
   {
    "duration": 0,
    "start_time": "2024-03-12T10:35:49.290Z"
   },
   {
    "duration": 0,
    "start_time": "2024-03-12T10:35:49.291Z"
   },
   {
    "duration": 0,
    "start_time": "2024-03-12T10:35:49.293Z"
   },
   {
    "duration": 0,
    "start_time": "2024-03-12T10:35:49.294Z"
   },
   {
    "duration": 0,
    "start_time": "2024-03-12T10:35:49.295Z"
   },
   {
    "duration": 0,
    "start_time": "2024-03-12T10:35:49.296Z"
   },
   {
    "duration": 0,
    "start_time": "2024-03-12T10:35:49.296Z"
   },
   {
    "duration": 0,
    "start_time": "2024-03-12T10:35:49.297Z"
   },
   {
    "duration": 0,
    "start_time": "2024-03-12T10:35:49.299Z"
   },
   {
    "duration": 0,
    "start_time": "2024-03-12T10:35:49.300Z"
   },
   {
    "duration": 0,
    "start_time": "2024-03-12T10:35:49.301Z"
   },
   {
    "duration": 0,
    "start_time": "2024-03-12T10:35:49.302Z"
   },
   {
    "duration": 0,
    "start_time": "2024-03-12T10:35:49.303Z"
   },
   {
    "duration": 0,
    "start_time": "2024-03-12T10:35:49.304Z"
   },
   {
    "duration": 0,
    "start_time": "2024-03-12T10:35:49.305Z"
   },
   {
    "duration": 0,
    "start_time": "2024-03-12T10:35:49.306Z"
   },
   {
    "duration": 0,
    "start_time": "2024-03-12T10:35:49.306Z"
   },
   {
    "duration": 0,
    "start_time": "2024-03-12T10:35:49.308Z"
   },
   {
    "duration": 0,
    "start_time": "2024-03-12T10:35:49.309Z"
   },
   {
    "duration": 0,
    "start_time": "2024-03-12T10:35:49.310Z"
   },
   {
    "duration": 0,
    "start_time": "2024-03-12T10:35:49.311Z"
   },
   {
    "duration": 0,
    "start_time": "2024-03-12T10:35:49.312Z"
   },
   {
    "duration": 0,
    "start_time": "2024-03-12T10:35:49.313Z"
   },
   {
    "duration": 0,
    "start_time": "2024-03-12T10:35:49.314Z"
   },
   {
    "duration": 0,
    "start_time": "2024-03-12T10:35:49.315Z"
   },
   {
    "duration": 0,
    "start_time": "2024-03-12T10:35:49.316Z"
   },
   {
    "duration": 0,
    "start_time": "2024-03-12T10:35:49.317Z"
   },
   {
    "duration": 0,
    "start_time": "2024-03-12T10:35:49.318Z"
   },
   {
    "duration": 0,
    "start_time": "2024-03-12T10:35:49.319Z"
   },
   {
    "duration": 0,
    "start_time": "2024-03-12T10:35:49.321Z"
   },
   {
    "duration": 0,
    "start_time": "2024-03-12T10:35:49.321Z"
   },
   {
    "duration": 0,
    "start_time": "2024-03-12T10:35:49.322Z"
   },
   {
    "duration": 0,
    "start_time": "2024-03-12T10:35:49.323Z"
   },
   {
    "duration": 0,
    "start_time": "2024-03-12T10:35:49.324Z"
   },
   {
    "duration": 0,
    "start_time": "2024-03-12T10:35:49.325Z"
   },
   {
    "duration": 0,
    "start_time": "2024-03-12T10:35:49.325Z"
   },
   {
    "duration": 0,
    "start_time": "2024-03-12T10:35:49.326Z"
   },
   {
    "duration": 0,
    "start_time": "2024-03-12T10:35:49.327Z"
   },
   {
    "duration": 0,
    "start_time": "2024-03-12T10:35:49.384Z"
   },
   {
    "duration": 0,
    "start_time": "2024-03-12T10:35:49.385Z"
   },
   {
    "duration": 0,
    "start_time": "2024-03-12T10:35:49.386Z"
   },
   {
    "duration": 0,
    "start_time": "2024-03-12T10:35:49.387Z"
   },
   {
    "duration": 1,
    "start_time": "2024-03-12T10:35:49.387Z"
   },
   {
    "duration": 0,
    "start_time": "2024-03-12T10:35:49.388Z"
   },
   {
    "duration": 0,
    "start_time": "2024-03-12T10:35:49.389Z"
   },
   {
    "duration": 0,
    "start_time": "2024-03-12T10:35:49.390Z"
   },
   {
    "duration": 0,
    "start_time": "2024-03-12T10:35:49.395Z"
   },
   {
    "duration": 7,
    "start_time": "2024-03-12T10:37:37.089Z"
   },
   {
    "duration": 115,
    "start_time": "2024-03-12T10:37:40.927Z"
   },
   {
    "duration": 109,
    "start_time": "2024-03-12T10:37:53.565Z"
   },
   {
    "duration": 7,
    "start_time": "2024-03-12T10:38:05.214Z"
   },
   {
    "duration": 7,
    "start_time": "2024-03-12T10:38:13.023Z"
   },
   {
    "duration": 5,
    "start_time": "2024-03-12T10:39:07.861Z"
   },
   {
    "duration": 2020,
    "start_time": "2024-03-12T10:42:28.833Z"
   },
   {
    "duration": 1998,
    "start_time": "2024-03-12T10:42:42.674Z"
   },
   {
    "duration": 1879,
    "start_time": "2024-03-12T10:42:49.664Z"
   },
   {
    "duration": 7,
    "start_time": "2024-03-12T10:43:29.774Z"
   },
   {
    "duration": 18,
    "start_time": "2024-03-12T10:44:05.909Z"
   },
   {
    "duration": 6,
    "start_time": "2024-03-12T10:46:40.993Z"
   },
   {
    "duration": 197,
    "start_time": "2024-03-12T10:47:35.775Z"
   },
   {
    "duration": 9,
    "start_time": "2024-03-12T10:56:22.190Z"
   },
   {
    "duration": 8,
    "start_time": "2024-03-12T10:57:14.164Z"
   },
   {
    "duration": 697,
    "start_time": "2024-03-12T10:57:46.668Z"
   },
   {
    "duration": 148,
    "start_time": "2024-03-12T10:57:47.367Z"
   },
   {
    "duration": 46,
    "start_time": "2024-03-12T10:57:47.517Z"
   },
   {
    "duration": 27,
    "start_time": "2024-03-12T10:57:47.565Z"
   },
   {
    "duration": 72,
    "start_time": "2024-03-12T10:57:47.594Z"
   },
   {
    "duration": 23,
    "start_time": "2024-03-12T10:57:47.679Z"
   },
   {
    "duration": 2034,
    "start_time": "2024-03-12T10:57:47.703Z"
   },
   {
    "duration": 10,
    "start_time": "2024-03-12T10:57:49.739Z"
   },
   {
    "duration": 74,
    "start_time": "2024-03-12T10:57:49.751Z"
   },
   {
    "duration": 5,
    "start_time": "2024-03-12T10:57:49.827Z"
   },
   {
    "duration": 11,
    "start_time": "2024-03-12T10:57:49.834Z"
   },
   {
    "duration": 7,
    "start_time": "2024-03-12T10:57:49.846Z"
   },
   {
    "duration": 105,
    "start_time": "2024-03-12T10:57:49.854Z"
   },
   {
    "duration": 0,
    "start_time": "2024-03-12T10:57:49.962Z"
   },
   {
    "duration": 0,
    "start_time": "2024-03-12T10:57:49.963Z"
   },
   {
    "duration": 0,
    "start_time": "2024-03-12T10:57:49.965Z"
   },
   {
    "duration": 0,
    "start_time": "2024-03-12T10:57:49.966Z"
   },
   {
    "duration": 0,
    "start_time": "2024-03-12T10:57:49.967Z"
   },
   {
    "duration": 0,
    "start_time": "2024-03-12T10:57:49.980Z"
   },
   {
    "duration": 0,
    "start_time": "2024-03-12T10:57:49.981Z"
   },
   {
    "duration": 0,
    "start_time": "2024-03-12T10:57:49.982Z"
   },
   {
    "duration": 0,
    "start_time": "2024-03-12T10:57:49.983Z"
   },
   {
    "duration": 0,
    "start_time": "2024-03-12T10:57:49.986Z"
   },
   {
    "duration": 0,
    "start_time": "2024-03-12T10:57:49.987Z"
   },
   {
    "duration": 0,
    "start_time": "2024-03-12T10:57:49.988Z"
   },
   {
    "duration": 0,
    "start_time": "2024-03-12T10:57:49.989Z"
   },
   {
    "duration": 0,
    "start_time": "2024-03-12T10:57:49.990Z"
   },
   {
    "duration": 0,
    "start_time": "2024-03-12T10:57:49.991Z"
   },
   {
    "duration": 0,
    "start_time": "2024-03-12T10:57:49.992Z"
   },
   {
    "duration": 0,
    "start_time": "2024-03-12T10:57:49.993Z"
   },
   {
    "duration": 0,
    "start_time": "2024-03-12T10:57:49.994Z"
   },
   {
    "duration": 0,
    "start_time": "2024-03-12T10:57:49.995Z"
   },
   {
    "duration": 0,
    "start_time": "2024-03-12T10:57:49.996Z"
   },
   {
    "duration": 0,
    "start_time": "2024-03-12T10:57:49.997Z"
   },
   {
    "duration": 0,
    "start_time": "2024-03-12T10:57:49.998Z"
   },
   {
    "duration": 0,
    "start_time": "2024-03-12T10:57:49.999Z"
   },
   {
    "duration": 0,
    "start_time": "2024-03-12T10:57:50.000Z"
   },
   {
    "duration": 0,
    "start_time": "2024-03-12T10:57:50.001Z"
   },
   {
    "duration": 0,
    "start_time": "2024-03-12T10:57:50.002Z"
   },
   {
    "duration": 0,
    "start_time": "2024-03-12T10:57:50.003Z"
   },
   {
    "duration": 0,
    "start_time": "2024-03-12T10:57:50.004Z"
   },
   {
    "duration": 0,
    "start_time": "2024-03-12T10:57:50.005Z"
   },
   {
    "duration": 0,
    "start_time": "2024-03-12T10:57:50.006Z"
   },
   {
    "duration": 0,
    "start_time": "2024-03-12T10:57:50.007Z"
   },
   {
    "duration": 0,
    "start_time": "2024-03-12T10:57:50.008Z"
   },
   {
    "duration": 0,
    "start_time": "2024-03-12T10:57:50.009Z"
   },
   {
    "duration": 0,
    "start_time": "2024-03-12T10:57:50.010Z"
   },
   {
    "duration": 0,
    "start_time": "2024-03-12T10:57:50.011Z"
   },
   {
    "duration": 0,
    "start_time": "2024-03-12T10:57:50.012Z"
   },
   {
    "duration": 0,
    "start_time": "2024-03-12T10:57:50.013Z"
   },
   {
    "duration": 0,
    "start_time": "2024-03-12T10:57:50.014Z"
   },
   {
    "duration": 0,
    "start_time": "2024-03-12T10:57:50.014Z"
   },
   {
    "duration": 0,
    "start_time": "2024-03-12T10:57:50.015Z"
   },
   {
    "duration": 0,
    "start_time": "2024-03-12T10:57:50.016Z"
   },
   {
    "duration": 0,
    "start_time": "2024-03-12T10:57:50.017Z"
   },
   {
    "duration": 0,
    "start_time": "2024-03-12T10:57:50.018Z"
   },
   {
    "duration": 0,
    "start_time": "2024-03-12T10:57:50.019Z"
   },
   {
    "duration": 0,
    "start_time": "2024-03-12T10:57:50.020Z"
   },
   {
    "duration": 0,
    "start_time": "2024-03-12T10:57:50.080Z"
   },
   {
    "duration": 0,
    "start_time": "2024-03-12T10:57:50.081Z"
   },
   {
    "duration": 0,
    "start_time": "2024-03-12T10:57:50.082Z"
   },
   {
    "duration": 0,
    "start_time": "2024-03-12T10:57:50.084Z"
   },
   {
    "duration": 0,
    "start_time": "2024-03-12T10:57:50.085Z"
   },
   {
    "duration": 0,
    "start_time": "2024-03-12T10:57:50.085Z"
   },
   {
    "duration": 0,
    "start_time": "2024-03-12T10:57:50.086Z"
   },
   {
    "duration": 0,
    "start_time": "2024-03-12T10:57:50.088Z"
   },
   {
    "duration": 0,
    "start_time": "2024-03-12T10:57:50.089Z"
   },
   {
    "duration": 0,
    "start_time": "2024-03-12T10:57:50.090Z"
   },
   {
    "duration": 0,
    "start_time": "2024-03-12T10:57:50.091Z"
   },
   {
    "duration": 0,
    "start_time": "2024-03-12T10:57:50.092Z"
   },
   {
    "duration": 0,
    "start_time": "2024-03-12T10:57:50.093Z"
   },
   {
    "duration": 0,
    "start_time": "2024-03-12T10:57:50.094Z"
   },
   {
    "duration": 0,
    "start_time": "2024-03-12T10:57:50.096Z"
   },
   {
    "duration": 0,
    "start_time": "2024-03-12T10:57:50.096Z"
   },
   {
    "duration": 0,
    "start_time": "2024-03-12T10:57:50.097Z"
   },
   {
    "duration": 0,
    "start_time": "2024-03-12T10:57:50.099Z"
   },
   {
    "duration": 0,
    "start_time": "2024-03-12T10:57:50.100Z"
   },
   {
    "duration": 0,
    "start_time": "2024-03-12T10:57:50.101Z"
   },
   {
    "duration": 0,
    "start_time": "2024-03-12T10:57:50.102Z"
   },
   {
    "duration": 0,
    "start_time": "2024-03-12T10:57:50.103Z"
   },
   {
    "duration": 15,
    "start_time": "2024-03-12T10:58:46.576Z"
   },
   {
    "duration": 14,
    "start_time": "2024-03-12T10:59:20.290Z"
   },
   {
    "duration": 13,
    "start_time": "2024-03-12T10:59:32.734Z"
   },
   {
    "duration": 10,
    "start_time": "2024-03-12T11:00:30.729Z"
   },
   {
    "duration": 19,
    "start_time": "2024-03-12T11:00:36.180Z"
   },
   {
    "duration": 13,
    "start_time": "2024-03-12T11:01:14.793Z"
   },
   {
    "duration": 14,
    "start_time": "2024-03-12T11:03:19.566Z"
   },
   {
    "duration": 14,
    "start_time": "2024-03-12T11:03:23.308Z"
   },
   {
    "duration": 8,
    "start_time": "2024-03-12T11:04:03.586Z"
   },
   {
    "duration": 10,
    "start_time": "2024-03-12T11:04:09.534Z"
   },
   {
    "duration": 7,
    "start_time": "2024-03-12T11:05:06.824Z"
   },
   {
    "duration": 8,
    "start_time": "2024-03-12T11:05:23.311Z"
   },
   {
    "duration": 12,
    "start_time": "2024-03-12T11:06:10.507Z"
   },
   {
    "duration": 5,
    "start_time": "2024-03-12T11:06:22.924Z"
   },
   {
    "duration": 5,
    "start_time": "2024-03-12T11:06:33.514Z"
   },
   {
    "duration": 5,
    "start_time": "2024-03-12T11:06:53.856Z"
   },
   {
    "duration": 6,
    "start_time": "2024-03-12T11:06:57.293Z"
   },
   {
    "duration": 5,
    "start_time": "2024-03-12T11:06:59.203Z"
   },
   {
    "duration": 5,
    "start_time": "2024-03-12T11:07:07.052Z"
   },
   {
    "duration": 14,
    "start_time": "2024-03-12T11:10:12.947Z"
   },
   {
    "duration": 5,
    "start_time": "2024-03-12T11:10:30.109Z"
   },
   {
    "duration": 5,
    "start_time": "2024-03-12T11:10:38.303Z"
   },
   {
    "duration": 6,
    "start_time": "2024-03-12T11:10:42.952Z"
   },
   {
    "duration": 4,
    "start_time": "2024-03-12T11:14:00.455Z"
   },
   {
    "duration": 5,
    "start_time": "2024-03-12T11:14:01.621Z"
   },
   {
    "duration": 5,
    "start_time": "2024-03-12T11:15:35.877Z"
   },
   {
    "duration": 5,
    "start_time": "2024-03-12T11:15:36.859Z"
   },
   {
    "duration": 4,
    "start_time": "2024-03-12T11:15:52.855Z"
   },
   {
    "duration": 5,
    "start_time": "2024-03-12T11:15:53.520Z"
   },
   {
    "duration": 5,
    "start_time": "2024-03-12T11:16:00.681Z"
   },
   {
    "duration": 5,
    "start_time": "2024-03-12T11:16:01.590Z"
   },
   {
    "duration": 5,
    "start_time": "2024-03-12T11:16:05.768Z"
   },
   {
    "duration": 407,
    "start_time": "2024-03-12T11:16:21.504Z"
   },
   {
    "duration": 617,
    "start_time": "2024-03-12T11:16:36.526Z"
   },
   {
    "duration": 251,
    "start_time": "2024-03-12T11:16:37.145Z"
   },
   {
    "duration": 50,
    "start_time": "2024-03-12T11:16:37.397Z"
   },
   {
    "duration": 15,
    "start_time": "2024-03-12T11:16:37.449Z"
   },
   {
    "duration": 86,
    "start_time": "2024-03-12T11:16:37.465Z"
   },
   {
    "duration": 34,
    "start_time": "2024-03-12T11:16:37.553Z"
   },
   {
    "duration": 2093,
    "start_time": "2024-03-12T11:16:37.588Z"
   },
   {
    "duration": 11,
    "start_time": "2024-03-12T11:16:39.683Z"
   },
   {
    "duration": 57,
    "start_time": "2024-03-12T11:16:39.695Z"
   },
   {
    "duration": 5,
    "start_time": "2024-03-12T11:16:39.755Z"
   },
   {
    "duration": 8,
    "start_time": "2024-03-12T11:16:39.781Z"
   },
   {
    "duration": 8,
    "start_time": "2024-03-12T11:16:39.791Z"
   },
   {
    "duration": 97,
    "start_time": "2024-03-12T11:16:39.801Z"
   },
   {
    "duration": 0,
    "start_time": "2024-03-12T11:16:39.902Z"
   },
   {
    "duration": 0,
    "start_time": "2024-03-12T11:16:39.902Z"
   },
   {
    "duration": 0,
    "start_time": "2024-03-12T11:16:39.903Z"
   },
   {
    "duration": 0,
    "start_time": "2024-03-12T11:16:39.904Z"
   },
   {
    "duration": 0,
    "start_time": "2024-03-12T11:16:39.905Z"
   },
   {
    "duration": 0,
    "start_time": "2024-03-12T11:16:39.906Z"
   },
   {
    "duration": 0,
    "start_time": "2024-03-12T11:16:39.907Z"
   },
   {
    "duration": 0,
    "start_time": "2024-03-12T11:16:39.908Z"
   },
   {
    "duration": 0,
    "start_time": "2024-03-12T11:16:39.911Z"
   },
   {
    "duration": 0,
    "start_time": "2024-03-12T11:16:39.912Z"
   },
   {
    "duration": 0,
    "start_time": "2024-03-12T11:16:39.913Z"
   },
   {
    "duration": 0,
    "start_time": "2024-03-12T11:16:39.914Z"
   },
   {
    "duration": 0,
    "start_time": "2024-03-12T11:16:39.915Z"
   },
   {
    "duration": 0,
    "start_time": "2024-03-12T11:16:39.916Z"
   },
   {
    "duration": 0,
    "start_time": "2024-03-12T11:16:39.917Z"
   },
   {
    "duration": 0,
    "start_time": "2024-03-12T11:16:39.918Z"
   },
   {
    "duration": 0,
    "start_time": "2024-03-12T11:16:39.919Z"
   },
   {
    "duration": 0,
    "start_time": "2024-03-12T11:16:39.920Z"
   },
   {
    "duration": 0,
    "start_time": "2024-03-12T11:16:39.921Z"
   },
   {
    "duration": 0,
    "start_time": "2024-03-12T11:16:39.922Z"
   },
   {
    "duration": 0,
    "start_time": "2024-03-12T11:16:39.923Z"
   },
   {
    "duration": 0,
    "start_time": "2024-03-12T11:16:39.924Z"
   },
   {
    "duration": 0,
    "start_time": "2024-03-12T11:16:39.925Z"
   },
   {
    "duration": 0,
    "start_time": "2024-03-12T11:16:39.926Z"
   },
   {
    "duration": 0,
    "start_time": "2024-03-12T11:16:39.927Z"
   },
   {
    "duration": 0,
    "start_time": "2024-03-12T11:16:39.928Z"
   },
   {
    "duration": 0,
    "start_time": "2024-03-12T11:16:39.929Z"
   },
   {
    "duration": 0,
    "start_time": "2024-03-12T11:16:39.931Z"
   },
   {
    "duration": 1,
    "start_time": "2024-03-12T11:16:39.931Z"
   },
   {
    "duration": 0,
    "start_time": "2024-03-12T11:16:39.933Z"
   },
   {
    "duration": 0,
    "start_time": "2024-03-12T11:16:39.980Z"
   },
   {
    "duration": 0,
    "start_time": "2024-03-12T11:16:39.981Z"
   },
   {
    "duration": 0,
    "start_time": "2024-03-12T11:16:39.982Z"
   },
   {
    "duration": 0,
    "start_time": "2024-03-12T11:16:39.983Z"
   },
   {
    "duration": 0,
    "start_time": "2024-03-12T11:16:39.985Z"
   },
   {
    "duration": 0,
    "start_time": "2024-03-12T11:16:39.986Z"
   },
   {
    "duration": 0,
    "start_time": "2024-03-12T11:16:39.987Z"
   },
   {
    "duration": 0,
    "start_time": "2024-03-12T11:16:39.988Z"
   },
   {
    "duration": 0,
    "start_time": "2024-03-12T11:16:39.989Z"
   },
   {
    "duration": 0,
    "start_time": "2024-03-12T11:16:39.990Z"
   },
   {
    "duration": 0,
    "start_time": "2024-03-12T11:16:39.991Z"
   },
   {
    "duration": 0,
    "start_time": "2024-03-12T11:16:39.992Z"
   },
   {
    "duration": 0,
    "start_time": "2024-03-12T11:16:39.993Z"
   },
   {
    "duration": 0,
    "start_time": "2024-03-12T11:16:39.994Z"
   },
   {
    "duration": 0,
    "start_time": "2024-03-12T11:16:39.995Z"
   },
   {
    "duration": 0,
    "start_time": "2024-03-12T11:16:39.996Z"
   },
   {
    "duration": 0,
    "start_time": "2024-03-12T11:16:39.997Z"
   },
   {
    "duration": 0,
    "start_time": "2024-03-12T11:16:39.998Z"
   },
   {
    "duration": 0,
    "start_time": "2024-03-12T11:16:39.999Z"
   },
   {
    "duration": 0,
    "start_time": "2024-03-12T11:16:40.000Z"
   },
   {
    "duration": 0,
    "start_time": "2024-03-12T11:16:40.001Z"
   },
   {
    "duration": 0,
    "start_time": "2024-03-12T11:16:40.002Z"
   },
   {
    "duration": 0,
    "start_time": "2024-03-12T11:16:40.003Z"
   },
   {
    "duration": 0,
    "start_time": "2024-03-12T11:16:40.004Z"
   },
   {
    "duration": 0,
    "start_time": "2024-03-12T11:16:40.005Z"
   },
   {
    "duration": 0,
    "start_time": "2024-03-12T11:16:40.006Z"
   },
   {
    "duration": 0,
    "start_time": "2024-03-12T11:16:40.007Z"
   },
   {
    "duration": 0,
    "start_time": "2024-03-12T11:16:40.008Z"
   },
   {
    "duration": 0,
    "start_time": "2024-03-12T11:16:40.009Z"
   },
   {
    "duration": 0,
    "start_time": "2024-03-12T11:16:40.011Z"
   },
   {
    "duration": 0,
    "start_time": "2024-03-12T11:16:40.012Z"
   },
   {
    "duration": 0,
    "start_time": "2024-03-12T11:16:40.013Z"
   },
   {
    "duration": 0,
    "start_time": "2024-03-12T11:16:40.014Z"
   },
   {
    "duration": 0,
    "start_time": "2024-03-12T11:16:40.015Z"
   },
   {
    "duration": 0,
    "start_time": "2024-03-12T11:16:40.016Z"
   },
   {
    "duration": 0,
    "start_time": "2024-03-12T11:16:40.017Z"
   },
   {
    "duration": 0,
    "start_time": "2024-03-12T11:16:40.018Z"
   },
   {
    "duration": 5,
    "start_time": "2024-03-12T11:17:37.376Z"
   },
   {
    "duration": 12,
    "start_time": "2024-03-12T11:17:39.523Z"
   },
   {
    "duration": 6,
    "start_time": "2024-03-12T11:19:24.102Z"
   },
   {
    "duration": 13,
    "start_time": "2024-03-12T11:19:33.789Z"
   },
   {
    "duration": 12,
    "start_time": "2024-03-12T11:20:09.898Z"
   },
   {
    "duration": 13,
    "start_time": "2024-03-12T11:20:12.491Z"
   },
   {
    "duration": 12,
    "start_time": "2024-03-12T11:21:53.054Z"
   },
   {
    "duration": 4,
    "start_time": "2024-03-12T11:22:09.096Z"
   },
   {
    "duration": 3,
    "start_time": "2024-03-12T11:22:20.474Z"
   },
   {
    "duration": 146,
    "start_time": "2024-03-12T11:22:20.974Z"
   },
   {
    "duration": 46,
    "start_time": "2024-03-12T11:22:23.115Z"
   },
   {
    "duration": 17,
    "start_time": "2024-03-12T11:22:24.473Z"
   },
   {
    "duration": 75,
    "start_time": "2024-03-12T11:22:25.339Z"
   },
   {
    "duration": 22,
    "start_time": "2024-03-12T11:22:25.926Z"
   },
   {
    "duration": 2015,
    "start_time": "2024-03-12T11:22:28.072Z"
   },
   {
    "duration": 12,
    "start_time": "2024-03-12T11:22:32.406Z"
   },
   {
    "duration": 18,
    "start_time": "2024-03-12T11:22:37.915Z"
   },
   {
    "duration": 5,
    "start_time": "2024-03-12T11:22:38.607Z"
   },
   {
    "duration": 8,
    "start_time": "2024-03-12T11:22:39.937Z"
   },
   {
    "duration": 5,
    "start_time": "2024-03-12T11:22:41.182Z"
   },
   {
    "duration": 5,
    "start_time": "2024-03-12T11:22:42.666Z"
   },
   {
    "duration": 14,
    "start_time": "2024-03-12T11:22:43.925Z"
   },
   {
    "duration": 6,
    "start_time": "2024-03-12T11:22:47.560Z"
   },
   {
    "duration": 8,
    "start_time": "2024-03-12T11:22:48.784Z"
   },
   {
    "duration": 5,
    "start_time": "2024-03-12T11:22:49.289Z"
   },
   {
    "duration": 10,
    "start_time": "2024-03-12T11:22:53.010Z"
   },
   {
    "duration": 6,
    "start_time": "2024-03-12T11:22:54.367Z"
   },
   {
    "duration": 5,
    "start_time": "2024-03-12T11:22:55.404Z"
   },
   {
    "duration": 6,
    "start_time": "2024-03-12T11:22:56.455Z"
   },
   {
    "duration": 17,
    "start_time": "2024-03-12T11:22:57.423Z"
   },
   {
    "duration": 8,
    "start_time": "2024-03-12T11:22:59.166Z"
   },
   {
    "duration": 6,
    "start_time": "2024-03-12T11:23:00.259Z"
   },
   {
    "duration": 7,
    "start_time": "2024-03-12T11:23:01.218Z"
   },
   {
    "duration": 6,
    "start_time": "2024-03-12T11:23:03.473Z"
   },
   {
    "duration": 5,
    "start_time": "2024-03-12T11:23:10.819Z"
   },
   {
    "duration": 6,
    "start_time": "2024-03-12T11:23:11.248Z"
   },
   {
    "duration": 5,
    "start_time": "2024-03-12T11:23:37.166Z"
   },
   {
    "duration": 9,
    "start_time": "2024-03-12T11:24:00.031Z"
   },
   {
    "duration": 12,
    "start_time": "2024-03-12T11:24:13.380Z"
   },
   {
    "duration": 16,
    "start_time": "2024-03-12T11:24:17.739Z"
   },
   {
    "duration": 6,
    "start_time": "2024-03-12T11:24:48.309Z"
   },
   {
    "duration": 5,
    "start_time": "2024-03-12T11:24:54.601Z"
   },
   {
    "duration": 5,
    "start_time": "2024-03-12T11:25:07.250Z"
   },
   {
    "duration": 15,
    "start_time": "2024-03-12T11:29:26.642Z"
   },
   {
    "duration": 9,
    "start_time": "2024-03-12T11:29:52.920Z"
   },
   {
    "duration": 679,
    "start_time": "2024-03-12T11:30:43.161Z"
   },
   {
    "duration": 169,
    "start_time": "2024-03-12T11:30:43.842Z"
   },
   {
    "duration": 47,
    "start_time": "2024-03-12T11:30:44.012Z"
   },
   {
    "duration": 29,
    "start_time": "2024-03-12T11:30:44.061Z"
   },
   {
    "duration": 74,
    "start_time": "2024-03-12T11:30:44.093Z"
   },
   {
    "duration": 26,
    "start_time": "2024-03-12T11:30:44.179Z"
   },
   {
    "duration": 2036,
    "start_time": "2024-03-12T11:30:44.206Z"
   },
   {
    "duration": 10,
    "start_time": "2024-03-12T11:30:46.243Z"
   },
   {
    "duration": 76,
    "start_time": "2024-03-12T11:30:46.254Z"
   },
   {
    "duration": 5,
    "start_time": "2024-03-12T11:30:46.332Z"
   },
   {
    "duration": 17,
    "start_time": "2024-03-12T11:30:46.339Z"
   },
   {
    "duration": 12,
    "start_time": "2024-03-12T11:30:46.358Z"
   },
   {
    "duration": 22,
    "start_time": "2024-03-12T11:30:46.372Z"
   },
   {
    "duration": 26,
    "start_time": "2024-03-12T11:30:46.397Z"
   },
   {
    "duration": 26,
    "start_time": "2024-03-12T11:30:46.424Z"
   },
   {
    "duration": 29,
    "start_time": "2024-03-12T11:30:46.452Z"
   },
   {
    "duration": 26,
    "start_time": "2024-03-12T11:30:46.483Z"
   },
   {
    "duration": 13,
    "start_time": "2024-03-12T11:30:46.511Z"
   },
   {
    "duration": 19,
    "start_time": "2024-03-12T11:30:46.526Z"
   },
   {
    "duration": 17,
    "start_time": "2024-03-12T11:30:46.547Z"
   },
   {
    "duration": 18,
    "start_time": "2024-03-12T11:30:46.565Z"
   },
   {
    "duration": 9,
    "start_time": "2024-03-12T11:30:46.585Z"
   },
   {
    "duration": 19,
    "start_time": "2024-03-12T11:30:46.596Z"
   },
   {
    "duration": 46,
    "start_time": "2024-03-12T11:30:46.616Z"
   },
   {
    "duration": 8,
    "start_time": "2024-03-12T11:30:46.664Z"
   },
   {
    "duration": 7,
    "start_time": "2024-03-12T11:30:46.674Z"
   },
   {
    "duration": 6,
    "start_time": "2024-03-12T11:30:46.682Z"
   },
   {
    "duration": 94,
    "start_time": "2024-03-12T11:30:46.689Z"
   },
   {
    "duration": 0,
    "start_time": "2024-03-12T11:30:46.785Z"
   },
   {
    "duration": 0,
    "start_time": "2024-03-12T11:30:46.787Z"
   },
   {
    "duration": 0,
    "start_time": "2024-03-12T11:30:46.788Z"
   },
   {
    "duration": 0,
    "start_time": "2024-03-12T11:30:46.789Z"
   },
   {
    "duration": 0,
    "start_time": "2024-03-12T11:30:46.789Z"
   },
   {
    "duration": 0,
    "start_time": "2024-03-12T11:30:46.791Z"
   },
   {
    "duration": 0,
    "start_time": "2024-03-12T11:30:46.791Z"
   },
   {
    "duration": 0,
    "start_time": "2024-03-12T11:30:46.792Z"
   },
   {
    "duration": 0,
    "start_time": "2024-03-12T11:30:46.793Z"
   },
   {
    "duration": 0,
    "start_time": "2024-03-12T11:30:46.795Z"
   },
   {
    "duration": 0,
    "start_time": "2024-03-12T11:30:46.795Z"
   },
   {
    "duration": 0,
    "start_time": "2024-03-12T11:30:46.796Z"
   },
   {
    "duration": 0,
    "start_time": "2024-03-12T11:30:46.797Z"
   },
   {
    "duration": 0,
    "start_time": "2024-03-12T11:30:46.798Z"
   },
   {
    "duration": 0,
    "start_time": "2024-03-12T11:30:46.799Z"
   },
   {
    "duration": 0,
    "start_time": "2024-03-12T11:30:46.800Z"
   },
   {
    "duration": 0,
    "start_time": "2024-03-12T11:30:46.801Z"
   },
   {
    "duration": 0,
    "start_time": "2024-03-12T11:30:46.802Z"
   },
   {
    "duration": 0,
    "start_time": "2024-03-12T11:30:46.803Z"
   },
   {
    "duration": 0,
    "start_time": "2024-03-12T11:30:46.804Z"
   },
   {
    "duration": 0,
    "start_time": "2024-03-12T11:30:46.805Z"
   },
   {
    "duration": 0,
    "start_time": "2024-03-12T11:30:46.806Z"
   },
   {
    "duration": 0,
    "start_time": "2024-03-12T11:30:46.807Z"
   },
   {
    "duration": 0,
    "start_time": "2024-03-12T11:30:46.808Z"
   },
   {
    "duration": 0,
    "start_time": "2024-03-12T11:30:46.809Z"
   },
   {
    "duration": 0,
    "start_time": "2024-03-12T11:30:46.810Z"
   },
   {
    "duration": 0,
    "start_time": "2024-03-12T11:30:46.811Z"
   },
   {
    "duration": 0,
    "start_time": "2024-03-12T11:30:46.812Z"
   },
   {
    "duration": 0,
    "start_time": "2024-03-12T11:30:46.813Z"
   },
   {
    "duration": 0,
    "start_time": "2024-03-12T11:30:46.814Z"
   },
   {
    "duration": 0,
    "start_time": "2024-03-12T11:30:46.815Z"
   },
   {
    "duration": 0,
    "start_time": "2024-03-12T11:30:46.816Z"
   },
   {
    "duration": 0,
    "start_time": "2024-03-12T11:30:46.817Z"
   },
   {
    "duration": 0,
    "start_time": "2024-03-12T11:30:46.818Z"
   },
   {
    "duration": 0,
    "start_time": "2024-03-12T11:30:46.819Z"
   },
   {
    "duration": 0,
    "start_time": "2024-03-12T11:30:46.820Z"
   },
   {
    "duration": 0,
    "start_time": "2024-03-12T11:30:46.821Z"
   },
   {
    "duration": 0,
    "start_time": "2024-03-12T11:30:46.881Z"
   },
   {
    "duration": 0,
    "start_time": "2024-03-12T11:30:46.882Z"
   },
   {
    "duration": 0,
    "start_time": "2024-03-12T11:30:46.883Z"
   },
   {
    "duration": 0,
    "start_time": "2024-03-12T11:30:46.884Z"
   },
   {
    "duration": 0,
    "start_time": "2024-03-12T11:30:46.884Z"
   },
   {
    "duration": 0,
    "start_time": "2024-03-12T11:30:46.885Z"
   },
   {
    "duration": 0,
    "start_time": "2024-03-12T11:30:46.886Z"
   },
   {
    "duration": 0,
    "start_time": "2024-03-12T11:30:46.887Z"
   },
   {
    "duration": 0,
    "start_time": "2024-03-12T11:30:46.888Z"
   },
   {
    "duration": 0,
    "start_time": "2024-03-12T11:30:46.889Z"
   },
   {
    "duration": 0,
    "start_time": "2024-03-12T11:30:46.890Z"
   },
   {
    "duration": 0,
    "start_time": "2024-03-12T11:30:46.891Z"
   },
   {
    "duration": 0,
    "start_time": "2024-03-12T11:30:46.892Z"
   },
   {
    "duration": 0,
    "start_time": "2024-03-12T11:30:46.892Z"
   },
   {
    "duration": 0,
    "start_time": "2024-03-12T11:30:46.893Z"
   },
   {
    "duration": 13,
    "start_time": "2024-03-12T11:31:04.362Z"
   },
   {
    "duration": 6,
    "start_time": "2024-03-12T11:31:42.457Z"
   },
   {
    "duration": 8,
    "start_time": "2024-03-12T11:34:41.026Z"
   },
   {
    "duration": 8,
    "start_time": "2024-03-12T11:35:38.606Z"
   },
   {
    "duration": 101,
    "start_time": "2024-03-12T11:59:06.344Z"
   },
   {
    "duration": 671,
    "start_time": "2024-03-12T12:08:05.144Z"
   },
   {
    "duration": 211,
    "start_time": "2024-03-12T12:08:05.817Z"
   },
   {
    "duration": 51,
    "start_time": "2024-03-12T12:08:06.029Z"
   },
   {
    "duration": 15,
    "start_time": "2024-03-12T12:08:06.082Z"
   },
   {
    "duration": 88,
    "start_time": "2024-03-12T12:08:06.099Z"
   },
   {
    "duration": 21,
    "start_time": "2024-03-12T12:08:06.189Z"
   },
   {
    "duration": 2025,
    "start_time": "2024-03-12T12:08:06.212Z"
   },
   {
    "duration": 10,
    "start_time": "2024-03-12T12:08:08.239Z"
   },
   {
    "duration": 80,
    "start_time": "2024-03-12T12:08:08.251Z"
   },
   {
    "duration": 5,
    "start_time": "2024-03-12T12:08:08.333Z"
   },
   {
    "duration": 10,
    "start_time": "2024-03-12T12:08:08.340Z"
   },
   {
    "duration": 6,
    "start_time": "2024-03-12T12:08:08.351Z"
   },
   {
    "duration": 22,
    "start_time": "2024-03-12T12:08:08.359Z"
   },
   {
    "duration": 5,
    "start_time": "2024-03-12T12:08:08.384Z"
   },
   {
    "duration": 8,
    "start_time": "2024-03-12T12:08:08.390Z"
   },
   {
    "duration": 6,
    "start_time": "2024-03-12T12:08:08.399Z"
   },
   {
    "duration": 20,
    "start_time": "2024-03-12T12:08:08.407Z"
   },
   {
    "duration": 17,
    "start_time": "2024-03-12T12:08:08.429Z"
   },
   {
    "duration": 10,
    "start_time": "2024-03-12T12:08:08.447Z"
   },
   {
    "duration": 21,
    "start_time": "2024-03-12T12:08:08.459Z"
   },
   {
    "duration": 18,
    "start_time": "2024-03-12T12:08:08.482Z"
   },
   {
    "duration": 10,
    "start_time": "2024-03-12T12:08:08.502Z"
   },
   {
    "duration": 12,
    "start_time": "2024-03-12T12:08:08.513Z"
   },
   {
    "duration": 20,
    "start_time": "2024-03-12T12:08:08.526Z"
   },
   {
    "duration": 21,
    "start_time": "2024-03-12T12:08:08.548Z"
   },
   {
    "duration": 10,
    "start_time": "2024-03-12T12:08:08.570Z"
   },
   {
    "duration": 26,
    "start_time": "2024-03-12T12:08:08.581Z"
   },
   {
    "duration": 13,
    "start_time": "2024-03-12T12:08:08.609Z"
   },
   {
    "duration": 25,
    "start_time": "2024-03-12T12:08:08.624Z"
   },
   {
    "duration": 10,
    "start_time": "2024-03-12T12:08:08.652Z"
   },
   {
    "duration": 26,
    "start_time": "2024-03-12T12:08:08.664Z"
   },
   {
    "duration": 16,
    "start_time": "2024-03-12T12:08:08.691Z"
   },
   {
    "duration": 25,
    "start_time": "2024-03-12T12:08:08.709Z"
   },
   {
    "duration": 20,
    "start_time": "2024-03-12T12:08:08.736Z"
   },
   {
    "duration": 10,
    "start_time": "2024-03-12T12:08:08.758Z"
   },
   {
    "duration": 20,
    "start_time": "2024-03-12T12:08:08.770Z"
   },
   {
    "duration": 270,
    "start_time": "2024-03-12T12:08:08.792Z"
   },
   {
    "duration": 8,
    "start_time": "2024-03-12T12:08:09.064Z"
   },
   {
    "duration": 57,
    "start_time": "2024-03-12T12:08:09.081Z"
   },
   {
    "duration": 7,
    "start_time": "2024-03-12T12:08:09.140Z"
   },
   {
    "duration": 28,
    "start_time": "2024-03-12T12:08:09.152Z"
   },
   {
    "duration": 7,
    "start_time": "2024-03-12T12:08:09.182Z"
   },
   {
    "duration": 335,
    "start_time": "2024-03-12T12:08:09.190Z"
   },
   {
    "duration": 7,
    "start_time": "2024-03-12T12:08:09.527Z"
   },
   {
    "duration": 22,
    "start_time": "2024-03-12T12:08:09.536Z"
   },
   {
    "duration": 298,
    "start_time": "2024-03-12T12:08:09.560Z"
   },
   {
    "duration": 8,
    "start_time": "2024-03-12T12:08:09.860Z"
   },
   {
    "duration": 331,
    "start_time": "2024-03-12T12:08:09.870Z"
   },
   {
    "duration": 9,
    "start_time": "2024-03-12T12:08:10.203Z"
   },
   {
    "duration": 259,
    "start_time": "2024-03-12T12:08:10.213Z"
   },
   {
    "duration": 13,
    "start_time": "2024-03-12T12:08:10.474Z"
   },
   {
    "duration": 256,
    "start_time": "2024-03-12T12:08:10.488Z"
   },
   {
    "duration": 8,
    "start_time": "2024-03-12T12:08:10.746Z"
   },
   {
    "duration": 215,
    "start_time": "2024-03-12T12:08:10.756Z"
   },
   {
    "duration": 14,
    "start_time": "2024-03-12T12:08:10.972Z"
   },
   {
    "duration": 204,
    "start_time": "2024-03-12T12:08:10.987Z"
   },
   {
    "duration": 10,
    "start_time": "2024-03-12T12:08:11.192Z"
   },
   {
    "duration": 88,
    "start_time": "2024-03-12T12:08:11.203Z"
   },
   {
    "duration": 127,
    "start_time": "2024-03-12T12:08:11.292Z"
   },
   {
    "duration": 7,
    "start_time": "2024-03-12T12:08:11.421Z"
   },
   {
    "duration": 156,
    "start_time": "2024-03-12T12:08:11.430Z"
   },
   {
    "duration": 9,
    "start_time": "2024-03-12T12:08:11.587Z"
   },
   {
    "duration": 352,
    "start_time": "2024-03-12T12:08:11.598Z"
   },
   {
    "duration": 9,
    "start_time": "2024-03-12T12:08:11.952Z"
   },
   {
    "duration": 310,
    "start_time": "2024-03-12T12:08:11.963Z"
   },
   {
    "duration": 268,
    "start_time": "2024-03-12T12:08:12.275Z"
   },
   {
    "duration": 11,
    "start_time": "2024-03-12T12:08:12.545Z"
   },
   {
    "duration": 38,
    "start_time": "2024-03-12T12:08:12.558Z"
   },
   {
    "duration": 161,
    "start_time": "2024-03-12T12:08:12.598Z"
   },
   {
    "duration": 166,
    "start_time": "2024-03-12T12:08:12.761Z"
   },
   {
    "duration": 153,
    "start_time": "2024-03-12T12:08:12.929Z"
   },
   {
    "duration": 161,
    "start_time": "2024-03-12T12:08:13.083Z"
   },
   {
    "duration": 177,
    "start_time": "2024-03-12T12:08:13.246Z"
   },
   {
    "duration": 188,
    "start_time": "2024-03-12T12:08:13.425Z"
   },
   {
    "duration": 256,
    "start_time": "2024-03-12T12:08:13.615Z"
   },
   {
    "duration": 30,
    "start_time": "2024-03-12T12:08:13.872Z"
   },
   {
    "duration": 5,
    "start_time": "2024-03-12T12:08:13.903Z"
   },
   {
    "duration": 12,
    "start_time": "2024-03-12T12:08:13.910Z"
   },
   {
    "duration": 26,
    "start_time": "2024-03-12T12:08:13.923Z"
   },
   {
    "duration": 183,
    "start_time": "2024-03-12T12:08:13.951Z"
   },
   {
    "duration": 309,
    "start_time": "2024-03-12T12:08:34.865Z"
   },
   {
    "duration": 254,
    "start_time": "2024-03-12T12:08:41.881Z"
   },
   {
    "duration": 232,
    "start_time": "2024-03-12T12:08:47.376Z"
   },
   {
    "duration": 219,
    "start_time": "2024-03-12T12:08:53.174Z"
   },
   {
    "duration": 221,
    "start_time": "2024-03-12T12:08:58.422Z"
   },
   {
    "duration": 316,
    "start_time": "2024-03-12T12:09:03.068Z"
   },
   {
    "duration": 125,
    "start_time": "2024-03-12T12:09:07.366Z"
   },
   {
    "duration": 141,
    "start_time": "2024-03-12T12:09:16.635Z"
   },
   {
    "duration": 246,
    "start_time": "2024-03-12T12:09:20.534Z"
   },
   {
    "duration": 221,
    "start_time": "2024-03-12T12:09:26.251Z"
   },
   {
    "duration": 245,
    "start_time": "2024-03-12T12:09:30.884Z"
   },
   {
    "duration": 16,
    "start_time": "2024-03-12T12:09:50.930Z"
   },
   {
    "duration": 153,
    "start_time": "2024-03-12T12:10:15.511Z"
   },
   {
    "duration": 278,
    "start_time": "2024-03-12T12:10:23.556Z"
   },
   {
    "duration": 144,
    "start_time": "2024-03-12T12:10:27.242Z"
   },
   {
    "duration": 145,
    "start_time": "2024-03-12T12:10:31.254Z"
   },
   {
    "duration": 151,
    "start_time": "2024-03-12T12:10:34.359Z"
   },
   {
    "duration": 175,
    "start_time": "2024-03-12T12:10:37.805Z"
   },
   {
    "duration": 163,
    "start_time": "2024-03-12T12:10:40.750Z"
   },
   {
    "duration": 149,
    "start_time": "2024-03-12T12:10:49.945Z"
   },
   {
    "duration": 675,
    "start_time": "2024-03-12T12:11:00.841Z"
   },
   {
    "duration": 219,
    "start_time": "2024-03-12T12:11:01.518Z"
   },
   {
    "duration": 59,
    "start_time": "2024-03-12T12:11:01.739Z"
   },
   {
    "duration": 19,
    "start_time": "2024-03-12T12:11:01.800Z"
   },
   {
    "duration": 100,
    "start_time": "2024-03-12T12:11:01.821Z"
   },
   {
    "duration": 22,
    "start_time": "2024-03-12T12:11:01.922Z"
   },
   {
    "duration": 2175,
    "start_time": "2024-03-12T12:11:01.946Z"
   },
   {
    "duration": 11,
    "start_time": "2024-03-12T12:11:04.123Z"
   },
   {
    "duration": 70,
    "start_time": "2024-03-12T12:11:04.136Z"
   },
   {
    "duration": 5,
    "start_time": "2024-03-12T12:11:04.207Z"
   },
   {
    "duration": 49,
    "start_time": "2024-03-12T12:11:04.214Z"
   },
   {
    "duration": 5,
    "start_time": "2024-03-12T12:11:04.265Z"
   },
   {
    "duration": 19,
    "start_time": "2024-03-12T12:11:04.272Z"
   },
   {
    "duration": 8,
    "start_time": "2024-03-12T12:11:04.294Z"
   },
   {
    "duration": 39,
    "start_time": "2024-03-12T12:11:04.303Z"
   },
   {
    "duration": 6,
    "start_time": "2024-03-12T12:11:04.343Z"
   },
   {
    "duration": 25,
    "start_time": "2024-03-12T12:11:04.351Z"
   },
   {
    "duration": 11,
    "start_time": "2024-03-12T12:11:04.377Z"
   },
   {
    "duration": 24,
    "start_time": "2024-03-12T12:11:04.389Z"
   },
   {
    "duration": 16,
    "start_time": "2024-03-12T12:11:04.415Z"
   },
   {
    "duration": 19,
    "start_time": "2024-03-12T12:11:04.432Z"
   },
   {
    "duration": 24,
    "start_time": "2024-03-12T12:11:04.453Z"
   },
   {
    "duration": 16,
    "start_time": "2024-03-12T12:11:04.478Z"
   },
   {
    "duration": 12,
    "start_time": "2024-03-12T12:11:04.496Z"
   },
   {
    "duration": 5,
    "start_time": "2024-03-12T12:11:04.509Z"
   },
   {
    "duration": 11,
    "start_time": "2024-03-12T12:11:04.516Z"
   },
   {
    "duration": 21,
    "start_time": "2024-03-12T12:11:04.529Z"
   },
   {
    "duration": 14,
    "start_time": "2024-03-12T12:11:04.552Z"
   },
   {
    "duration": 24,
    "start_time": "2024-03-12T12:11:04.567Z"
   },
   {
    "duration": 7,
    "start_time": "2024-03-12T12:11:04.593Z"
   },
   {
    "duration": 21,
    "start_time": "2024-03-12T12:11:04.602Z"
   },
   {
    "duration": 10,
    "start_time": "2024-03-12T12:11:04.625Z"
   },
   {
    "duration": 8,
    "start_time": "2024-03-12T12:11:04.637Z"
   },
   {
    "duration": 20,
    "start_time": "2024-03-12T12:11:04.647Z"
   },
   {
    "duration": 15,
    "start_time": "2024-03-12T12:11:04.669Z"
   },
   {
    "duration": 13,
    "start_time": "2024-03-12T12:11:04.686Z"
   },
   {
    "duration": 260,
    "start_time": "2024-03-12T12:11:04.701Z"
   },
   {
    "duration": 6,
    "start_time": "2024-03-12T12:11:04.963Z"
   },
   {
    "duration": 53,
    "start_time": "2024-03-12T12:11:04.979Z"
   },
   {
    "duration": 6,
    "start_time": "2024-03-12T12:11:05.033Z"
   },
   {
    "duration": 5,
    "start_time": "2024-03-12T12:11:05.043Z"
   },
   {
    "duration": 6,
    "start_time": "2024-03-12T12:11:05.049Z"
   },
   {
    "duration": 375,
    "start_time": "2024-03-12T12:11:05.056Z"
   },
   {
    "duration": 7,
    "start_time": "2024-03-12T12:11:05.433Z"
   },
   {
    "duration": 21,
    "start_time": "2024-03-12T12:11:05.441Z"
   },
   {
    "duration": 312,
    "start_time": "2024-03-12T12:11:05.464Z"
   },
   {
    "duration": 9,
    "start_time": "2024-03-12T12:11:05.778Z"
   },
   {
    "duration": 329,
    "start_time": "2024-03-12T12:11:05.788Z"
   },
   {
    "duration": 9,
    "start_time": "2024-03-12T12:11:06.119Z"
   },
   {
    "duration": 258,
    "start_time": "2024-03-12T12:11:06.130Z"
   },
   {
    "duration": 9,
    "start_time": "2024-03-12T12:11:06.389Z"
   },
   {
    "duration": 232,
    "start_time": "2024-03-12T12:11:06.399Z"
   },
   {
    "duration": 8,
    "start_time": "2024-03-12T12:11:06.633Z"
   },
   {
    "duration": 207,
    "start_time": "2024-03-12T12:11:06.643Z"
   },
   {
    "duration": 9,
    "start_time": "2024-03-12T12:11:06.851Z"
   },
   {
    "duration": 211,
    "start_time": "2024-03-12T12:11:06.861Z"
   },
   {
    "duration": 13,
    "start_time": "2024-03-12T12:11:07.073Z"
   },
   {
    "duration": 9,
    "start_time": "2024-03-12T12:11:07.087Z"
   },
   {
    "duration": 141,
    "start_time": "2024-03-12T12:11:07.098Z"
   },
   {
    "duration": 8,
    "start_time": "2024-03-12T12:11:07.241Z"
   },
   {
    "duration": 172,
    "start_time": "2024-03-12T12:11:07.251Z"
   },
   {
    "duration": 10,
    "start_time": "2024-03-12T12:11:07.425Z"
   },
   {
    "duration": 318,
    "start_time": "2024-03-12T12:11:07.436Z"
   },
   {
    "duration": 9,
    "start_time": "2024-03-12T12:11:07.756Z"
   },
   {
    "duration": 230,
    "start_time": "2024-03-12T12:11:07.766Z"
   },
   {
    "duration": 242,
    "start_time": "2024-03-12T12:11:07.998Z"
   },
   {
    "duration": 9,
    "start_time": "2024-03-12T12:11:08.242Z"
   },
   {
    "duration": 36,
    "start_time": "2024-03-12T12:11:08.252Z"
   },
   {
    "duration": 152,
    "start_time": "2024-03-12T12:11:08.289Z"
   },
   {
    "duration": 184,
    "start_time": "2024-03-12T12:11:08.443Z"
   },
   {
    "duration": 158,
    "start_time": "2024-03-12T12:11:08.628Z"
   },
   {
    "duration": 151,
    "start_time": "2024-03-12T12:11:08.787Z"
   },
   {
    "duration": 161,
    "start_time": "2024-03-12T12:11:08.940Z"
   },
   {
    "duration": 164,
    "start_time": "2024-03-12T12:11:09.103Z"
   },
   {
    "duration": 224,
    "start_time": "2024-03-12T12:11:09.269Z"
   },
   {
    "duration": 27,
    "start_time": "2024-03-12T12:11:09.495Z"
   },
   {
    "duration": 8,
    "start_time": "2024-03-12T12:11:09.524Z"
   },
   {
    "duration": 21,
    "start_time": "2024-03-12T12:11:09.533Z"
   },
   {
    "duration": 28,
    "start_time": "2024-03-12T12:11:09.556Z"
   },
   {
    "duration": 185,
    "start_time": "2024-03-12T12:11:09.586Z"
   },
   {
    "duration": 727,
    "start_time": "2024-03-12T14:12:12.778Z"
   },
   {
    "duration": 221,
    "start_time": "2024-03-12T14:12:13.508Z"
   },
   {
    "duration": 48,
    "start_time": "2024-03-12T14:12:13.731Z"
   },
   {
    "duration": 24,
    "start_time": "2024-03-12T14:12:13.781Z"
   },
   {
    "duration": 89,
    "start_time": "2024-03-12T14:12:13.807Z"
   },
   {
    "duration": 23,
    "start_time": "2024-03-12T14:12:13.897Z"
   },
   {
    "duration": 2166,
    "start_time": "2024-03-12T14:12:13.921Z"
   },
   {
    "duration": 13,
    "start_time": "2024-03-12T14:12:16.092Z"
   },
   {
    "duration": 79,
    "start_time": "2024-03-12T14:12:16.108Z"
   },
   {
    "duration": 5,
    "start_time": "2024-03-12T14:12:16.189Z"
   },
   {
    "duration": 10,
    "start_time": "2024-03-12T14:12:16.196Z"
   },
   {
    "duration": 5,
    "start_time": "2024-03-12T14:12:16.207Z"
   },
   {
    "duration": 17,
    "start_time": "2024-03-12T14:12:16.213Z"
   },
   {
    "duration": 12,
    "start_time": "2024-03-12T14:12:16.233Z"
   },
   {
    "duration": 14,
    "start_time": "2024-03-12T14:12:16.246Z"
   },
   {
    "duration": 6,
    "start_time": "2024-03-12T14:12:16.261Z"
   },
   {
    "duration": 28,
    "start_time": "2024-03-12T14:12:16.268Z"
   },
   {
    "duration": 9,
    "start_time": "2024-03-12T14:12:16.298Z"
   },
   {
    "duration": 11,
    "start_time": "2024-03-12T14:12:16.309Z"
   },
   {
    "duration": 31,
    "start_time": "2024-03-12T14:12:16.322Z"
   },
   {
    "duration": 33,
    "start_time": "2024-03-12T14:12:16.355Z"
   },
   {
    "duration": 32,
    "start_time": "2024-03-12T14:12:16.391Z"
   },
   {
    "duration": 17,
    "start_time": "2024-03-12T14:12:16.425Z"
   },
   {
    "duration": 13,
    "start_time": "2024-03-12T14:12:16.444Z"
   },
   {
    "duration": 5,
    "start_time": "2024-03-12T14:12:16.460Z"
   },
   {
    "duration": 21,
    "start_time": "2024-03-12T14:12:16.467Z"
   },
   {
    "duration": 9,
    "start_time": "2024-03-12T14:12:16.489Z"
   },
   {
    "duration": 18,
    "start_time": "2024-03-12T14:12:16.499Z"
   },
   {
    "duration": 7,
    "start_time": "2024-03-12T14:12:16.519Z"
   },
   {
    "duration": 7,
    "start_time": "2024-03-12T14:12:16.528Z"
   },
   {
    "duration": 11,
    "start_time": "2024-03-12T14:12:16.536Z"
   },
   {
    "duration": 7,
    "start_time": "2024-03-12T14:12:16.549Z"
   },
   {
    "duration": 9,
    "start_time": "2024-03-12T14:12:16.557Z"
   },
   {
    "duration": 26,
    "start_time": "2024-03-12T14:12:16.568Z"
   },
   {
    "duration": 11,
    "start_time": "2024-03-12T14:12:16.596Z"
   },
   {
    "duration": 23,
    "start_time": "2024-03-12T14:12:16.609Z"
   },
   {
    "duration": 249,
    "start_time": "2024-03-12T14:12:16.633Z"
   },
   {
    "duration": 9,
    "start_time": "2024-03-12T14:12:16.884Z"
   },
   {
    "duration": 58,
    "start_time": "2024-03-12T14:12:16.895Z"
   },
   {
    "duration": 7,
    "start_time": "2024-03-12T14:12:16.954Z"
   },
   {
    "duration": 30,
    "start_time": "2024-03-12T14:12:16.966Z"
   },
   {
    "duration": 7,
    "start_time": "2024-03-12T14:12:16.998Z"
   },
   {
    "duration": 355,
    "start_time": "2024-03-12T14:12:17.007Z"
   },
   {
    "duration": 8,
    "start_time": "2024-03-12T14:12:17.363Z"
   },
   {
    "duration": 21,
    "start_time": "2024-03-12T14:12:17.373Z"
   },
   {
    "duration": 322,
    "start_time": "2024-03-12T14:12:17.396Z"
   },
   {
    "duration": 9,
    "start_time": "2024-03-12T14:12:17.719Z"
   },
   {
    "duration": 342,
    "start_time": "2024-03-12T14:12:17.730Z"
   },
   {
    "duration": 23,
    "start_time": "2024-03-12T14:12:18.074Z"
   },
   {
    "duration": 257,
    "start_time": "2024-03-12T14:12:18.099Z"
   },
   {
    "duration": 9,
    "start_time": "2024-03-12T14:12:18.358Z"
   },
   {
    "duration": 245,
    "start_time": "2024-03-12T14:12:18.369Z"
   },
   {
    "duration": 8,
    "start_time": "2024-03-12T14:12:18.615Z"
   },
   {
    "duration": 217,
    "start_time": "2024-03-12T14:12:18.625Z"
   },
   {
    "duration": 9,
    "start_time": "2024-03-12T14:12:18.844Z"
   },
   {
    "duration": 197,
    "start_time": "2024-03-12T14:12:18.854Z"
   },
   {
    "duration": 11,
    "start_time": "2024-03-12T14:12:19.053Z"
   },
   {
    "duration": 33,
    "start_time": "2024-03-12T14:12:19.065Z"
   },
   {
    "duration": 137,
    "start_time": "2024-03-12T14:12:19.100Z"
   },
   {
    "duration": 9,
    "start_time": "2024-03-12T14:12:19.239Z"
   },
   {
    "duration": 159,
    "start_time": "2024-03-12T14:12:19.249Z"
   },
   {
    "duration": 11,
    "start_time": "2024-03-12T14:12:19.410Z"
   },
   {
    "duration": 334,
    "start_time": "2024-03-12T14:12:19.423Z"
   },
   {
    "duration": 11,
    "start_time": "2024-03-12T14:12:19.759Z"
   },
   {
    "duration": 336,
    "start_time": "2024-03-12T14:12:19.772Z"
   },
   {
    "duration": 280,
    "start_time": "2024-03-12T14:12:20.110Z"
   },
   {
    "duration": 11,
    "start_time": "2024-03-12T14:12:20.393Z"
   },
   {
    "duration": 53,
    "start_time": "2024-03-12T14:12:20.406Z"
   },
   {
    "duration": 159,
    "start_time": "2024-03-12T14:12:20.461Z"
   },
   {
    "duration": 190,
    "start_time": "2024-03-12T14:12:20.622Z"
   },
   {
    "duration": 156,
    "start_time": "2024-03-12T14:12:20.814Z"
   },
   {
    "duration": 149,
    "start_time": "2024-03-12T14:12:20.972Z"
   },
   {
    "duration": 175,
    "start_time": "2024-03-12T14:12:21.123Z"
   },
   {
    "duration": 181,
    "start_time": "2024-03-12T14:12:21.300Z"
   },
   {
    "duration": 249,
    "start_time": "2024-03-12T14:12:21.483Z"
   },
   {
    "duration": 27,
    "start_time": "2024-03-12T14:12:21.734Z"
   },
   {
    "duration": 6,
    "start_time": "2024-03-12T14:12:21.763Z"
   },
   {
    "duration": 24,
    "start_time": "2024-03-12T14:12:21.771Z"
   },
   {
    "duration": 29,
    "start_time": "2024-03-12T14:12:21.797Z"
   },
   {
    "duration": 166,
    "start_time": "2024-03-12T14:12:21.827Z"
   },
   {
    "duration": 19,
    "start_time": "2024-03-12T14:22:05.703Z"
   },
   {
    "duration": 7,
    "start_time": "2024-03-12T14:22:55.476Z"
   },
   {
    "duration": 49,
    "start_time": "2024-03-12T15:10:37.368Z"
   },
   {
    "duration": 5,
    "start_time": "2024-03-12T15:10:52.500Z"
   },
   {
    "duration": 5,
    "start_time": "2024-03-12T15:12:32.745Z"
   },
   {
    "duration": 774,
    "start_time": "2024-03-12T15:12:41.210Z"
   },
   {
    "duration": 199,
    "start_time": "2024-03-12T15:12:41.987Z"
   },
   {
    "duration": 44,
    "start_time": "2024-03-12T15:12:42.187Z"
   },
   {
    "duration": 15,
    "start_time": "2024-03-12T15:12:42.232Z"
   },
   {
    "duration": 69,
    "start_time": "2024-03-12T15:12:42.259Z"
   },
   {
    "duration": 30,
    "start_time": "2024-03-12T15:12:42.329Z"
   },
   {
    "duration": 1846,
    "start_time": "2024-03-12T15:12:42.361Z"
   },
   {
    "duration": 9,
    "start_time": "2024-03-12T15:12:44.208Z"
   },
   {
    "duration": 49,
    "start_time": "2024-03-12T15:12:44.219Z"
   },
   {
    "duration": 5,
    "start_time": "2024-03-12T15:12:44.269Z"
   },
   {
    "duration": 7,
    "start_time": "2024-03-12T15:12:44.275Z"
   },
   {
    "duration": 4,
    "start_time": "2024-03-12T15:12:44.283Z"
   },
   {
    "duration": 9,
    "start_time": "2024-03-12T15:12:44.288Z"
   },
   {
    "duration": 5,
    "start_time": "2024-03-12T15:12:44.299Z"
   },
   {
    "duration": 9,
    "start_time": "2024-03-12T15:12:44.305Z"
   },
   {
    "duration": 4,
    "start_time": "2024-03-12T15:12:44.315Z"
   },
   {
    "duration": 40,
    "start_time": "2024-03-12T15:12:44.320Z"
   },
   {
    "duration": 9,
    "start_time": "2024-03-12T15:12:44.361Z"
   },
   {
    "duration": 5,
    "start_time": "2024-03-12T15:12:44.372Z"
   },
   {
    "duration": 12,
    "start_time": "2024-03-12T15:12:44.378Z"
   },
   {
    "duration": 17,
    "start_time": "2024-03-12T15:12:44.391Z"
   },
   {
    "duration": 7,
    "start_time": "2024-03-12T15:12:44.409Z"
   },
   {
    "duration": 5,
    "start_time": "2024-03-12T15:12:44.418Z"
   },
   {
    "duration": 36,
    "start_time": "2024-03-12T15:12:44.425Z"
   },
   {
    "duration": 6,
    "start_time": "2024-03-12T15:12:44.463Z"
   },
   {
    "duration": 7,
    "start_time": "2024-03-12T15:12:44.471Z"
   },
   {
    "duration": 5,
    "start_time": "2024-03-12T15:12:44.480Z"
   },
   {
    "duration": 7,
    "start_time": "2024-03-12T15:12:44.486Z"
   },
   {
    "duration": 7,
    "start_time": "2024-03-12T15:12:44.495Z"
   },
   {
    "duration": 18,
    "start_time": "2024-03-12T15:12:44.504Z"
   },
   {
    "duration": 6,
    "start_time": "2024-03-12T15:12:44.523Z"
   },
   {
    "duration": 5,
    "start_time": "2024-03-12T15:12:44.558Z"
   },
   {
    "duration": 5,
    "start_time": "2024-03-12T15:12:44.564Z"
   },
   {
    "duration": 5,
    "start_time": "2024-03-12T15:12:44.570Z"
   },
   {
    "duration": 11,
    "start_time": "2024-03-12T15:12:44.576Z"
   },
   {
    "duration": 8,
    "start_time": "2024-03-12T15:12:44.589Z"
   },
   {
    "duration": 15,
    "start_time": "2024-03-12T15:12:44.598Z"
   },
   {
    "duration": 9,
    "start_time": "2024-03-12T15:12:44.614Z"
   },
   {
    "duration": 242,
    "start_time": "2024-03-12T15:12:44.624Z"
   },
   {
    "duration": 7,
    "start_time": "2024-03-12T15:12:44.868Z"
   },
   {
    "duration": 49,
    "start_time": "2024-03-12T15:12:44.880Z"
   },
   {
    "duration": 6,
    "start_time": "2024-03-12T15:12:44.931Z"
   },
   {
    "duration": 6,
    "start_time": "2024-03-12T15:12:44.960Z"
   },
   {
    "duration": 6,
    "start_time": "2024-03-12T15:12:44.967Z"
   },
   {
    "duration": 350,
    "start_time": "2024-03-12T15:12:44.974Z"
   },
   {
    "duration": 8,
    "start_time": "2024-03-12T15:12:45.326Z"
   },
   {
    "duration": 28,
    "start_time": "2024-03-12T15:12:45.335Z"
   },
   {
    "duration": 283,
    "start_time": "2024-03-12T15:12:45.365Z"
   },
   {
    "duration": 15,
    "start_time": "2024-03-12T15:12:45.650Z"
   },
   {
    "duration": 280,
    "start_time": "2024-03-12T15:12:45.667Z"
   },
   {
    "duration": 17,
    "start_time": "2024-03-12T15:12:45.949Z"
   },
   {
    "duration": 222,
    "start_time": "2024-03-12T15:12:45.968Z"
   },
   {
    "duration": 8,
    "start_time": "2024-03-12T15:12:46.192Z"
   },
   {
    "duration": 236,
    "start_time": "2024-03-12T15:12:46.202Z"
   },
   {
    "duration": 19,
    "start_time": "2024-03-12T15:12:46.440Z"
   },
   {
    "duration": 182,
    "start_time": "2024-03-12T15:12:46.461Z"
   },
   {
    "duration": 20,
    "start_time": "2024-03-12T15:12:46.645Z"
   },
   {
    "duration": 175,
    "start_time": "2024-03-12T15:12:46.666Z"
   },
   {
    "duration": 18,
    "start_time": "2024-03-12T15:12:46.843Z"
   },
   {
    "duration": 7,
    "start_time": "2024-03-12T15:12:46.863Z"
   },
   {
    "duration": 117,
    "start_time": "2024-03-12T15:12:46.872Z"
   },
   {
    "duration": 8,
    "start_time": "2024-03-12T15:12:46.991Z"
   },
   {
    "duration": 147,
    "start_time": "2024-03-12T15:12:47.001Z"
   },
   {
    "duration": 15,
    "start_time": "2024-03-12T15:12:47.150Z"
   },
   {
    "duration": 306,
    "start_time": "2024-03-12T15:12:47.166Z"
   },
   {
    "duration": 8,
    "start_time": "2024-03-12T15:12:47.474Z"
   },
   {
    "duration": 242,
    "start_time": "2024-03-12T15:12:47.484Z"
   },
   {
    "duration": 218,
    "start_time": "2024-03-12T15:12:47.728Z"
   },
   {
    "duration": 14,
    "start_time": "2024-03-12T15:12:47.948Z"
   },
   {
    "duration": 27,
    "start_time": "2024-03-12T15:12:47.963Z"
   },
   {
    "duration": 135,
    "start_time": "2024-03-12T15:12:47.992Z"
   },
   {
    "duration": 139,
    "start_time": "2024-03-12T15:12:48.129Z"
   },
   {
    "duration": 130,
    "start_time": "2024-03-12T15:12:48.269Z"
   },
   {
    "duration": 139,
    "start_time": "2024-03-12T15:12:48.401Z"
   },
   {
    "duration": 147,
    "start_time": "2024-03-12T15:12:48.541Z"
   },
   {
    "duration": 145,
    "start_time": "2024-03-12T15:12:48.690Z"
   },
   {
    "duration": 210,
    "start_time": "2024-03-12T15:12:48.837Z"
   },
   {
    "duration": 28,
    "start_time": "2024-03-12T15:12:49.049Z"
   },
   {
    "duration": 28,
    "start_time": "2024-03-12T15:12:49.078Z"
   },
   {
    "duration": 31,
    "start_time": "2024-03-12T15:12:49.107Z"
   },
   {
    "duration": 40,
    "start_time": "2024-03-12T15:12:49.139Z"
   },
   {
    "duration": 149,
    "start_time": "2024-03-12T15:12:49.180Z"
   },
   {
    "duration": 86,
    "start_time": "2024-03-12T15:14:04.410Z"
   },
   {
    "duration": 5,
    "start_time": "2024-03-12T15:18:08.468Z"
   },
   {
    "duration": 11,
    "start_time": "2024-03-12T15:18:11.536Z"
   },
   {
    "duration": 3,
    "start_time": "2024-03-12T15:18:26.310Z"
   },
   {
    "duration": 4,
    "start_time": "2024-03-12T15:18:29.969Z"
   },
   {
    "duration": 7,
    "start_time": "2024-03-12T15:19:04.565Z"
   },
   {
    "duration": 7,
    "start_time": "2024-03-12T15:19:09.977Z"
   },
   {
    "duration": 694,
    "start_time": "2024-03-12T15:19:25.148Z"
   },
   {
    "duration": 165,
    "start_time": "2024-03-12T15:19:25.843Z"
   },
   {
    "duration": 46,
    "start_time": "2024-03-12T15:19:26.009Z"
   },
   {
    "duration": 14,
    "start_time": "2024-03-12T15:19:26.059Z"
   },
   {
    "duration": 85,
    "start_time": "2024-03-12T15:19:26.075Z"
   },
   {
    "duration": 20,
    "start_time": "2024-03-12T15:19:26.162Z"
   },
   {
    "duration": 1843,
    "start_time": "2024-03-12T15:19:26.184Z"
   },
   {
    "duration": 9,
    "start_time": "2024-03-12T15:19:28.028Z"
   },
   {
    "duration": 48,
    "start_time": "2024-03-12T15:19:28.039Z"
   },
   {
    "duration": 4,
    "start_time": "2024-03-12T15:19:28.089Z"
   },
   {
    "duration": 9,
    "start_time": "2024-03-12T15:19:28.095Z"
   },
   {
    "duration": 4,
    "start_time": "2024-03-12T15:19:28.105Z"
   },
   {
    "duration": 89,
    "start_time": "2024-03-12T15:19:28.111Z"
   },
   {
    "duration": 0,
    "start_time": "2024-03-12T15:19:28.203Z"
   },
   {
    "duration": 0,
    "start_time": "2024-03-12T15:19:28.204Z"
   },
   {
    "duration": 0,
    "start_time": "2024-03-12T15:19:28.205Z"
   },
   {
    "duration": 0,
    "start_time": "2024-03-12T15:19:28.206Z"
   },
   {
    "duration": 0,
    "start_time": "2024-03-12T15:19:28.207Z"
   },
   {
    "duration": 0,
    "start_time": "2024-03-12T15:19:28.208Z"
   },
   {
    "duration": 0,
    "start_time": "2024-03-12T15:19:28.209Z"
   },
   {
    "duration": 0,
    "start_time": "2024-03-12T15:19:28.212Z"
   },
   {
    "duration": 0,
    "start_time": "2024-03-12T15:19:28.212Z"
   },
   {
    "duration": 0,
    "start_time": "2024-03-12T15:19:28.214Z"
   },
   {
    "duration": 1,
    "start_time": "2024-03-12T15:19:28.214Z"
   },
   {
    "duration": 1,
    "start_time": "2024-03-12T15:19:28.215Z"
   },
   {
    "duration": 0,
    "start_time": "2024-03-12T15:19:28.217Z"
   },
   {
    "duration": 0,
    "start_time": "2024-03-12T15:19:28.218Z"
   },
   {
    "duration": 0,
    "start_time": "2024-03-12T15:19:28.218Z"
   },
   {
    "duration": 0,
    "start_time": "2024-03-12T15:19:28.219Z"
   },
   {
    "duration": 0,
    "start_time": "2024-03-12T15:19:28.220Z"
   },
   {
    "duration": 0,
    "start_time": "2024-03-12T15:19:28.222Z"
   },
   {
    "duration": 0,
    "start_time": "2024-03-12T15:19:28.223Z"
   },
   {
    "duration": 0,
    "start_time": "2024-03-12T15:19:28.224Z"
   },
   {
    "duration": 0,
    "start_time": "2024-03-12T15:19:28.225Z"
   },
   {
    "duration": 0,
    "start_time": "2024-03-12T15:19:28.258Z"
   },
   {
    "duration": 0,
    "start_time": "2024-03-12T15:19:28.259Z"
   },
   {
    "duration": 0,
    "start_time": "2024-03-12T15:19:28.260Z"
   },
   {
    "duration": 0,
    "start_time": "2024-03-12T15:19:28.261Z"
   },
   {
    "duration": 0,
    "start_time": "2024-03-12T15:19:28.262Z"
   },
   {
    "duration": 0,
    "start_time": "2024-03-12T15:19:28.263Z"
   },
   {
    "duration": 0,
    "start_time": "2024-03-12T15:19:28.264Z"
   },
   {
    "duration": 0,
    "start_time": "2024-03-12T15:19:28.265Z"
   },
   {
    "duration": 0,
    "start_time": "2024-03-12T15:19:28.265Z"
   },
   {
    "duration": 0,
    "start_time": "2024-03-12T15:19:28.266Z"
   },
   {
    "duration": 0,
    "start_time": "2024-03-12T15:19:28.267Z"
   },
   {
    "duration": 0,
    "start_time": "2024-03-12T15:19:28.268Z"
   },
   {
    "duration": 0,
    "start_time": "2024-03-12T15:19:28.269Z"
   },
   {
    "duration": 0,
    "start_time": "2024-03-12T15:19:28.270Z"
   },
   {
    "duration": 0,
    "start_time": "2024-03-12T15:19:28.271Z"
   },
   {
    "duration": 0,
    "start_time": "2024-03-12T15:19:28.272Z"
   },
   {
    "duration": 0,
    "start_time": "2024-03-12T15:19:28.272Z"
   },
   {
    "duration": 0,
    "start_time": "2024-03-12T15:19:28.273Z"
   },
   {
    "duration": 0,
    "start_time": "2024-03-12T15:19:28.274Z"
   },
   {
    "duration": 0,
    "start_time": "2024-03-12T15:19:28.275Z"
   },
   {
    "duration": 0,
    "start_time": "2024-03-12T15:19:28.276Z"
   },
   {
    "duration": 0,
    "start_time": "2024-03-12T15:19:28.277Z"
   },
   {
    "duration": 0,
    "start_time": "2024-03-12T15:19:28.278Z"
   },
   {
    "duration": 0,
    "start_time": "2024-03-12T15:19:28.279Z"
   },
   {
    "duration": 0,
    "start_time": "2024-03-12T15:19:28.280Z"
   },
   {
    "duration": 0,
    "start_time": "2024-03-12T15:19:28.281Z"
   },
   {
    "duration": 0,
    "start_time": "2024-03-12T15:19:28.282Z"
   },
   {
    "duration": 0,
    "start_time": "2024-03-12T15:19:28.282Z"
   },
   {
    "duration": 0,
    "start_time": "2024-03-12T15:19:28.284Z"
   },
   {
    "duration": 0,
    "start_time": "2024-03-12T15:19:28.284Z"
   },
   {
    "duration": 0,
    "start_time": "2024-03-12T15:19:28.285Z"
   },
   {
    "duration": 0,
    "start_time": "2024-03-12T15:19:28.286Z"
   },
   {
    "duration": 0,
    "start_time": "2024-03-12T15:19:28.287Z"
   },
   {
    "duration": 0,
    "start_time": "2024-03-12T15:19:28.288Z"
   },
   {
    "duration": 0,
    "start_time": "2024-03-12T15:19:28.290Z"
   },
   {
    "duration": 0,
    "start_time": "2024-03-12T15:19:28.290Z"
   },
   {
    "duration": 0,
    "start_time": "2024-03-12T15:19:28.291Z"
   },
   {
    "duration": 0,
    "start_time": "2024-03-12T15:19:28.292Z"
   },
   {
    "duration": 0,
    "start_time": "2024-03-12T15:19:28.293Z"
   },
   {
    "duration": 0,
    "start_time": "2024-03-12T15:19:28.294Z"
   },
   {
    "duration": 0,
    "start_time": "2024-03-12T15:19:28.295Z"
   },
   {
    "duration": 0,
    "start_time": "2024-03-12T15:19:28.359Z"
   },
   {
    "duration": 0,
    "start_time": "2024-03-12T15:19:28.360Z"
   },
   {
    "duration": 0,
    "start_time": "2024-03-12T15:19:28.361Z"
   },
   {
    "duration": 0,
    "start_time": "2024-03-12T15:19:28.362Z"
   },
   {
    "duration": 0,
    "start_time": "2024-03-12T15:19:28.363Z"
   },
   {
    "duration": 0,
    "start_time": "2024-03-12T15:19:28.364Z"
   },
   {
    "duration": 0,
    "start_time": "2024-03-12T15:19:28.365Z"
   },
   {
    "duration": 0,
    "start_time": "2024-03-12T15:19:28.366Z"
   },
   {
    "duration": 12,
    "start_time": "2024-03-12T15:21:55.433Z"
   },
   {
    "duration": 4,
    "start_time": "2024-03-12T15:22:02.158Z"
   },
   {
    "duration": 4,
    "start_time": "2024-03-12T15:22:05.220Z"
   },
   {
    "duration": 9,
    "start_time": "2024-03-12T15:22:26.858Z"
   },
   {
    "duration": 8,
    "start_time": "2024-03-12T15:22:33.873Z"
   },
   {
    "duration": 3,
    "start_time": "2024-03-12T15:22:47.175Z"
   },
   {
    "duration": 9,
    "start_time": "2024-03-12T15:22:48.923Z"
   },
   {
    "duration": 8,
    "start_time": "2024-03-12T15:23:19.126Z"
   },
   {
    "duration": 9,
    "start_time": "2024-03-12T15:23:21.738Z"
   },
   {
    "duration": 3,
    "start_time": "2024-03-12T15:23:23.471Z"
   },
   {
    "duration": 9,
    "start_time": "2024-03-12T15:39:54.014Z"
   },
   {
    "duration": 641,
    "start_time": "2024-03-12T15:40:03.599Z"
   },
   {
    "duration": 169,
    "start_time": "2024-03-12T15:40:04.242Z"
   },
   {
    "duration": 47,
    "start_time": "2024-03-12T15:40:04.412Z"
   },
   {
    "duration": 16,
    "start_time": "2024-03-12T15:40:04.462Z"
   },
   {
    "duration": 84,
    "start_time": "2024-03-12T15:40:04.479Z"
   },
   {
    "duration": 22,
    "start_time": "2024-03-12T15:40:04.565Z"
   },
   {
    "duration": 1930,
    "start_time": "2024-03-12T15:40:04.589Z"
   },
   {
    "duration": 9,
    "start_time": "2024-03-12T15:40:06.521Z"
   },
   {
    "duration": 61,
    "start_time": "2024-03-12T15:40:06.531Z"
   },
   {
    "duration": 6,
    "start_time": "2024-03-12T15:40:06.594Z"
   },
   {
    "duration": 8,
    "start_time": "2024-03-12T15:40:06.601Z"
   },
   {
    "duration": 6,
    "start_time": "2024-03-12T15:40:06.610Z"
   },
   {
    "duration": 93,
    "start_time": "2024-03-12T15:40:06.617Z"
   },
   {
    "duration": 0,
    "start_time": "2024-03-12T15:40:06.714Z"
   },
   {
    "duration": 0,
    "start_time": "2024-03-12T15:40:06.715Z"
   },
   {
    "duration": 0,
    "start_time": "2024-03-12T15:40:06.716Z"
   },
   {
    "duration": 0,
    "start_time": "2024-03-12T15:40:06.717Z"
   },
   {
    "duration": 0,
    "start_time": "2024-03-12T15:40:06.718Z"
   },
   {
    "duration": 0,
    "start_time": "2024-03-12T15:40:06.719Z"
   },
   {
    "duration": 0,
    "start_time": "2024-03-12T15:40:06.719Z"
   },
   {
    "duration": 0,
    "start_time": "2024-03-12T15:40:06.722Z"
   },
   {
    "duration": 0,
    "start_time": "2024-03-12T15:40:06.723Z"
   },
   {
    "duration": 0,
    "start_time": "2024-03-12T15:40:06.724Z"
   },
   {
    "duration": 0,
    "start_time": "2024-03-12T15:40:06.725Z"
   },
   {
    "duration": 0,
    "start_time": "2024-03-12T15:40:06.726Z"
   },
   {
    "duration": 0,
    "start_time": "2024-03-12T15:40:06.727Z"
   },
   {
    "duration": 0,
    "start_time": "2024-03-12T15:40:06.728Z"
   },
   {
    "duration": 0,
    "start_time": "2024-03-12T15:40:06.729Z"
   },
   {
    "duration": 0,
    "start_time": "2024-03-12T15:40:06.759Z"
   },
   {
    "duration": 0,
    "start_time": "2024-03-12T15:40:06.760Z"
   },
   {
    "duration": 0,
    "start_time": "2024-03-12T15:40:06.761Z"
   },
   {
    "duration": 0,
    "start_time": "2024-03-12T15:40:06.762Z"
   },
   {
    "duration": 0,
    "start_time": "2024-03-12T15:40:06.763Z"
   },
   {
    "duration": 0,
    "start_time": "2024-03-12T15:40:06.763Z"
   },
   {
    "duration": 0,
    "start_time": "2024-03-12T15:40:06.764Z"
   },
   {
    "duration": 0,
    "start_time": "2024-03-12T15:40:06.765Z"
   },
   {
    "duration": 0,
    "start_time": "2024-03-12T15:40:06.765Z"
   },
   {
    "duration": 0,
    "start_time": "2024-03-12T15:40:06.766Z"
   },
   {
    "duration": 0,
    "start_time": "2024-03-12T15:40:06.767Z"
   },
   {
    "duration": 0,
    "start_time": "2024-03-12T15:40:06.768Z"
   },
   {
    "duration": 0,
    "start_time": "2024-03-12T15:40:06.770Z"
   },
   {
    "duration": 0,
    "start_time": "2024-03-12T15:40:06.770Z"
   },
   {
    "duration": 0,
    "start_time": "2024-03-12T15:40:06.771Z"
   },
   {
    "duration": 0,
    "start_time": "2024-03-12T15:40:06.772Z"
   },
   {
    "duration": 0,
    "start_time": "2024-03-12T15:40:06.773Z"
   },
   {
    "duration": 0,
    "start_time": "2024-03-12T15:40:06.774Z"
   },
   {
    "duration": 0,
    "start_time": "2024-03-12T15:40:06.775Z"
   },
   {
    "duration": 0,
    "start_time": "2024-03-12T15:40:06.776Z"
   },
   {
    "duration": 0,
    "start_time": "2024-03-12T15:40:06.777Z"
   },
   {
    "duration": 0,
    "start_time": "2024-03-12T15:40:06.777Z"
   },
   {
    "duration": 0,
    "start_time": "2024-03-12T15:40:06.778Z"
   },
   {
    "duration": 0,
    "start_time": "2024-03-12T15:40:06.779Z"
   },
   {
    "duration": 0,
    "start_time": "2024-03-12T15:40:06.780Z"
   },
   {
    "duration": 0,
    "start_time": "2024-03-12T15:40:06.781Z"
   },
   {
    "duration": 0,
    "start_time": "2024-03-12T15:40:06.782Z"
   },
   {
    "duration": 0,
    "start_time": "2024-03-12T15:40:06.783Z"
   },
   {
    "duration": 0,
    "start_time": "2024-03-12T15:40:06.784Z"
   },
   {
    "duration": 0,
    "start_time": "2024-03-12T15:40:06.785Z"
   },
   {
    "duration": 0,
    "start_time": "2024-03-12T15:40:06.786Z"
   },
   {
    "duration": 0,
    "start_time": "2024-03-12T15:40:06.787Z"
   },
   {
    "duration": 0,
    "start_time": "2024-03-12T15:40:06.787Z"
   },
   {
    "duration": 0,
    "start_time": "2024-03-12T15:40:06.788Z"
   },
   {
    "duration": 0,
    "start_time": "2024-03-12T15:40:06.789Z"
   },
   {
    "duration": 0,
    "start_time": "2024-03-12T15:40:06.790Z"
   },
   {
    "duration": 0,
    "start_time": "2024-03-12T15:40:06.791Z"
   },
   {
    "duration": 0,
    "start_time": "2024-03-12T15:40:06.792Z"
   },
   {
    "duration": 0,
    "start_time": "2024-03-12T15:40:06.793Z"
   },
   {
    "duration": 0,
    "start_time": "2024-03-12T15:40:06.794Z"
   },
   {
    "duration": 0,
    "start_time": "2024-03-12T15:40:06.795Z"
   },
   {
    "duration": 0,
    "start_time": "2024-03-12T15:40:06.796Z"
   },
   {
    "duration": 0,
    "start_time": "2024-03-12T15:40:06.796Z"
   },
   {
    "duration": 0,
    "start_time": "2024-03-12T15:40:06.858Z"
   },
   {
    "duration": 0,
    "start_time": "2024-03-12T15:40:06.860Z"
   },
   {
    "duration": 1,
    "start_time": "2024-03-12T15:40:06.860Z"
   },
   {
    "duration": 0,
    "start_time": "2024-03-12T15:40:06.861Z"
   },
   {
    "duration": 0,
    "start_time": "2024-03-12T15:40:06.863Z"
   },
   {
    "duration": 1,
    "start_time": "2024-03-12T15:40:06.863Z"
   },
   {
    "duration": 0,
    "start_time": "2024-03-12T15:40:06.864Z"
   },
   {
    "duration": 0,
    "start_time": "2024-03-12T15:40:06.866Z"
   },
   {
    "duration": 0,
    "start_time": "2024-03-12T15:40:06.866Z"
   },
   {
    "duration": 0,
    "start_time": "2024-03-12T15:40:06.868Z"
   },
   {
    "duration": 0,
    "start_time": "2024-03-12T15:40:06.869Z"
   },
   {
    "duration": 0,
    "start_time": "2024-03-12T15:40:06.869Z"
   },
   {
    "duration": 4,
    "start_time": "2024-03-12T15:41:06.642Z"
   },
   {
    "duration": 9,
    "start_time": "2024-03-12T15:41:08.070Z"
   },
   {
    "duration": 5,
    "start_time": "2024-03-12T15:41:24.560Z"
   },
   {
    "duration": 5,
    "start_time": "2024-03-12T15:41:30.871Z"
   },
   {
    "duration": 11,
    "start_time": "2024-03-12T15:41:36.026Z"
   },
   {
    "duration": 6,
    "start_time": "2024-03-12T15:41:42.617Z"
   },
   {
    "duration": 10,
    "start_time": "2024-03-12T16:23:16.784Z"
   },
   {
    "duration": 2,
    "start_time": "2024-03-12T16:23:24.302Z"
   },
   {
    "duration": 246,
    "start_time": "2024-03-12T16:23:24.714Z"
   },
   {
    "duration": 39,
    "start_time": "2024-03-12T16:23:26.014Z"
   },
   {
    "duration": 15,
    "start_time": "2024-03-12T16:23:26.852Z"
   },
   {
    "duration": 71,
    "start_time": "2024-03-12T16:23:27.649Z"
   },
   {
    "duration": 32,
    "start_time": "2024-03-12T16:23:28.049Z"
   },
   {
    "duration": 1932,
    "start_time": "2024-03-12T16:23:29.679Z"
   },
   {
    "duration": 9,
    "start_time": "2024-03-12T16:23:32.289Z"
   },
   {
    "duration": 17,
    "start_time": "2024-03-12T16:23:34.323Z"
   },
   {
    "duration": 6,
    "start_time": "2024-03-12T16:23:34.955Z"
   },
   {
    "duration": 8,
    "start_time": "2024-03-12T16:23:36.867Z"
   },
   {
    "duration": 5,
    "start_time": "2024-03-12T16:23:37.970Z"
   },
   {
    "duration": 13,
    "start_time": "2024-03-12T16:23:38.850Z"
   },
   {
    "duration": 5,
    "start_time": "2024-03-12T16:23:41.442Z"
   },
   {
    "duration": 8,
    "start_time": "2024-03-12T16:23:43.072Z"
   },
   {
    "duration": 6,
    "start_time": "2024-03-12T16:23:44.609Z"
   },
   {
    "duration": 7,
    "start_time": "2024-03-12T16:23:46.142Z"
   },
   {
    "duration": 6,
    "start_time": "2024-03-12T16:23:46.598Z"
   },
   {
    "duration": 5,
    "start_time": "2024-03-12T16:23:47.505Z"
   },
   {
    "duration": 133,
    "start_time": "2024-03-12T16:23:48.488Z"
   },
   {
    "duration": 1423,
    "start_time": "2024-03-12T16:23:49.576Z"
   },
   {
    "duration": 1816,
    "start_time": "2024-03-12T16:23:51.001Z"
   },
   {
    "duration": 897,
    "start_time": "2024-03-12T16:23:52.818Z"
   },
   {
    "duration": 457,
    "start_time": "2024-03-12T16:23:53.717Z"
   },
   {
    "duration": 6,
    "start_time": "2024-03-12T16:23:54.977Z"
   },
   {
    "duration": 5,
    "start_time": "2024-03-12T16:23:59.334Z"
   },
   {
    "duration": 2195,
    "start_time": "2024-03-12T16:23:59.826Z"
   },
   {
    "duration": 5,
    "start_time": "2024-03-12T16:24:14.813Z"
   },
   {
    "duration": 7,
    "start_time": "2024-03-12T16:24:15.214Z"
   },
   {
    "duration": 7,
    "start_time": "2024-03-12T16:24:16.116Z"
   },
   {
    "duration": 8,
    "start_time": "2024-03-12T16:24:17.016Z"
   },
   {
    "duration": 5,
    "start_time": "2024-03-12T16:24:17.625Z"
   },
   {
    "duration": 6,
    "start_time": "2024-03-12T16:24:18.993Z"
   },
   {
    "duration": 3,
    "start_time": "2024-03-12T16:24:25.162Z"
   },
   {
    "duration": 10,
    "start_time": "2024-03-12T16:24:26.194Z"
   },
   {
    "duration": 6,
    "start_time": "2024-03-12T16:24:43.397Z"
   },
   {
    "duration": 10,
    "start_time": "2024-03-12T16:25:11.141Z"
   },
   {
    "duration": 8,
    "start_time": "2024-03-12T16:25:15.678Z"
   },
   {
    "duration": 4,
    "start_time": "2024-03-12T16:25:34.012Z"
   },
   {
    "duration": 8,
    "start_time": "2024-03-12T16:25:41.424Z"
   },
   {
    "duration": 3,
    "start_time": "2024-03-12T16:25:43.928Z"
   },
   {
    "duration": 6,
    "start_time": "2024-03-12T16:25:51.613Z"
   },
   {
    "duration": 11,
    "start_time": "2024-03-12T16:25:59.873Z"
   },
   {
    "duration": 8,
    "start_time": "2024-03-12T16:26:14.243Z"
   },
   {
    "duration": 11,
    "start_time": "2024-03-12T16:27:32.431Z"
   },
   {
    "duration": 8,
    "start_time": "2024-03-12T16:27:35.343Z"
   },
   {
    "duration": 5,
    "start_time": "2024-03-12T16:27:41.530Z"
   },
   {
    "duration": 8,
    "start_time": "2024-03-12T16:28:00.423Z"
   },
   {
    "duration": 8,
    "start_time": "2024-03-12T16:28:02.671Z"
   },
   {
    "duration": 9,
    "start_time": "2024-03-12T16:28:57.702Z"
   },
   {
    "duration": 14,
    "start_time": "2024-03-12T16:29:05.011Z"
   },
   {
    "duration": 14,
    "start_time": "2024-03-12T16:29:09.766Z"
   },
   {
    "duration": 13,
    "start_time": "2024-03-12T16:29:12.811Z"
   },
   {
    "duration": 13,
    "start_time": "2024-03-12T16:29:18.010Z"
   },
   {
    "duration": 17,
    "start_time": "2024-03-12T16:30:19.179Z"
   },
   {
    "duration": 6,
    "start_time": "2024-03-12T16:30:59.855Z"
   },
   {
    "duration": 6,
    "start_time": "2024-03-12T16:31:05.117Z"
   },
   {
    "duration": 8,
    "start_time": "2024-03-12T16:31:10.883Z"
   },
   {
    "duration": 5,
    "start_time": "2024-03-12T16:31:24.224Z"
   },
   {
    "duration": 656,
    "start_time": "2024-03-12T16:31:30.911Z"
   },
   {
    "duration": 265,
    "start_time": "2024-03-12T16:31:31.569Z"
   },
   {
    "duration": 45,
    "start_time": "2024-03-12T16:31:31.836Z"
   },
   {
    "duration": 68,
    "start_time": "2024-03-12T16:31:31.883Z"
   },
   {
    "duration": 201,
    "start_time": "2024-03-12T16:31:31.953Z"
   },
   {
    "duration": 21,
    "start_time": "2024-03-12T16:31:32.156Z"
   },
   {
    "duration": 1832,
    "start_time": "2024-03-12T16:31:32.179Z"
   },
   {
    "duration": 9,
    "start_time": "2024-03-12T16:31:34.013Z"
   },
   {
    "duration": 50,
    "start_time": "2024-03-12T16:31:34.023Z"
   },
   {
    "duration": 5,
    "start_time": "2024-03-12T16:31:34.075Z"
   },
   {
    "duration": 9,
    "start_time": "2024-03-12T16:31:34.082Z"
   },
   {
    "duration": 4,
    "start_time": "2024-03-12T16:31:34.092Z"
   },
   {
    "duration": 95,
    "start_time": "2024-03-12T16:31:34.098Z"
   },
   {
    "duration": 0,
    "start_time": "2024-03-12T16:31:34.196Z"
   },
   {
    "duration": 0,
    "start_time": "2024-03-12T16:31:34.197Z"
   },
   {
    "duration": 0,
    "start_time": "2024-03-12T16:31:34.198Z"
   },
   {
    "duration": 0,
    "start_time": "2024-03-12T16:31:34.199Z"
   },
   {
    "duration": 0,
    "start_time": "2024-03-12T16:31:34.200Z"
   },
   {
    "duration": 0,
    "start_time": "2024-03-12T16:31:34.201Z"
   },
   {
    "duration": 0,
    "start_time": "2024-03-12T16:31:34.202Z"
   },
   {
    "duration": 0,
    "start_time": "2024-03-12T16:31:34.204Z"
   },
   {
    "duration": 0,
    "start_time": "2024-03-12T16:31:34.205Z"
   },
   {
    "duration": 0,
    "start_time": "2024-03-12T16:31:34.206Z"
   },
   {
    "duration": 0,
    "start_time": "2024-03-12T16:31:34.207Z"
   },
   {
    "duration": 0,
    "start_time": "2024-03-12T16:31:34.208Z"
   },
   {
    "duration": 0,
    "start_time": "2024-03-12T16:31:34.209Z"
   },
   {
    "duration": 0,
    "start_time": "2024-03-12T16:31:34.210Z"
   },
   {
    "duration": 0,
    "start_time": "2024-03-12T16:31:34.211Z"
   },
   {
    "duration": 0,
    "start_time": "2024-03-12T16:31:34.212Z"
   },
   {
    "duration": 0,
    "start_time": "2024-03-12T16:31:34.212Z"
   },
   {
    "duration": 0,
    "start_time": "2024-03-12T16:31:34.213Z"
   },
   {
    "duration": 0,
    "start_time": "2024-03-12T16:31:34.214Z"
   },
   {
    "duration": 0,
    "start_time": "2024-03-12T16:31:34.215Z"
   },
   {
    "duration": 0,
    "start_time": "2024-03-12T16:31:34.216Z"
   },
   {
    "duration": 0,
    "start_time": "2024-03-12T16:31:34.217Z"
   },
   {
    "duration": 0,
    "start_time": "2024-03-12T16:31:34.218Z"
   },
   {
    "duration": 0,
    "start_time": "2024-03-12T16:31:34.219Z"
   },
   {
    "duration": 0,
    "start_time": "2024-03-12T16:31:34.219Z"
   },
   {
    "duration": 0,
    "start_time": "2024-03-12T16:31:34.220Z"
   },
   {
    "duration": 0,
    "start_time": "2024-03-12T16:31:34.221Z"
   },
   {
    "duration": 0,
    "start_time": "2024-03-12T16:31:34.222Z"
   },
   {
    "duration": 0,
    "start_time": "2024-03-12T16:31:34.259Z"
   },
   {
    "duration": 0,
    "start_time": "2024-03-12T16:31:34.260Z"
   },
   {
    "duration": 0,
    "start_time": "2024-03-12T16:31:34.261Z"
   },
   {
    "duration": 0,
    "start_time": "2024-03-12T16:31:34.262Z"
   },
   {
    "duration": 0,
    "start_time": "2024-03-12T16:31:34.263Z"
   },
   {
    "duration": 0,
    "start_time": "2024-03-12T16:31:34.263Z"
   },
   {
    "duration": 0,
    "start_time": "2024-03-12T16:31:34.264Z"
   },
   {
    "duration": 0,
    "start_time": "2024-03-12T16:31:34.265Z"
   },
   {
    "duration": 0,
    "start_time": "2024-03-12T16:31:34.266Z"
   },
   {
    "duration": 0,
    "start_time": "2024-03-12T16:31:34.267Z"
   },
   {
    "duration": 0,
    "start_time": "2024-03-12T16:31:34.268Z"
   },
   {
    "duration": 0,
    "start_time": "2024-03-12T16:31:34.269Z"
   },
   {
    "duration": 0,
    "start_time": "2024-03-12T16:31:34.270Z"
   },
   {
    "duration": 0,
    "start_time": "2024-03-12T16:31:34.271Z"
   },
   {
    "duration": 0,
    "start_time": "2024-03-12T16:31:34.272Z"
   },
   {
    "duration": 0,
    "start_time": "2024-03-12T16:31:34.272Z"
   },
   {
    "duration": 0,
    "start_time": "2024-03-12T16:31:34.273Z"
   },
   {
    "duration": 0,
    "start_time": "2024-03-12T16:31:34.274Z"
   },
   {
    "duration": 0,
    "start_time": "2024-03-12T16:31:34.275Z"
   },
   {
    "duration": 0,
    "start_time": "2024-03-12T16:31:34.276Z"
   },
   {
    "duration": 0,
    "start_time": "2024-03-12T16:31:34.276Z"
   },
   {
    "duration": 0,
    "start_time": "2024-03-12T16:31:34.277Z"
   },
   {
    "duration": 0,
    "start_time": "2024-03-12T16:31:34.278Z"
   },
   {
    "duration": 0,
    "start_time": "2024-03-12T16:31:34.279Z"
   },
   {
    "duration": 0,
    "start_time": "2024-03-12T16:31:34.280Z"
   },
   {
    "duration": 0,
    "start_time": "2024-03-12T16:31:34.281Z"
   },
   {
    "duration": 0,
    "start_time": "2024-03-12T16:31:34.281Z"
   },
   {
    "duration": 0,
    "start_time": "2024-03-12T16:31:34.282Z"
   },
   {
    "duration": 0,
    "start_time": "2024-03-12T16:31:34.283Z"
   },
   {
    "duration": 0,
    "start_time": "2024-03-12T16:31:34.284Z"
   },
   {
    "duration": 0,
    "start_time": "2024-03-12T16:31:34.285Z"
   },
   {
    "duration": 0,
    "start_time": "2024-03-12T16:31:34.286Z"
   },
   {
    "duration": 0,
    "start_time": "2024-03-12T16:31:34.287Z"
   },
   {
    "duration": 0,
    "start_time": "2024-03-12T16:31:34.288Z"
   },
   {
    "duration": 0,
    "start_time": "2024-03-12T16:31:34.289Z"
   },
   {
    "duration": 0,
    "start_time": "2024-03-12T16:31:34.290Z"
   },
   {
    "duration": 1,
    "start_time": "2024-03-12T16:31:34.290Z"
   },
   {
    "duration": 0,
    "start_time": "2024-03-12T16:31:34.291Z"
   },
   {
    "duration": 0,
    "start_time": "2024-03-12T16:31:34.292Z"
   },
   {
    "duration": 0,
    "start_time": "2024-03-12T16:31:34.293Z"
   },
   {
    "duration": 0,
    "start_time": "2024-03-12T16:31:34.294Z"
   },
   {
    "duration": 6,
    "start_time": "2024-03-12T16:31:57.396Z"
   },
   {
    "duration": 290,
    "start_time": "2024-03-12T16:32:36.449Z"
   },
   {
    "duration": 277,
    "start_time": "2024-03-12T16:33:01.674Z"
   },
   {
    "duration": 380,
    "start_time": "2024-03-12T16:35:18.557Z"
   },
   {
    "duration": 316,
    "start_time": "2024-03-12T16:41:55.481Z"
   },
   {
    "duration": 10,
    "start_time": "2024-03-12T16:42:24.927Z"
   },
   {
    "duration": 264,
    "start_time": "2024-03-12T16:42:29.741Z"
   },
   {
    "duration": 674,
    "start_time": "2024-03-12T16:54:37.342Z"
   },
   {
    "duration": 254,
    "start_time": "2024-03-12T16:54:38.018Z"
   },
   {
    "duration": 46,
    "start_time": "2024-03-12T16:54:38.274Z"
   },
   {
    "duration": 14,
    "start_time": "2024-03-12T16:54:38.321Z"
   },
   {
    "duration": 80,
    "start_time": "2024-03-12T16:54:38.337Z"
   },
   {
    "duration": 19,
    "start_time": "2024-03-12T16:54:38.419Z"
   },
   {
    "duration": 1860,
    "start_time": "2024-03-12T16:54:38.440Z"
   },
   {
    "duration": 11,
    "start_time": "2024-03-12T16:54:40.301Z"
   },
   {
    "duration": 52,
    "start_time": "2024-03-12T16:54:40.314Z"
   },
   {
    "duration": 5,
    "start_time": "2024-03-12T16:54:40.367Z"
   },
   {
    "duration": 8,
    "start_time": "2024-03-12T16:54:40.374Z"
   },
   {
    "duration": 5,
    "start_time": "2024-03-12T16:54:40.384Z"
   },
   {
    "duration": 107,
    "start_time": "2024-03-12T16:54:40.391Z"
   },
   {
    "duration": 0,
    "start_time": "2024-03-12T16:54:40.502Z"
   },
   {
    "duration": 0,
    "start_time": "2024-03-12T16:54:40.503Z"
   },
   {
    "duration": 0,
    "start_time": "2024-03-12T16:54:40.505Z"
   },
   {
    "duration": 0,
    "start_time": "2024-03-12T16:54:40.506Z"
   },
   {
    "duration": 0,
    "start_time": "2024-03-12T16:54:40.508Z"
   },
   {
    "duration": 0,
    "start_time": "2024-03-12T16:54:40.509Z"
   },
   {
    "duration": 0,
    "start_time": "2024-03-12T16:54:40.511Z"
   },
   {
    "duration": 0,
    "start_time": "2024-03-12T16:54:40.512Z"
   },
   {
    "duration": 0,
    "start_time": "2024-03-12T16:54:40.513Z"
   },
   {
    "duration": 0,
    "start_time": "2024-03-12T16:54:40.515Z"
   },
   {
    "duration": 0,
    "start_time": "2024-03-12T16:54:40.519Z"
   },
   {
    "duration": 0,
    "start_time": "2024-03-12T16:54:40.520Z"
   },
   {
    "duration": 0,
    "start_time": "2024-03-12T16:54:40.521Z"
   },
   {
    "duration": 0,
    "start_time": "2024-03-12T16:54:40.523Z"
   },
   {
    "duration": 0,
    "start_time": "2024-03-12T16:54:40.524Z"
   },
   {
    "duration": 0,
    "start_time": "2024-03-12T16:54:40.525Z"
   },
   {
    "duration": 0,
    "start_time": "2024-03-12T16:54:40.559Z"
   },
   {
    "duration": 0,
    "start_time": "2024-03-12T16:54:40.560Z"
   },
   {
    "duration": 0,
    "start_time": "2024-03-12T16:54:40.562Z"
   },
   {
    "duration": 0,
    "start_time": "2024-03-12T16:54:40.563Z"
   },
   {
    "duration": 0,
    "start_time": "2024-03-12T16:54:40.565Z"
   },
   {
    "duration": 0,
    "start_time": "2024-03-12T16:54:40.566Z"
   },
   {
    "duration": 0,
    "start_time": "2024-03-12T16:54:40.567Z"
   },
   {
    "duration": 0,
    "start_time": "2024-03-12T16:54:40.569Z"
   },
   {
    "duration": 0,
    "start_time": "2024-03-12T16:54:40.570Z"
   },
   {
    "duration": 0,
    "start_time": "2024-03-12T16:54:40.571Z"
   },
   {
    "duration": 0,
    "start_time": "2024-03-12T16:54:40.573Z"
   },
   {
    "duration": 0,
    "start_time": "2024-03-12T16:54:40.574Z"
   },
   {
    "duration": 0,
    "start_time": "2024-03-12T16:54:40.575Z"
   },
   {
    "duration": 0,
    "start_time": "2024-03-12T16:54:40.577Z"
   },
   {
    "duration": 0,
    "start_time": "2024-03-12T16:54:40.578Z"
   },
   {
    "duration": 0,
    "start_time": "2024-03-12T16:54:40.579Z"
   },
   {
    "duration": 0,
    "start_time": "2024-03-12T16:54:40.581Z"
   },
   {
    "duration": 0,
    "start_time": "2024-03-12T16:54:40.582Z"
   },
   {
    "duration": 0,
    "start_time": "2024-03-12T16:54:40.583Z"
   },
   {
    "duration": 0,
    "start_time": "2024-03-12T16:54:40.585Z"
   },
   {
    "duration": 0,
    "start_time": "2024-03-12T16:54:40.586Z"
   },
   {
    "duration": 0,
    "start_time": "2024-03-12T16:54:40.587Z"
   },
   {
    "duration": 0,
    "start_time": "2024-03-12T16:54:40.589Z"
   },
   {
    "duration": 0,
    "start_time": "2024-03-12T16:54:40.591Z"
   },
   {
    "duration": 0,
    "start_time": "2024-03-12T16:54:40.592Z"
   },
   {
    "duration": 0,
    "start_time": "2024-03-12T16:54:40.593Z"
   },
   {
    "duration": 0,
    "start_time": "2024-03-12T16:54:40.595Z"
   },
   {
    "duration": 0,
    "start_time": "2024-03-12T16:54:40.596Z"
   },
   {
    "duration": 0,
    "start_time": "2024-03-12T16:54:40.597Z"
   },
   {
    "duration": 0,
    "start_time": "2024-03-12T16:54:40.598Z"
   },
   {
    "duration": 0,
    "start_time": "2024-03-12T16:54:40.659Z"
   },
   {
    "duration": 0,
    "start_time": "2024-03-12T16:54:40.661Z"
   },
   {
    "duration": 0,
    "start_time": "2024-03-12T16:54:40.662Z"
   },
   {
    "duration": 0,
    "start_time": "2024-03-12T16:54:40.663Z"
   },
   {
    "duration": 0,
    "start_time": "2024-03-12T16:54:40.663Z"
   },
   {
    "duration": 0,
    "start_time": "2024-03-12T16:54:40.664Z"
   },
   {
    "duration": 0,
    "start_time": "2024-03-12T16:54:40.665Z"
   },
   {
    "duration": 0,
    "start_time": "2024-03-12T16:54:40.666Z"
   },
   {
    "duration": 0,
    "start_time": "2024-03-12T16:54:40.667Z"
   },
   {
    "duration": 0,
    "start_time": "2024-03-12T16:54:40.668Z"
   },
   {
    "duration": 0,
    "start_time": "2024-03-12T16:54:40.669Z"
   },
   {
    "duration": 0,
    "start_time": "2024-03-12T16:54:40.670Z"
   },
   {
    "duration": 0,
    "start_time": "2024-03-12T16:54:40.671Z"
   },
   {
    "duration": 0,
    "start_time": "2024-03-12T16:54:40.672Z"
   },
   {
    "duration": 0,
    "start_time": "2024-03-12T16:54:40.673Z"
   },
   {
    "duration": 0,
    "start_time": "2024-03-12T16:54:40.674Z"
   },
   {
    "duration": 0,
    "start_time": "2024-03-12T16:54:40.675Z"
   },
   {
    "duration": 0,
    "start_time": "2024-03-12T16:54:40.676Z"
   },
   {
    "duration": 0,
    "start_time": "2024-03-12T16:54:40.677Z"
   },
   {
    "duration": 0,
    "start_time": "2024-03-12T16:54:40.678Z"
   },
   {
    "duration": 0,
    "start_time": "2024-03-12T16:54:40.679Z"
   },
   {
    "duration": 0,
    "start_time": "2024-03-12T16:54:40.680Z"
   },
   {
    "duration": 0,
    "start_time": "2024-03-12T16:54:40.681Z"
   },
   {
    "duration": 227,
    "start_time": "2024-03-12T16:54:51.305Z"
   },
   {
    "duration": 230,
    "start_time": "2024-03-12T16:55:39.641Z"
   },
   {
    "duration": 297,
    "start_time": "2024-03-12T16:56:51.499Z"
   },
   {
    "duration": 226,
    "start_time": "2024-03-12T16:57:12.313Z"
   },
   {
    "duration": 214,
    "start_time": "2024-03-12T17:00:02.358Z"
   },
   {
    "duration": 218,
    "start_time": "2024-03-12T17:00:17.423Z"
   },
   {
    "duration": 198,
    "start_time": "2024-03-12T17:00:25.776Z"
   },
   {
    "duration": 216,
    "start_time": "2024-03-12T17:00:30.799Z"
   },
   {
    "duration": 183,
    "start_time": "2024-03-12T17:00:35.757Z"
   },
   {
    "duration": 207,
    "start_time": "2024-03-12T17:00:50.211Z"
   },
   {
    "duration": 205,
    "start_time": "2024-03-12T17:00:55.246Z"
   },
   {
    "duration": 180,
    "start_time": "2024-03-12T17:01:02.171Z"
   },
   {
    "duration": 9,
    "start_time": "2024-03-12T17:01:06.600Z"
   },
   {
    "duration": 261,
    "start_time": "2024-03-12T17:01:12.971Z"
   },
   {
    "duration": 185,
    "start_time": "2024-03-12T17:01:50.080Z"
   },
   {
    "duration": 99,
    "start_time": "2024-03-12T17:03:10.374Z"
   },
   {
    "duration": 200,
    "start_time": "2024-03-12T17:03:58.539Z"
   },
   {
    "duration": 203,
    "start_time": "2024-03-12T17:04:15.243Z"
   },
   {
    "duration": 845,
    "start_time": "2024-03-12T17:04:20.768Z"
   },
   {
    "duration": 196,
    "start_time": "2024-03-12T17:04:45.836Z"
   },
   {
    "duration": 214,
    "start_time": "2024-03-12T17:04:53.171Z"
   },
   {
    "duration": 198,
    "start_time": "2024-03-12T17:05:07.928Z"
   },
   {
    "duration": 184,
    "start_time": "2024-03-12T17:05:49.113Z"
   },
   {
    "duration": 207,
    "start_time": "2024-03-12T17:05:54.503Z"
   },
   {
    "duration": 19,
    "start_time": "2024-03-12T17:09:06.008Z"
   },
   {
    "duration": 18,
    "start_time": "2024-03-12T17:09:15.113Z"
   },
   {
    "duration": 139,
    "start_time": "2024-03-12T17:09:43.254Z"
   },
   {
    "duration": 44,
    "start_time": "2024-03-12T18:59:59.581Z"
   },
   {
    "duration": 749,
    "start_time": "2024-03-12T19:00:43.332Z"
   },
   {
    "duration": 151,
    "start_time": "2024-03-12T19:00:44.083Z"
   },
   {
    "duration": 40,
    "start_time": "2024-03-12T19:00:44.235Z"
   },
   {
    "duration": 14,
    "start_time": "2024-03-12T19:00:44.484Z"
   },
   {
    "duration": 62,
    "start_time": "2024-03-12T19:00:44.846Z"
   },
   {
    "duration": 19,
    "start_time": "2024-03-12T19:00:45.028Z"
   },
   {
    "duration": 1705,
    "start_time": "2024-03-12T19:00:45.785Z"
   },
   {
    "duration": 11,
    "start_time": "2024-03-12T19:00:47.492Z"
   },
   {
    "duration": 48,
    "start_time": "2024-03-12T19:00:47.987Z"
   },
   {
    "duration": 6,
    "start_time": "2024-03-12T19:00:48.203Z"
   },
   {
    "duration": 7,
    "start_time": "2024-03-12T19:00:48.631Z"
   },
   {
    "duration": 5,
    "start_time": "2024-03-12T19:00:49.049Z"
   },
   {
    "duration": 47,
    "start_time": "2024-03-12T19:00:49.451Z"
   },
   {
    "duration": 5,
    "start_time": "2024-03-12T19:00:50.765Z"
   },
   {
    "duration": 7,
    "start_time": "2024-03-12T19:00:51.154Z"
   },
   {
    "duration": 4,
    "start_time": "2024-03-12T19:00:51.350Z"
   },
   {
    "duration": 9,
    "start_time": "2024-03-12T19:00:51.946Z"
   },
   {
    "duration": 5,
    "start_time": "2024-03-12T19:00:52.349Z"
   },
   {
    "duration": 5,
    "start_time": "2024-03-12T19:00:52.978Z"
   },
   {
    "duration": 6,
    "start_time": "2024-03-12T19:00:53.636Z"
   },
   {
    "duration": 16,
    "start_time": "2024-03-12T19:00:54.382Z"
   },
   {
    "duration": 6,
    "start_time": "2024-03-12T19:00:55.078Z"
   },
   {
    "duration": 5,
    "start_time": "2024-03-12T19:00:55.765Z"
   },
   {
    "duration": 6,
    "start_time": "2024-03-12T19:00:56.594Z"
   },
   {
    "duration": 5,
    "start_time": "2024-03-12T19:00:57.523Z"
   },
   {
    "duration": 7,
    "start_time": "2024-03-12T19:01:00.095Z"
   },
   {
    "duration": 6,
    "start_time": "2024-03-12T19:01:00.498Z"
   },
   {
    "duration": 6,
    "start_time": "2024-03-12T19:01:01.284Z"
   },
   {
    "duration": 8,
    "start_time": "2024-03-12T19:01:01.955Z"
   },
   {
    "duration": 5,
    "start_time": "2024-03-12T19:01:02.413Z"
   },
   {
    "duration": 5,
    "start_time": "2024-03-12T19:01:03.200Z"
   },
   {
    "duration": 3,
    "start_time": "2024-03-12T19:01:19.947Z"
   },
   {
    "duration": 5,
    "start_time": "2024-03-12T19:01:28.019Z"
   },
   {
    "duration": 5,
    "start_time": "2024-03-12T19:01:33.619Z"
   },
   {
    "duration": 5,
    "start_time": "2024-03-12T19:01:36.079Z"
   },
   {
    "duration": 11,
    "start_time": "2024-03-12T19:01:37.441Z"
   },
   {
    "duration": 7,
    "start_time": "2024-03-12T19:01:38.540Z"
   },
   {
    "duration": 6,
    "start_time": "2024-03-12T19:01:55.188Z"
   },
   {
    "duration": 6,
    "start_time": "2024-03-12T19:02:03.426Z"
   },
   {
    "duration": 3,
    "start_time": "2024-03-12T19:02:23.079Z"
   },
   {
    "duration": 4,
    "start_time": "2024-03-12T19:02:30.922Z"
   },
   {
    "duration": 8,
    "start_time": "2024-03-12T19:02:33.647Z"
   },
   {
    "duration": 209,
    "start_time": "2024-03-12T19:02:34.299Z"
   },
   {
    "duration": 6,
    "start_time": "2024-03-12T19:02:34.799Z"
   },
   {
    "duration": 41,
    "start_time": "2024-03-12T19:02:37.247Z"
   },
   {
    "duration": 5,
    "start_time": "2024-03-12T19:02:37.984Z"
   },
   {
    "duration": 5,
    "start_time": "2024-03-12T19:02:38.766Z"
   },
   {
    "duration": 5,
    "start_time": "2024-03-12T19:02:40.419Z"
   },
   {
    "duration": 285,
    "start_time": "2024-03-12T19:02:40.832Z"
   },
   {
    "duration": 6,
    "start_time": "2024-03-12T19:02:41.344Z"
   },
   {
    "duration": 8,
    "start_time": "2024-03-12T19:02:43.680Z"
   },
   {
    "duration": 250,
    "start_time": "2024-03-12T19:02:44.233Z"
   },
   {
    "duration": 239,
    "start_time": "2024-03-12T19:03:04.996Z"
   },
   {
    "duration": 173,
    "start_time": "2024-03-12T19:03:17.250Z"
   },
   {
    "duration": 180,
    "start_time": "2024-03-12T19:03:20.989Z"
   },
   {
    "duration": 179,
    "start_time": "2024-03-12T19:03:59.404Z"
   },
   {
    "duration": 160,
    "start_time": "2024-03-12T19:04:04.457Z"
   },
   {
    "duration": 166,
    "start_time": "2024-03-12T19:04:13.818Z"
   },
   {
    "duration": 183,
    "start_time": "2024-03-12T19:04:17.971Z"
   },
   {
    "duration": 185,
    "start_time": "2024-03-12T19:05:52.201Z"
   },
   {
    "duration": 173,
    "start_time": "2024-03-12T19:05:59.504Z"
   },
   {
    "duration": 188,
    "start_time": "2024-03-12T19:06:05.122Z"
   },
   {
    "duration": 9,
    "start_time": "2024-03-12T19:08:03.254Z"
   },
   {
    "duration": 7,
    "start_time": "2024-03-12T19:08:04.107Z"
   },
   {
    "duration": 117,
    "start_time": "2024-03-12T19:08:07.355Z"
   },
   {
    "duration": 179,
    "start_time": "2024-03-12T19:09:09.223Z"
   },
   {
    "duration": 8,
    "start_time": "2024-03-12T19:09:16.130Z"
   },
   {
    "duration": 126,
    "start_time": "2024-03-12T19:09:17.423Z"
   },
   {
    "duration": 142,
    "start_time": "2024-03-12T19:10:56.351Z"
   },
   {
    "duration": 67,
    "start_time": "2024-03-12T19:13:16.433Z"
   },
   {
    "duration": 84,
    "start_time": "2024-03-12T19:14:22.809Z"
   },
   {
    "duration": 77,
    "start_time": "2024-03-12T19:14:49.660Z"
   },
   {
    "duration": 158,
    "start_time": "2024-03-12T19:16:20.360Z"
   },
   {
    "duration": 161,
    "start_time": "2024-03-12T19:16:30.243Z"
   },
   {
    "duration": 146,
    "start_time": "2024-03-12T19:16:42.780Z"
   },
   {
    "duration": 154,
    "start_time": "2024-03-12T19:16:59.337Z"
   },
   {
    "duration": 166,
    "start_time": "2024-03-12T19:17:05.395Z"
   },
   {
    "duration": 9,
    "start_time": "2024-03-12T19:17:38.453Z"
   },
   {
    "duration": 199,
    "start_time": "2024-03-12T19:17:42.140Z"
   },
   {
    "duration": 279,
    "start_time": "2024-03-12T19:23:51.061Z"
   },
   {
    "duration": 267,
    "start_time": "2024-03-12T19:28:07.103Z"
   },
   {
    "duration": 247,
    "start_time": "2024-03-12T19:28:13.304Z"
   },
   {
    "duration": 168,
    "start_time": "2024-03-12T19:28:19.703Z"
   },
   {
    "duration": 171,
    "start_time": "2024-03-12T19:28:29.901Z"
   },
   {
    "duration": 180,
    "start_time": "2024-03-12T19:28:42.385Z"
   },
   {
    "duration": 175,
    "start_time": "2024-03-12T19:28:59.043Z"
   },
   {
    "duration": 187,
    "start_time": "2024-03-12T19:29:27.351Z"
   },
   {
    "duration": 172,
    "start_time": "2024-03-12T19:29:44.888Z"
   },
   {
    "duration": 243,
    "start_time": "2024-03-12T19:30:04.403Z"
   },
   {
    "duration": 9,
    "start_time": "2024-03-12T19:30:34.239Z"
   },
   {
    "duration": 189,
    "start_time": "2024-03-12T19:30:38.289Z"
   },
   {
    "duration": 216,
    "start_time": "2024-03-12T19:31:23.139Z"
   },
   {
    "duration": 203,
    "start_time": "2024-03-12T19:31:49.146Z"
   },
   {
    "duration": 222,
    "start_time": "2024-03-12T19:32:01.198Z"
   },
   {
    "duration": 208,
    "start_time": "2024-03-12T19:32:59.511Z"
   },
   {
    "duration": 193,
    "start_time": "2024-03-12T19:34:21.400Z"
   },
   {
    "duration": 138,
    "start_time": "2024-03-12T19:36:31.934Z"
   },
   {
    "duration": 134,
    "start_time": "2024-03-12T19:36:36.509Z"
   },
   {
    "duration": 131,
    "start_time": "2024-03-12T19:36:45.421Z"
   },
   {
    "duration": 201,
    "start_time": "2024-03-12T19:39:03.287Z"
   },
   {
    "duration": 218,
    "start_time": "2024-03-12T19:40:15.520Z"
   },
   {
    "duration": 7,
    "start_time": "2024-03-12T19:40:25.628Z"
   },
   {
    "duration": 239,
    "start_time": "2024-03-12T19:42:01.595Z"
   },
   {
    "duration": 325,
    "start_time": "2024-03-12T19:42:23.198Z"
   },
   {
    "duration": 8,
    "start_time": "2024-03-12T19:43:43.755Z"
   },
   {
    "duration": 8,
    "start_time": "2024-03-12T19:44:00.082Z"
   },
   {
    "duration": 226,
    "start_time": "2024-03-12T19:44:10.191Z"
   },
   {
    "duration": 128,
    "start_time": "2024-03-12T19:44:48.371Z"
   },
   {
    "duration": 141,
    "start_time": "2024-03-12T19:46:03.278Z"
   },
   {
    "duration": 123,
    "start_time": "2024-03-12T19:46:32.508Z"
   },
   {
    "duration": 124,
    "start_time": "2024-03-12T19:47:02.372Z"
   },
   {
    "duration": 8,
    "start_time": "2024-03-12T19:47:29.158Z"
   },
   {
    "duration": 199,
    "start_time": "2024-03-12T19:47:32.620Z"
   },
   {
    "duration": 9,
    "start_time": "2024-03-12T19:47:37.794Z"
   },
   {
    "duration": 216,
    "start_time": "2024-03-12T19:47:43.766Z"
   },
   {
    "duration": 7,
    "start_time": "2024-03-12T19:47:58.658Z"
   },
   {
    "duration": 8,
    "start_time": "2024-03-12T19:48:15.505Z"
   },
   {
    "duration": 8,
    "start_time": "2024-03-12T19:48:17.444Z"
   },
   {
    "duration": 274,
    "start_time": "2024-03-12T19:48:24.390Z"
   },
   {
    "duration": 7,
    "start_time": "2024-03-12T19:48:28.722Z"
   },
   {
    "duration": 12,
    "start_time": "2024-03-12T19:49:05.212Z"
   },
   {
    "duration": 75,
    "start_time": "2024-03-12T19:49:11.626Z"
   },
   {
    "duration": 173,
    "start_time": "2024-03-12T19:49:17.946Z"
   },
   {
    "duration": 124,
    "start_time": "2024-03-12T19:49:30.508Z"
   },
   {
    "duration": 121,
    "start_time": "2024-03-12T19:49:36.919Z"
   },
   {
    "duration": 133,
    "start_time": "2024-03-12T19:50:01.204Z"
   },
   {
    "duration": 131,
    "start_time": "2024-03-12T19:50:36.516Z"
   },
   {
    "duration": 168,
    "start_time": "2024-03-12T20:11:00.226Z"
   },
   {
    "duration": 149,
    "start_time": "2024-03-12T20:11:41.306Z"
   },
   {
    "duration": 151,
    "start_time": "2024-03-12T20:11:52.654Z"
   },
   {
    "duration": 148,
    "start_time": "2024-03-12T20:12:02.510Z"
   },
   {
    "duration": 218,
    "start_time": "2024-03-12T20:13:27.429Z"
   },
   {
    "duration": 145,
    "start_time": "2024-03-12T20:13:41.964Z"
   },
   {
    "duration": 151,
    "start_time": "2024-03-12T20:14:30.922Z"
   },
   {
    "duration": 121,
    "start_time": "2024-03-12T20:14:44.295Z"
   },
   {
    "duration": 72,
    "start_time": "2024-03-12T20:15:08.304Z"
   },
   {
    "duration": 120,
    "start_time": "2024-03-12T20:15:11.080Z"
   },
   {
    "duration": 25,
    "start_time": "2024-03-12T20:16:31.555Z"
   },
   {
    "duration": 120,
    "start_time": "2024-03-12T20:17:15.677Z"
   },
   {
    "duration": 151,
    "start_time": "2024-03-12T20:17:30.313Z"
   },
   {
    "duration": 1137,
    "start_time": "2024-03-12T20:18:49.226Z"
   },
   {
    "duration": 140,
    "start_time": "2024-03-12T20:21:46.152Z"
   },
   {
    "duration": 24,
    "start_time": "2024-03-12T20:26:18.139Z"
   },
   {
    "duration": 130,
    "start_time": "2024-03-12T20:27:38.904Z"
   },
   {
    "duration": 164,
    "start_time": "2024-03-12T20:27:49.584Z"
   },
   {
    "duration": 287,
    "start_time": "2024-03-12T20:28:20.763Z"
   },
   {
    "duration": 347,
    "start_time": "2024-03-12T20:30:33.012Z"
   },
   {
    "duration": 290,
    "start_time": "2024-03-12T20:31:02.071Z"
   },
   {
    "duration": 62,
    "start_time": "2024-03-12T20:32:11.818Z"
   },
   {
    "duration": 148,
    "start_time": "2024-03-12T20:32:18.679Z"
   },
   {
    "duration": 325,
    "start_time": "2024-03-12T20:32:33.256Z"
   },
   {
    "duration": 302,
    "start_time": "2024-03-12T20:33:07.474Z"
   },
   {
    "duration": 264,
    "start_time": "2024-03-12T20:33:25.852Z"
   },
   {
    "duration": 5,
    "start_time": "2024-03-12T20:33:33.212Z"
   },
   {
    "duration": 4,
    "start_time": "2024-03-12T20:33:35.338Z"
   },
   {
    "duration": 12,
    "start_time": "2024-03-12T20:33:42.916Z"
   },
   {
    "duration": 125,
    "start_time": "2024-03-12T20:33:50.699Z"
   },
   {
    "duration": 17,
    "start_time": "2024-03-12T20:35:32.241Z"
   },
   {
    "duration": 128,
    "start_time": "2024-03-12T20:35:40.190Z"
   },
   {
    "duration": 207,
    "start_time": "2024-03-12T20:39:43.220Z"
   },
   {
    "duration": 280,
    "start_time": "2024-03-12T20:39:55.169Z"
   },
   {
    "duration": 79,
    "start_time": "2024-03-12T20:42:33.229Z"
   },
   {
    "duration": 131,
    "start_time": "2024-03-12T20:42:52.630Z"
   },
   {
    "duration": 1117,
    "start_time": "2024-03-12T20:44:02.843Z"
   },
   {
    "duration": 17,
    "start_time": "2024-03-12T20:44:09.569Z"
   },
   {
    "duration": 1093,
    "start_time": "2024-03-12T20:44:20.354Z"
   },
   {
    "duration": 3078,
    "start_time": "2024-03-12T20:47:17.282Z"
   },
   {
    "duration": 125,
    "start_time": "2024-03-12T20:47:37.527Z"
   },
   {
    "duration": 159,
    "start_time": "2024-03-12T20:48:24.505Z"
   },
   {
    "duration": 105,
    "start_time": "2024-03-12T20:53:05.680Z"
   },
   {
    "duration": 163,
    "start_time": "2024-03-12T20:53:30.333Z"
   },
   {
    "duration": 160,
    "start_time": "2024-03-12T20:54:35.497Z"
   },
   {
    "duration": 129,
    "start_time": "2024-03-12T20:54:48.634Z"
   },
   {
    "duration": 95,
    "start_time": "2024-03-12T20:55:29.767Z"
   },
   {
    "duration": 18,
    "start_time": "2024-03-12T20:55:50.519Z"
   },
   {
    "duration": 79,
    "start_time": "2024-03-12T20:56:28.378Z"
   },
   {
    "duration": 66,
    "start_time": "2024-03-12T20:56:33.958Z"
   },
   {
    "duration": 72,
    "start_time": "2024-03-12T20:56:36.887Z"
   },
   {
    "duration": 133,
    "start_time": "2024-03-12T20:56:44.040Z"
   },
   {
    "duration": 81,
    "start_time": "2024-03-12T20:57:23.008Z"
   },
   {
    "duration": 13,
    "start_time": "2024-03-12T20:57:28.641Z"
   },
   {
    "duration": 13,
    "start_time": "2024-03-12T20:57:31.329Z"
   },
   {
    "duration": 18,
    "start_time": "2024-03-12T20:57:35.466Z"
   },
   {
    "duration": 45,
    "start_time": "2024-03-12T23:12:28.591Z"
   },
   {
    "duration": 8,
    "start_time": "2024-03-12T23:12:36.233Z"
   },
   {
    "duration": 7,
    "start_time": "2024-03-12T23:12:45.845Z"
   },
   {
    "duration": 6,
    "start_time": "2024-03-12T23:12:49.744Z"
   },
   {
    "duration": 775,
    "start_time": "2024-03-12T23:12:58.253Z"
   },
   {
    "duration": 165,
    "start_time": "2024-03-12T23:12:59.030Z"
   },
   {
    "duration": 43,
    "start_time": "2024-03-12T23:12:59.197Z"
   },
   {
    "duration": 14,
    "start_time": "2024-03-12T23:12:59.242Z"
   },
   {
    "duration": 88,
    "start_time": "2024-03-12T23:12:59.258Z"
   },
   {
    "duration": 21,
    "start_time": "2024-03-12T23:12:59.348Z"
   },
   {
    "duration": 1832,
    "start_time": "2024-03-12T23:12:59.371Z"
   },
   {
    "duration": 9,
    "start_time": "2024-03-12T23:13:01.205Z"
   },
   {
    "duration": 93,
    "start_time": "2024-03-12T23:13:01.215Z"
   },
   {
    "duration": 7,
    "start_time": "2024-03-12T23:13:01.310Z"
   },
   {
    "duration": 70,
    "start_time": "2024-03-12T23:13:01.318Z"
   },
   {
    "duration": 62,
    "start_time": "2024-03-12T23:13:01.390Z"
   },
   {
    "duration": 128,
    "start_time": "2024-03-12T23:13:01.454Z"
   },
   {
    "duration": 0,
    "start_time": "2024-03-12T23:13:01.586Z"
   },
   {
    "duration": 0,
    "start_time": "2024-03-12T23:13:01.587Z"
   },
   {
    "duration": 0,
    "start_time": "2024-03-12T23:13:01.589Z"
   },
   {
    "duration": 0,
    "start_time": "2024-03-12T23:13:01.591Z"
   },
   {
    "duration": 0,
    "start_time": "2024-03-12T23:13:01.592Z"
   },
   {
    "duration": 0,
    "start_time": "2024-03-12T23:13:01.594Z"
   },
   {
    "duration": 0,
    "start_time": "2024-03-12T23:13:01.595Z"
   },
   {
    "duration": 0,
    "start_time": "2024-03-12T23:13:01.597Z"
   },
   {
    "duration": 0,
    "start_time": "2024-03-12T23:13:01.598Z"
   },
   {
    "duration": 0,
    "start_time": "2024-03-12T23:13:01.617Z"
   },
   {
    "duration": 0,
    "start_time": "2024-03-12T23:13:01.621Z"
   },
   {
    "duration": 0,
    "start_time": "2024-03-12T23:13:01.622Z"
   },
   {
    "duration": 0,
    "start_time": "2024-03-12T23:13:01.623Z"
   },
   {
    "duration": 0,
    "start_time": "2024-03-12T23:13:01.625Z"
   },
   {
    "duration": 0,
    "start_time": "2024-03-12T23:13:01.626Z"
   },
   {
    "duration": 0,
    "start_time": "2024-03-12T23:13:01.627Z"
   },
   {
    "duration": 0,
    "start_time": "2024-03-12T23:13:01.628Z"
   },
   {
    "duration": 0,
    "start_time": "2024-03-12T23:13:01.629Z"
   },
   {
    "duration": 0,
    "start_time": "2024-03-12T23:13:01.630Z"
   },
   {
    "duration": 0,
    "start_time": "2024-03-12T23:13:01.631Z"
   },
   {
    "duration": 0,
    "start_time": "2024-03-12T23:13:01.632Z"
   },
   {
    "duration": 0,
    "start_time": "2024-03-12T23:13:01.633Z"
   },
   {
    "duration": 0,
    "start_time": "2024-03-12T23:13:01.634Z"
   },
   {
    "duration": 0,
    "start_time": "2024-03-12T23:13:01.635Z"
   },
   {
    "duration": 0,
    "start_time": "2024-03-12T23:13:01.636Z"
   },
   {
    "duration": 0,
    "start_time": "2024-03-12T23:13:01.637Z"
   },
   {
    "duration": 0,
    "start_time": "2024-03-12T23:13:01.638Z"
   },
   {
    "duration": 0,
    "start_time": "2024-03-12T23:13:01.639Z"
   },
   {
    "duration": 1,
    "start_time": "2024-03-12T23:13:01.639Z"
   },
   {
    "duration": 0,
    "start_time": "2024-03-12T23:13:01.641Z"
   },
   {
    "duration": 0,
    "start_time": "2024-03-12T23:13:01.642Z"
   },
   {
    "duration": 0,
    "start_time": "2024-03-12T23:13:01.643Z"
   },
   {
    "duration": 0,
    "start_time": "2024-03-12T23:13:01.644Z"
   },
   {
    "duration": 0,
    "start_time": "2024-03-12T23:13:01.645Z"
   },
   {
    "duration": 0,
    "start_time": "2024-03-12T23:13:01.646Z"
   },
   {
    "duration": 0,
    "start_time": "2024-03-12T23:13:01.647Z"
   },
   {
    "duration": 0,
    "start_time": "2024-03-12T23:13:01.648Z"
   },
   {
    "duration": 0,
    "start_time": "2024-03-12T23:13:01.649Z"
   },
   {
    "duration": 0,
    "start_time": "2024-03-12T23:13:01.650Z"
   },
   {
    "duration": 0,
    "start_time": "2024-03-12T23:13:01.652Z"
   },
   {
    "duration": 0,
    "start_time": "2024-03-12T23:13:01.653Z"
   },
   {
    "duration": 0,
    "start_time": "2024-03-12T23:13:01.718Z"
   },
   {
    "duration": 0,
    "start_time": "2024-03-12T23:13:01.719Z"
   },
   {
    "duration": 0,
    "start_time": "2024-03-12T23:13:01.720Z"
   },
   {
    "duration": 0,
    "start_time": "2024-03-12T23:13:01.720Z"
   },
   {
    "duration": 0,
    "start_time": "2024-03-12T23:13:01.721Z"
   },
   {
    "duration": 0,
    "start_time": "2024-03-12T23:13:01.723Z"
   },
   {
    "duration": 0,
    "start_time": "2024-03-12T23:13:01.723Z"
   },
   {
    "duration": 0,
    "start_time": "2024-03-12T23:13:01.724Z"
   },
   {
    "duration": 0,
    "start_time": "2024-03-12T23:13:01.725Z"
   },
   {
    "duration": 0,
    "start_time": "2024-03-12T23:13:01.726Z"
   },
   {
    "duration": 0,
    "start_time": "2024-03-12T23:13:01.727Z"
   },
   {
    "duration": 0,
    "start_time": "2024-03-12T23:13:01.728Z"
   },
   {
    "duration": 0,
    "start_time": "2024-03-12T23:13:01.729Z"
   },
   {
    "duration": 0,
    "start_time": "2024-03-12T23:13:01.730Z"
   },
   {
    "duration": 0,
    "start_time": "2024-03-12T23:13:01.731Z"
   },
   {
    "duration": 0,
    "start_time": "2024-03-12T23:13:01.732Z"
   },
   {
    "duration": 1,
    "start_time": "2024-03-12T23:13:01.733Z"
   },
   {
    "duration": 0,
    "start_time": "2024-03-12T23:13:01.735Z"
   },
   {
    "duration": 0,
    "start_time": "2024-03-12T23:13:01.736Z"
   },
   {
    "duration": 0,
    "start_time": "2024-03-12T23:13:01.736Z"
   },
   {
    "duration": 0,
    "start_time": "2024-03-12T23:13:01.738Z"
   },
   {
    "duration": 0,
    "start_time": "2024-03-12T23:13:01.739Z"
   },
   {
    "duration": 0,
    "start_time": "2024-03-12T23:13:01.740Z"
   },
   {
    "duration": 0,
    "start_time": "2024-03-12T23:13:01.741Z"
   },
   {
    "duration": 0,
    "start_time": "2024-03-12T23:13:01.742Z"
   },
   {
    "duration": 0,
    "start_time": "2024-03-12T23:13:01.743Z"
   },
   {
    "duration": 0,
    "start_time": "2024-03-12T23:13:01.744Z"
   },
   {
    "duration": 0,
    "start_time": "2024-03-12T23:13:01.744Z"
   },
   {
    "duration": 18,
    "start_time": "2024-03-12T23:13:08.200Z"
   },
   {
    "duration": 15,
    "start_time": "2024-03-12T23:13:37.113Z"
   },
   {
    "duration": 106,
    "start_time": "2024-03-12T23:14:00.676Z"
   },
   {
    "duration": 77,
    "start_time": "2024-03-12T23:14:03.632Z"
   },
   {
    "duration": 143,
    "start_time": "2024-03-12T23:15:04.180Z"
   },
   {
    "duration": 139,
    "start_time": "2024-03-12T23:15:05.381Z"
   },
   {
    "duration": 124,
    "start_time": "2024-03-12T23:15:06.581Z"
   },
   {
    "duration": 150,
    "start_time": "2024-03-12T23:15:07.117Z"
   },
   {
    "duration": 13,
    "start_time": "2024-03-12T23:15:07.548Z"
   },
   {
    "duration": 13,
    "start_time": "2024-03-12T23:15:07.766Z"
   },
   {
    "duration": 11,
    "start_time": "2024-03-12T23:15:07.953Z"
   },
   {
    "duration": 13,
    "start_time": "2024-03-12T23:15:14.408Z"
   },
   {
    "duration": 2,
    "start_time": "2024-03-12T23:15:23.359Z"
   },
   {
    "duration": 163,
    "start_time": "2024-03-12T23:15:23.797Z"
   },
   {
    "duration": 42,
    "start_time": "2024-03-12T23:15:25.507Z"
   },
   {
    "duration": 14,
    "start_time": "2024-03-12T23:15:26.645Z"
   },
   {
    "duration": 66,
    "start_time": "2024-03-12T23:15:27.477Z"
   },
   {
    "duration": 19,
    "start_time": "2024-03-12T23:15:27.962Z"
   },
   {
    "duration": 1762,
    "start_time": "2024-03-12T23:15:29.168Z"
   },
   {
    "duration": 10,
    "start_time": "2024-03-12T23:15:30.931Z"
   },
   {
    "duration": 16,
    "start_time": "2024-03-12T23:15:31.049Z"
   },
   {
    "duration": 5,
    "start_time": "2024-03-12T23:15:31.219Z"
   },
   {
    "duration": 8,
    "start_time": "2024-03-12T23:15:31.584Z"
   },
   {
    "duration": 5,
    "start_time": "2024-03-12T23:15:31.991Z"
   },
   {
    "duration": 13,
    "start_time": "2024-03-12T23:15:32.359Z"
   },
   {
    "duration": 13,
    "start_time": "2024-03-12T23:15:36.532Z"
   },
   {
    "duration": 7,
    "start_time": "2024-03-12T23:15:46.267Z"
   },
   {
    "duration": 12,
    "start_time": "2024-03-12T23:17:17.213Z"
   },
   {
    "duration": 7,
    "start_time": "2024-03-12T23:17:21.897Z"
   },
   {
    "duration": 10,
    "start_time": "2024-03-12T23:17:22.967Z"
   },
   {
    "duration": 5,
    "start_time": "2024-03-12T23:17:23.459Z"
   },
   {
    "duration": 7,
    "start_time": "2024-03-12T23:17:25.956Z"
   },
   {
    "duration": 5,
    "start_time": "2024-03-12T23:17:26.406Z"
   },
   {
    "duration": 5,
    "start_time": "2024-03-12T23:17:27.316Z"
   },
   {
    "duration": 6,
    "start_time": "2024-03-12T23:17:27.663Z"
   },
   {
    "duration": 16,
    "start_time": "2024-03-12T23:17:28.010Z"
   },
   {
    "duration": 7,
    "start_time": "2024-03-12T23:17:28.352Z"
   },
   {
    "duration": 7,
    "start_time": "2024-03-12T23:17:28.703Z"
   },
   {
    "duration": 8,
    "start_time": "2024-03-12T23:17:29.073Z"
   },
   {
    "duration": 5,
    "start_time": "2024-03-12T23:17:29.432Z"
   },
   {
    "duration": 5,
    "start_time": "2024-03-12T23:17:30.176Z"
   },
   {
    "duration": 7,
    "start_time": "2024-03-12T23:17:30.360Z"
   },
   {
    "duration": 6,
    "start_time": "2024-03-12T23:17:30.747Z"
   },
   {
    "duration": 7,
    "start_time": "2024-03-12T23:17:31.158Z"
   },
   {
    "duration": 6,
    "start_time": "2024-03-12T23:17:31.349Z"
   },
   {
    "duration": 6,
    "start_time": "2024-03-12T23:17:31.749Z"
   },
   {
    "duration": 6,
    "start_time": "2024-03-12T23:17:33.107Z"
   },
   {
    "duration": 4,
    "start_time": "2024-03-12T23:17:42.348Z"
   },
   {
    "duration": 5,
    "start_time": "2024-03-12T23:17:42.994Z"
   },
   {
    "duration": 11,
    "start_time": "2024-03-12T23:17:43.864Z"
   },
   {
    "duration": 7,
    "start_time": "2024-03-12T23:17:44.232Z"
   },
   {
    "duration": 4,
    "start_time": "2024-03-12T23:17:44.849Z"
   },
   {
    "duration": 9,
    "start_time": "2024-03-12T23:17:45.664Z"
   },
   {
    "duration": 218,
    "start_time": "2024-03-12T23:17:47.101Z"
   },
   {
    "duration": 7,
    "start_time": "2024-03-12T23:17:48.051Z"
   },
   {
    "duration": 3,
    "start_time": "2024-03-12T23:18:05.571Z"
   },
   {
    "duration": 8,
    "start_time": "2024-03-12T23:18:06.729Z"
   },
   {
    "duration": 209,
    "start_time": "2024-03-12T23:18:07.496Z"
   },
   {
    "duration": 6,
    "start_time": "2024-03-12T23:18:08.085Z"
   },
   {
    "duration": 42,
    "start_time": "2024-03-12T23:18:10.539Z"
   },
   {
    "duration": 5,
    "start_time": "2024-03-12T23:18:11.160Z"
   },
   {
    "duration": 6,
    "start_time": "2024-03-12T23:18:11.587Z"
   },
   {
    "duration": 5,
    "start_time": "2024-03-12T23:18:12.417Z"
   },
   {
    "duration": 291,
    "start_time": "2024-03-12T23:18:12.879Z"
   },
   {
    "duration": 7,
    "start_time": "2024-03-12T23:18:13.362Z"
   },
   {
    "duration": 9,
    "start_time": "2024-03-12T23:18:14.916Z"
   },
   {
    "duration": 383,
    "start_time": "2024-03-12T23:18:15.550Z"
   },
   {
    "duration": 10,
    "start_time": "2024-03-12T23:18:19.840Z"
   },
   {
    "duration": 219,
    "start_time": "2024-03-12T23:18:20.283Z"
   },
   {
    "duration": 8,
    "start_time": "2024-03-12T23:18:21.476Z"
   },
   {
    "duration": 250,
    "start_time": "2024-03-12T23:18:21.983Z"
   },
   {
    "duration": 8,
    "start_time": "2024-03-12T23:18:23.065Z"
   },
   {
    "duration": 202,
    "start_time": "2024-03-12T23:18:23.807Z"
   },
   {
    "duration": 8,
    "start_time": "2024-03-12T23:18:24.522Z"
   },
   {
    "duration": 176,
    "start_time": "2024-03-12T23:18:24.864Z"
   },
   {
    "duration": 11,
    "start_time": "2024-03-12T23:18:26.192Z"
   },
   {
    "duration": 190,
    "start_time": "2024-03-12T23:18:26.608Z"
   },
   {
    "duration": 9,
    "start_time": "2024-03-12T23:18:28.434Z"
   },
   {
    "duration": 7,
    "start_time": "2024-03-12T23:18:28.937Z"
   },
   {
    "duration": 124,
    "start_time": "2024-03-12T23:18:29.325Z"
   },
   {
    "duration": 9,
    "start_time": "2024-03-12T23:18:30.821Z"
   },
   {
    "duration": 261,
    "start_time": "2024-03-12T23:18:31.257Z"
   },
   {
    "duration": 9,
    "start_time": "2024-03-12T23:18:31.696Z"
   },
   {
    "duration": 206,
    "start_time": "2024-03-12T23:18:31.887Z"
   },
   {
    "duration": 8,
    "start_time": "2024-03-12T23:18:32.272Z"
   },
   {
    "duration": 230,
    "start_time": "2024-03-12T23:18:32.471Z"
   },
   {
    "duration": 269,
    "start_time": "2024-03-12T23:18:33.501Z"
   },
   {
    "duration": 8,
    "start_time": "2024-03-12T23:18:33.772Z"
   },
   {
    "duration": 17,
    "start_time": "2024-03-12T23:18:34.448Z"
   },
   {
    "duration": 151,
    "start_time": "2024-03-12T23:18:35.254Z"
   },
   {
    "duration": 149,
    "start_time": "2024-03-12T23:18:35.461Z"
   },
   {
    "duration": 133,
    "start_time": "2024-03-12T23:18:35.844Z"
   },
   {
    "duration": 144,
    "start_time": "2024-03-12T23:18:36.049Z"
   },
   {
    "duration": 145,
    "start_time": "2024-03-12T23:18:36.262Z"
   },
   {
    "duration": 218,
    "start_time": "2024-03-12T23:18:36.487Z"
   },
   {
    "duration": 131,
    "start_time": "2024-03-12T23:18:43.404Z"
   },
   {
    "duration": 143,
    "start_time": "2024-03-12T23:18:45.478Z"
   },
   {
    "duration": 319,
    "start_time": "2024-03-12T23:18:48.784Z"
   },
   {
    "duration": 5,
    "start_time": "2024-03-12T23:18:51.402Z"
   },
   {
    "duration": 6,
    "start_time": "2024-03-12T23:18:51.907Z"
   },
   {
    "duration": 14,
    "start_time": "2024-03-12T23:18:52.502Z"
   },
   {
    "duration": 71,
    "start_time": "2024-03-12T23:18:53.033Z"
   },
   {
    "duration": 72,
    "start_time": "2024-03-12T23:19:05.104Z"
   },
   {
    "duration": 75,
    "start_time": "2024-03-12T23:19:11.696Z"
   },
   {
    "duration": 71,
    "start_time": "2024-03-12T23:19:37.499Z"
   },
   {
    "duration": 136,
    "start_time": "2024-03-12T23:19:50.727Z"
   },
   {
    "duration": 152,
    "start_time": "2024-03-12T23:20:09.493Z"
   },
   {
    "duration": 302,
    "start_time": "2024-03-12T23:20:25.598Z"
   },
   {
    "duration": 159,
    "start_time": "2024-03-12T23:20:31.546Z"
   },
   {
    "duration": 198,
    "start_time": "2024-03-12T23:20:40.181Z"
   },
   {
    "duration": 144,
    "start_time": "2024-03-12T23:20:42.680Z"
   },
   {
    "duration": 137,
    "start_time": "2024-03-12T23:20:45.384Z"
   },
   {
    "duration": 159,
    "start_time": "2024-03-12T23:21:45.050Z"
   },
   {
    "duration": 182,
    "start_time": "2024-03-12T23:22:34.573Z"
   },
   {
    "duration": 176,
    "start_time": "2024-03-12T23:22:44.291Z"
   },
   {
    "duration": 158,
    "start_time": "2024-03-12T23:23:00.125Z"
   },
   {
    "duration": 176,
    "start_time": "2024-03-12T23:25:58.156Z"
   },
   {
    "duration": 179,
    "start_time": "2024-03-12T23:26:25.106Z"
   },
   {
    "duration": 176,
    "start_time": "2024-03-12T23:26:57.133Z"
   },
   {
    "duration": 177,
    "start_time": "2024-03-12T23:28:40.686Z"
   },
   {
    "duration": 7,
    "start_time": "2024-03-12T23:32:11.130Z"
   },
   {
    "duration": 9,
    "start_time": "2024-03-12T23:32:32.069Z"
   },
   {
    "duration": 5,
    "start_time": "2024-03-12T23:32:36.654Z"
   },
   {
    "duration": 7,
    "start_time": "2024-03-12T23:32:46.627Z"
   },
   {
    "duration": 2,
    "start_time": "2024-03-12T23:33:45.187Z"
   },
   {
    "duration": 7,
    "start_time": "2024-03-12T23:34:45.310Z"
   },
   {
    "duration": 7,
    "start_time": "2024-03-12T23:34:49.798Z"
   },
   {
    "duration": 13,
    "start_time": "2024-03-12T23:35:10.702Z"
   },
   {
    "duration": 8,
    "start_time": "2024-03-12T23:36:42.185Z"
   },
   {
    "duration": 281,
    "start_time": "2024-03-12T23:39:22.077Z"
   },
   {
    "duration": 630,
    "start_time": "2024-03-13T05:10:42.109Z"
   },
   {
    "duration": 221,
    "start_time": "2024-03-13T05:10:42.741Z"
   },
   {
    "duration": 43,
    "start_time": "2024-03-13T05:10:42.963Z"
   },
   {
    "duration": 13,
    "start_time": "2024-03-13T05:10:43.008Z"
   },
   {
    "duration": 84,
    "start_time": "2024-03-13T05:10:43.022Z"
   },
   {
    "duration": 20,
    "start_time": "2024-03-13T05:10:43.108Z"
   },
   {
    "duration": 1839,
    "start_time": "2024-03-13T05:10:43.129Z"
   },
   {
    "duration": 9,
    "start_time": "2024-03-13T05:10:44.970Z"
   },
   {
    "duration": 55,
    "start_time": "2024-03-13T05:10:44.993Z"
   },
   {
    "duration": 5,
    "start_time": "2024-03-13T05:10:45.051Z"
   },
   {
    "duration": 36,
    "start_time": "2024-03-13T05:10:45.058Z"
   },
   {
    "duration": 34,
    "start_time": "2024-03-13T05:10:45.096Z"
   },
   {
    "duration": 49,
    "start_time": "2024-03-13T05:10:45.132Z"
   },
   {
    "duration": 45,
    "start_time": "2024-03-13T05:10:45.183Z"
   },
   {
    "duration": 44,
    "start_time": "2024-03-13T05:10:45.230Z"
   },
   {
    "duration": 32,
    "start_time": "2024-03-13T05:10:45.276Z"
   },
   {
    "duration": 70,
    "start_time": "2024-03-13T05:10:45.310Z"
   },
   {
    "duration": 44,
    "start_time": "2024-03-13T05:10:45.381Z"
   },
   {
    "duration": 31,
    "start_time": "2024-03-13T05:10:45.427Z"
   },
   {
    "duration": 35,
    "start_time": "2024-03-13T05:10:45.459Z"
   },
   {
    "duration": 36,
    "start_time": "2024-03-13T05:10:45.495Z"
   },
   {
    "duration": 36,
    "start_time": "2024-03-13T05:10:45.532Z"
   },
   {
    "duration": 33,
    "start_time": "2024-03-13T05:10:45.569Z"
   },
   {
    "duration": 42,
    "start_time": "2024-03-13T05:10:45.604Z"
   },
   {
    "duration": 14,
    "start_time": "2024-03-13T05:10:45.647Z"
   },
   {
    "duration": 13,
    "start_time": "2024-03-13T05:10:45.662Z"
   },
   {
    "duration": 13,
    "start_time": "2024-03-13T05:10:45.676Z"
   },
   {
    "duration": 6,
    "start_time": "2024-03-13T05:10:45.694Z"
   },
   {
    "duration": 10,
    "start_time": "2024-03-13T05:10:45.701Z"
   },
   {
    "duration": 4,
    "start_time": "2024-03-13T05:10:45.712Z"
   },
   {
    "duration": 7,
    "start_time": "2024-03-13T05:10:45.717Z"
   },
   {
    "duration": 12,
    "start_time": "2024-03-13T05:10:45.725Z"
   },
   {
    "duration": 4,
    "start_time": "2024-03-13T05:10:45.738Z"
   },
   {
    "duration": 6,
    "start_time": "2024-03-13T05:10:45.744Z"
   },
   {
    "duration": 12,
    "start_time": "2024-03-13T05:10:45.751Z"
   },
   {
    "duration": 34,
    "start_time": "2024-03-13T05:10:45.765Z"
   },
   {
    "duration": 6,
    "start_time": "2024-03-13T05:10:45.801Z"
   },
   {
    "duration": 12,
    "start_time": "2024-03-13T05:10:45.808Z"
   },
   {
    "duration": 219,
    "start_time": "2024-03-13T05:10:45.821Z"
   },
   {
    "duration": 6,
    "start_time": "2024-03-13T05:10:46.041Z"
   },
   {
    "duration": 56,
    "start_time": "2024-03-13T05:10:46.049Z"
   },
   {
    "duration": 6,
    "start_time": "2024-03-13T05:10:46.106Z"
   },
   {
    "duration": 15,
    "start_time": "2024-03-13T05:10:46.113Z"
   },
   {
    "duration": 6,
    "start_time": "2024-03-13T05:10:46.129Z"
   },
   {
    "duration": 329,
    "start_time": "2024-03-13T05:10:46.136Z"
   },
   {
    "duration": 7,
    "start_time": "2024-03-13T05:10:46.467Z"
   },
   {
    "duration": 33,
    "start_time": "2024-03-13T05:10:46.475Z"
   },
   {
    "duration": 298,
    "start_time": "2024-03-13T05:10:46.509Z"
   },
   {
    "duration": 7,
    "start_time": "2024-03-13T05:10:46.809Z"
   },
   {
    "duration": 305,
    "start_time": "2024-03-13T05:10:46.818Z"
   },
   {
    "duration": 8,
    "start_time": "2024-03-13T05:10:47.125Z"
   },
   {
    "duration": 234,
    "start_time": "2024-03-13T05:10:47.135Z"
   },
   {
    "duration": 8,
    "start_time": "2024-03-13T05:10:47.370Z"
   },
   {
    "duration": 250,
    "start_time": "2024-03-13T05:10:47.379Z"
   },
   {
    "duration": 7,
    "start_time": "2024-03-13T05:10:47.631Z"
   },
   {
    "duration": 212,
    "start_time": "2024-03-13T05:10:47.639Z"
   },
   {
    "duration": 8,
    "start_time": "2024-03-13T05:10:47.852Z"
   },
   {
    "duration": 225,
    "start_time": "2024-03-13T05:10:47.861Z"
   },
   {
    "duration": 11,
    "start_time": "2024-03-13T05:10:48.087Z"
   },
   {
    "duration": 35,
    "start_time": "2024-03-13T05:10:48.099Z"
   },
   {
    "duration": 138,
    "start_time": "2024-03-13T05:10:48.136Z"
   },
   {
    "duration": 7,
    "start_time": "2024-03-13T05:10:48.275Z"
   },
   {
    "duration": 163,
    "start_time": "2024-03-13T05:10:48.284Z"
   },
   {
    "duration": 8,
    "start_time": "2024-03-13T05:10:48.449Z"
   },
   {
    "duration": 198,
    "start_time": "2024-03-13T05:10:48.458Z"
   },
   {
    "duration": 8,
    "start_time": "2024-03-13T05:10:48.658Z"
   },
   {
    "duration": 334,
    "start_time": "2024-03-13T05:10:48.667Z"
   },
   {
    "duration": 244,
    "start_time": "2024-03-13T05:10:49.003Z"
   },
   {
    "duration": 9,
    "start_time": "2024-03-13T05:10:49.249Z"
   },
   {
    "duration": 36,
    "start_time": "2024-03-13T05:10:49.259Z"
   },
   {
    "duration": 159,
    "start_time": "2024-03-13T05:10:49.297Z"
   },
   {
    "duration": 147,
    "start_time": "2024-03-13T05:10:49.458Z"
   },
   {
    "duration": 136,
    "start_time": "2024-03-13T05:10:49.606Z"
   },
   {
    "duration": 144,
    "start_time": "2024-03-13T05:10:49.744Z"
   },
   {
    "duration": 151,
    "start_time": "2024-03-13T05:10:49.889Z"
   },
   {
    "duration": 165,
    "start_time": "2024-03-13T05:10:50.042Z"
   },
   {
    "duration": 137,
    "start_time": "2024-03-13T05:10:50.208Z"
   },
   {
    "duration": 366,
    "start_time": "2024-03-13T05:10:50.346Z"
   },
   {
    "duration": 5,
    "start_time": "2024-03-13T05:10:50.714Z"
   },
   {
    "duration": 19,
    "start_time": "2024-03-13T05:10:50.720Z"
   },
   {
    "duration": 27,
    "start_time": "2024-03-13T05:10:50.740Z"
   },
   {
    "duration": 171,
    "start_time": "2024-03-13T05:10:50.772Z"
   },
   {
    "duration": 13,
    "start_time": "2024-03-13T05:14:13.062Z"
   }
  ],
  "kernelspec": {
   "display_name": "Python 3 (ipykernel)",
   "language": "python",
   "name": "python3"
  },
  "language_info": {
   "codemirror_mode": {
    "name": "ipython",
    "version": 3
   },
   "file_extension": ".py",
   "mimetype": "text/x-python",
   "name": "python",
   "nbconvert_exporter": "python",
   "pygments_lexer": "ipython3",
   "version": "3.11.5"
  },
  "toc": {
   "base_numbering": 1,
   "nav_menu": {},
   "number_sections": true,
   "sideBar": true,
   "skip_h1_title": true,
   "title_cell": "Содержание",
   "title_sidebar": "Contents",
   "toc_cell": true,
   "toc_position": {
    "height": "calc(100% - 180px)",
    "left": "10px",
    "top": "150px",
    "width": "255.652176px"
   },
   "toc_section_display": true,
   "toc_window_display": false
  }
 },
 "nbformat": 4,
 "nbformat_minor": 5
}
